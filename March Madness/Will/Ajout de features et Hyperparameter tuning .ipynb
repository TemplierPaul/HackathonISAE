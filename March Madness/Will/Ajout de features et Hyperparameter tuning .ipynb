{
 "cells": [
  {
   "cell_type": "code",
   "execution_count": 1,
   "metadata": {},
   "outputs": [],
   "source": [
    "import numpy as np #import numpy drives sklearn to use numpy arrays instead of python lists\n",
    "import pandas as pd #CSV and dataframe handling\n",
    "import matplotlib.pyplot as plt\n",
    "\n",
    "# Regressors\n",
    "from sklearn.ensemble import RandomForestClassifier\n",
    "\n",
    "from sklearn.model_selection import train_test_split\n",
    "from sklearn.decomposition import PCA\n",
    "from sklearn.preprocessing import StandardScaler\n",
    "from sklearn.metrics import mean_squared_error, r2_score"
   ]
  },
  {
   "cell_type": "markdown",
   "metadata": {},
   "source": [
    "<div class = 'alert alert-info'>\n",
    "    \n",
    "**Import the data**"
   ]
  },
  {
   "cell_type": "code",
   "execution_count": 2,
   "metadata": {},
   "outputs": [],
   "source": [
    "import pandas as pd\n",
    "\n",
    "# Section 1\n",
    "MTeams_Stage1 = pd.read_csv('../data/MDataFiles_Stage1/MTeams.csv')\n",
    "# MTeams_Stage2 = pd.read_csv('../data/MDataFiles_Stage2/MTeams.csv')\n",
    "\n",
    "MTSeasons_Stage1 = pd.read_csv('../data/MDataFiles_Stage1/MSeasons.csv')\n",
    "# MTSeasons_Stage2 = pd.read_csv('../data/MDataFiles_Stage2/MSeasons.csv')\n",
    "\n",
    "MNCAATourneySeeds_Stage1 = pd.read_csv('../data/MDataFiles_Stage1/MNCAATourneySeeds.csv')\n",
    "# MNCAATourneySeeds_Stage2 = pd.read_csv('../data/MDataFiles_Stage2/MNCAATourneySeeds.csv')\n",
    "\n",
    "MRegularSeasonCompactResults_Stage1 = pd.read_csv('../data/MDataFiles_Stage1/MRegularSeasonCompactResults.csv')\n",
    "# MRegularSeasonCompactResults_Stage2 = pd.read_csv('../data/MDataFiles_Stage2/MRegularSeasonCompactResults.csv')\n",
    "\n",
    "MNCAATourneyCompactResults_Stage1 = pd.read_csv('../data/MDataFiles_Stage1/MNCAATourneyCompactResults.csv')\n",
    "# MNCAATourneyCompact1Results_Stage2 = pd.read_csv('../data/MDataFiles_Stage2/MNCAATourneyCompactResults.csv')"
   ]
  },
  {
   "cell_type": "code",
   "execution_count": 3,
   "metadata": {},
   "outputs": [],
   "source": [
    "# Section 2\n",
    "\n",
    "# MRegularSeasonDetailedResults_Stage1 = pd.read_csv('../data/MDataFiles_Stage1/MRegularSeasonDetailedResults.csv')\n",
    "# MRegularSeasonDetailedResults_Stage2 = pd.read_csv('../data/MDataFiles_Stage2/MRegularSeasonDetailedResults.csv')\n",
    "\n",
    "# MNCAATourneyDetailedResults_Stage1 = pd.read_csv('../data/MDataFiles_Stage1/MNCAATourneyDetailedResults.csv')\n",
    "# MNCAATourneyDetailedResults_Stage2 = pd.read_csv('../data/MDataFiles_Stage2/MNCAATourneyDetailedResults.csv')"
   ]
  },
  {
   "cell_type": "code",
   "execution_count": 4,
   "metadata": {},
   "outputs": [],
   "source": [
    "# Section 3\n",
    "\n",
    "# Cities_Stage1 = pd.read_csv('../data/MDataFiles_Stage1/Cities.csv')\n",
    "# Cities_Stage2 = pd.read_csv('../data/MDataFiles_Stage2/Cities.csv')\n",
    "\n",
    "# MGameCities_Stage1 = pd.read_csv('../data/MDataFiles_Stage1/MGameCities.csv')\n",
    "# MGameCities_Stage2 = pd.read_csv('../data/MDataFiles_Stage2/MGameCities.csv')"
   ]
  },
  {
   "cell_type": "code",
   "execution_count": 5,
   "metadata": {},
   "outputs": [],
   "source": [
    "# Section 4\n",
    "\n",
    "# MMasseyOrdinals_Stage1 = pd.read_csv('../data/MDataFiles_Stage1/MMasseyOrdinals.csv')\n",
    "# MMasseyOrdinals_Stage2 = pd.read_csv('../data/MDataFiles_Stage2/MMasseyOrdinals.csv')"
   ]
  },
  {
   "cell_type": "code",
   "execution_count": 6,
   "metadata": {},
   "outputs": [],
   "source": [
    "# Section 5\n",
    "\n",
    "# MEvents2015 = pd.read_csv('../data/MEvents2015.csv')\n",
    "# MEvents2016 = pd.read_csv('../data/MEvents2016.csv')\n",
    "# MEvents2017 = pd.read_csv('../data/MEvents2017.csv')\n",
    "# MEvents2018 = pd.read_csv('../data/MEvents2018.csv')\n",
    "# MEvents2019 = pd.read_csv('../data/MEvents2019.csv')\n",
    "# MPlayers    = pd.read_csv('../data/MPlayers.csv')"
   ]
  },
  {
   "cell_type": "code",
   "execution_count": 7,
   "metadata": {},
   "outputs": [],
   "source": [
    "# Section 6\n",
    "\n",
    "# MTeamCoaches_Stage1 = pd.read_csv('../data/MDataFiles_Stage1/MTeamCoaches.csv')\n",
    "# MTeamCoaches_Stage2 = pd.read_csv('../data/MDataFiles_Stage2/MTeamCoaches.csv')\n",
    "\n",
    "# Conferences_Stage1  = pd.read_csv('../data/MDataFiles_Stage1/Conferences.csv')\n",
    "# Conferences_Stage2  = pd.read_csv('../data/MDataFiles_Stage2/Conferences.csv')\n",
    "\n",
    "# MTeamConferences_Stage1 = pd.read_csv('../data/MDataFiles_Stage1/MTeamConferences.csv')\n",
    "# MTeamConferences_Stage2 = pd.read_csv('../data/MDataFiles_Stage2/MTeamConferences.csv')\n",
    "\n",
    "# MConferenceTourneyGames_Stage1 = pd.read_csv('../data/MDataFiles_Stage1/MConferenceTourneyGames.csv')\n",
    "# MConferenceTourneyGames_Stage2 = pd.read_csv('../data/MDataFiles_Stage2/MConferenceTourneyGames.csv')\n",
    "\n",
    "# MSecondaryTourneyTeams_Stage1 = pd.read_csv('../data/MDataFiles_Stage1/MSecondaryTourneyTeams.csv')\n",
    "# MSecondaryTourneyTeams_Stage2 = pd.read_csv('../data/MDataFiles_Stage2/MSecondaryTourneyTeams.csv')\n",
    "\n",
    "# MSecondaryTourneyCompactResults_Stage1 = pd.read_csv('../data/MDataFiles_Stage1/MSecondaryTourneyCompactResults.csv')\n",
    "# MSecondaryTourneyCompactResults_Stage2 = pd.read_csv('../data/MDataFiles_Stage2/MSecondaryTourneyCompactResults.csv')\n",
    "\n",
    "# MTeamSpellings_Stage1 = pd.read_csv('../data/MDataFiles_Stage1/MTeamSpellings.csv', encoding = \"ISO-8859-1\", low_memory=False)\n",
    "# MTeamSpellings_Stage2 = pd.read_csv('../data/MDataFiles_Stage2/MTeamSpellings.csv', encoding = \"ISO-8859-1\", low_memory=False)\n",
    "\n",
    "# MNCAATourneySlots_Stage1 = pd.read_csv('../data/MDataFiles_Stage1/MNCAATourneySlots.csv')\n",
    "# MNCAATourneySlots_Stage2 = pd.read_csv('../data/MDataFiles_Stage2/MNCAATourneySlots.csv')\n",
    "\n",
    "# MNCAATourneySeedRoundSlots_Stage1 = pd.read_csv('../data/MDataFiles_Stage1/MNCAATourneySeedRoundSlots.csv')\n",
    "# MNCAATourneySeedRoundSlots_Stage2 = pd.read_csv('../data/MDataFiles_Stage2/MNCAATourneySeedRoundSlots.csv')"
   ]
  },
  {
   "cell_type": "markdown",
   "metadata": {},
   "source": [
    "<div class='alert alert-danger'>\n",
    "    \n",
    "**Gridsearch pour le tuning d'hyperparamètres du RandomForestClassifier**<br>\n",
    "**Features \"grossières**"
   ]
  },
  {
   "cell_type": "markdown",
   "metadata": {},
   "source": [
    "## Prédictions pour chacune des saisons de 2015 à 2019"
   ]
  },
  {
   "cell_type": "code",
   "execution_count": 1,
   "metadata": {
    "scrolled": false
   },
   "outputs": [
    {
     "name": "stdout",
     "output_type": "stream",
     "text": [
      "[1985 1986 1987 1988 1989 1990 1991 1992 1993 1994 1995 1996 1997 1998\n",
      " 1999 2000 2001 2002 2003 2004 2005 2006 2007 2008 2009 2010 2011 2012\n",
      " 2013 2014]\n",
      "History merged with stats_v1.csv\n",
      "Difference computed on Win rate\n",
      "Difference computed on Seed\n",
      "Difference computed on Mean score\n",
      "Generated matches merged with stats_v1.csv\n",
      "Result saved as test_2015.csv\n",
      "[1985 1986 1987 1988 1989 1990 1991 1992 1993 1994 1995 1996 1997 1998\n",
      " 1999 2000 2001 2002 2003 2004 2005 2006 2007 2008 2009 2010 2011 2012\n",
      " 2013 2014 2015]\n",
      "History merged with stats_v1.csv\n",
      "Difference computed on Win rate\n",
      "Difference computed on Seed\n",
      "Difference computed on Mean score\n",
      "Generated matches merged with stats_v1.csv\n",
      "Result saved as test_2016.csv\n",
      "[1985 1986 1987 1988 1989 1990 1991 1992 1993 1994 1995 1996 1997 1998\n",
      " 1999 2000 2001 2002 2003 2004 2005 2006 2007 2008 2009 2010 2011 2012\n",
      " 2013 2014 2015 2016]\n",
      "History merged with stats_v1.csv\n",
      "Difference computed on Win rate\n",
      "Difference computed on Seed\n",
      "Difference computed on Mean score\n",
      "Generated matches merged with stats_v1.csv\n",
      "Result saved as test_2017.csv\n",
      "[1985 1986 1987 1988 1989 1990 1991 1992 1993 1994 1995 1996 1997 1998\n",
      " 1999 2000 2001 2002 2003 2004 2005 2006 2007 2008 2009 2010 2011 2012\n",
      " 2013 2014 2015 2016 2017]\n",
      "History merged with stats_v1.csv\n",
      "Difference computed on Win rate\n",
      "Difference computed on Seed\n",
      "Difference computed on Mean score\n",
      "Generated matches merged with stats_v1.csv\n",
      "Result saved as test_2018.csv\n",
      "[1985 1986 1987 1988 1989 1990 1991 1992 1993 1994 1995 1996 1997 1998\n",
      " 1999 2000 2001 2002 2003 2004 2005 2006 2007 2008 2009 2010 2011 2012\n",
      " 2013 2014 2015 2016 2017 2018]\n",
      "History merged with stats_v1.csv\n",
      "Difference computed on Win rate\n",
      "Difference computed on Seed\n",
      "Difference computed on Mean score\n",
      "Generated matches merged with stats_v1.csv\n",
      "Result saved as test_2019.csv\n"
     ]
    }
   ],
   "source": [
    "## Prédictions pour les saisons 2015 - 2019\n",
    "\n",
    "import pipeline as pp\n",
    "\n",
    "for s in range(2015,2020):\n",
    "    # J'ai modifié le pipeline pour pouvoir faire des prédictions saison par saison\n",
    "    p = pp.pipeline(path='../data/MDataFiles_Stage1/',  season=s)\n",
    "    \n",
    "    # Charger le fichier contenant les features\n",
    "    p.add_team_data('stats_v1.csv') \n",
    "\n",
    "    # Ajoute des colonnes contenant la différence de features\n",
    "    p.compute_differences(['Win rate'])\n",
    "    p.compute_differences(['Seed'])\n",
    "    p.compute_differences(['Mean score'])\n",
    "\n",
    "    p.train_model(s) \n",
    "    p.predict(out='test_' + str(s) + '.csv')"
   ]
  },
  {
   "cell_type": "markdown",
   "metadata": {},
   "source": [
    "<div class = 'alert alert-info'>\n",
    "\n",
    "**Calcul de la loss à la main, ne sert pas pour le tuning d'hyperparamètres**"
   ]
  },
  {
   "cell_type": "code",
   "execution_count": 25,
   "metadata": {},
   "outputs": [],
   "source": [
    "# ## Import the predictions\n",
    "\n",
    "# test_2015 = pd.read_csv('test_2015.csv')\n",
    "# test_2016 = pd.read_csv('test_2016.csv')\n",
    "# test_2017 = pd.read_csv('test_2017.csv')\n",
    "# test_2018 = pd.read_csv('test_2018.csv')\n",
    "# test_2019 = pd.read_csv('test_2019.csv')\n",
    "\n",
    "# # Merge the predictions\n",
    "# test = pd.concat([test_2015, test_2016, test_2017, test_2018, test_2019])\n",
    "# test.to_csv('test.csv', index=False)\n",
    "\n",
    "# # Création d'une colonne Team1_Win : 1 si Team1 a gagné, 0 sinon\n",
    "# test['Team1_Win'] = 0\n",
    "# test_2015['Team1_Win']=0"
   ]
  },
  {
   "cell_type": "code",
   "execution_count": 26,
   "metadata": {
    "scrolled": true
   },
   "outputs": [],
   "source": [
    "# ## Résultats de tous les MNCAA\n",
    "\n",
    "# m = MNCAATourneyCompactResults_Stage1\n",
    "# m1 = pd.DataFrame()\n",
    "# m1['Season'] = m['Season']\n",
    "# m1['ID_Team1'] = m['WTeamID']\n",
    "# m1['ID_Team2'] = m['LTeamID']\n",
    "# m1['Team1_Win'] = 1"
   ]
  },
  {
   "cell_type": "code",
   "execution_count": 16,
   "metadata": {
    "scrolled": true
   },
   "outputs": [],
   "source": [
    "# # Remplissage de la colonne Team1_Win pour chaque saison\n",
    "# def column_Team1_Win(season, test_file):\n",
    "    \n",
    "#     # IDTeam 1 vs IDTeam 2\n",
    "#     match_pair = list(zip(m1.loc[np.where(m1['Season']==season)[0], 'ID_Team1'], m1.loc[np.where(m1['Season']==season)[0], 'ID_Team2']))\n",
    "\n",
    "#     index_match = []\n",
    "#     for i in range(len(match_pair)):\n",
    "\n",
    "#         index1_2 = np.where((test_file['ID_Team1']==match_pair[i][0]) & (test_file['ID_Team2']==match_pair[i][1]))[0]\n",
    "#         index2_1 = np.where((test_file['ID_Team2']==match_pair[i][0]) & (test_file['ID_Team1']==match_pair[i][1]))[0]\n",
    "\n",
    "#         if len(index1_2) != 0:\n",
    "#             index_match.append(index1_2)\n",
    "#             test_file.loc[index1_2, 'Team1_Win']=1\n",
    "#         else:\n",
    "#             index_match.append(index2_1)\n",
    "#             test_file.loc[index2_1, 'Team1_Win']=0\n",
    "\n",
    "#     index_match = np.concatenate(index_match, axis=0)\n",
    "#     return(index_match)"
   ]
  },
  {
   "cell_type": "code",
   "execution_count": 17,
   "metadata": {},
   "outputs": [],
   "source": [
    "# ## On ne garde que les combinaisons de match qui ont réellement eu lien pour chaque saison de MNCAA\n",
    "\n",
    "# index_match_2015 = column_Team1_Win(2015, test_2015)\n",
    "# index_match_2016 = column_Team1_Win(2016, test_2016)\n",
    "# index_match_2017 = column_Team1_Win(2017, test_2017)\n",
    "# index_match_2018 = column_Team1_Win(2018, test_2018)\n",
    "# index_match_2019 = column_Team1_Win(2019, test_2019)\n",
    "\n",
    "# test_2015 = test_2015.loc[index_match_2015]\n",
    "# test_2016 = test_2016.loc[index_match_2016]\n",
    "# test_2017 = test_2017.loc[index_match_2017]\n",
    "# test_2018 = test_2018.loc[index_match_2018]\n",
    "# test_2019 = test_2019.loc[index_match_2019]"
   ]
  },
  {
   "cell_type": "code",
   "execution_count": 18,
   "metadata": {},
   "outputs": [],
   "source": [
    "# ## Concaténation des prédictions de tous les matchs\n",
    "\n",
    "# test = pd.concat([test_2015, test_2016, test_2017, test_2018, test_2019])\n",
    "# test.reset_index(drop=True, inplace=True)"
   ]
  },
  {
   "cell_type": "code",
   "execution_count": 19,
   "metadata": {
    "scrolled": true
   },
   "outputs": [
    {
     "name": "stdout",
     "output_type": "stream",
     "text": [
      "Loss totale : -1.1606391024686913,  prédictions très fausses 0\n"
     ]
    }
   ],
   "source": [
    "# ## Calcul de la loss à la main\n",
    "\n",
    "# loss_total = 0\n",
    "# nb_predictions_tres_fausses = 0\n",
    "\n",
    "# for i in range(len(test)):\n",
    "    \n",
    "#     # Remplacer une probabilité de 0 par 0.001 sinon risque d'avoir une loss de -ind\n",
    "#     if test.loc[i,'Predic_Team1'] == 0:\n",
    "#         test.loc[i,'Predic_Team1'] = 0.001\n",
    "#         nb_predictions_tres_fausses += 1\n",
    "\n",
    "#     # Remplacer une probabilité de 1 par 0.999 sinon risque d'avoir une loss de -ind\n",
    "#     elif test.loc[i,'Predic_Team1'] == 1:\n",
    "#         test.loc[i,'Predic_Team1'] = 0.999\n",
    "#         nb_predictions_tres_fausses += 1\n",
    "\n",
    "#     loss = test.loc[i, 'Team1_Win'] * np.log(test.loc[i,'Predic_Team1']) + (1-test.loc[i, 'Team1_Win']) * np.log(1-test.loc[i,'Predic_Team1'])\n",
    "#     loss_total += loss\n",
    "    \n",
    "# loss_total = loss_total / len(test)\n",
    "# print('Loss totale : {},  prédictions très fausses {}'.format(loss_total, nb_predictions_tres_fausses))"
   ]
  },
  {
   "cell_type": "markdown",
   "metadata": {},
   "source": [
    "<div class = 'alert alert-info'>\n",
    "    \n",
    "**Gridsearch : Importation de chaque train_set par saison et des résultats des matchs par saison**"
   ]
  },
  {
   "cell_type": "code",
   "execution_count": 3,
   "metadata": {},
   "outputs": [],
   "source": [
    "## J'ai modifié le pipeline pour qu'il nous renvoie le X_train et le Y_train pour chaque saison\n",
    "\n",
    "import pandas as pd\n",
    "\n",
    "X_2015 = pd.read_csv('X_2015.csv')\n",
    "X_2016 = pd.read_csv('X_2016.csv')\n",
    "X_2017 = pd.read_csv('X_2017.csv')\n",
    "X_2018 = pd.read_csv('X_2018.csv')\n",
    "X_2019 = pd.read_csv('X_2019.csv')\n",
    "\n",
    "Y_2015 = pd.read_csv('Y_2015.csv')\n",
    "Y_2016 = pd.read_csv('Y_2016.csv')\n",
    "Y_2017 = pd.read_csv('Y_2017.csv')\n",
    "Y_2018 = pd.read_csv('Y_2018.csv')\n",
    "Y_2019 = pd.read_csv('Y_2019.csv')"
   ]
  },
  {
   "cell_type": "markdown",
   "metadata": {},
   "source": [
    "<div class = 'alert alert-info'>\n",
    "\n",
    "**2015 : Gridsearch pour trouver les meilleurs hyperparamètres de RandomForestClassifier**"
   ]
  },
  {
   "cell_type": "code",
   "execution_count": 22,
   "metadata": {},
   "outputs": [
    {
     "name": "stderr",
     "output_type": "stream",
     "text": [
      "/home/willy/anaconda3/lib/python3.7/site-packages/sklearn/utils/deprecation.py:144: FutureWarning: The sklearn.metrics.scorer module is  deprecated in version 0.22 and will be removed in version 0.24. The corresponding classes / functions should instead be imported from sklearn.metrics. Anything that cannot be imported from sklearn.metrics is now part of the private API.\n",
      "  warnings.warn(message, FutureWarning)\n"
     ]
    },
    {
     "data": {
      "text/plain": [
       "GridSearchCV(cv=5, error_score=nan,\n",
       "             estimator=RandomForestClassifier(bootstrap=True, ccp_alpha=0.0,\n",
       "                                              class_weight=None,\n",
       "                                              criterion='gini', max_depth=None,\n",
       "                                              max_features='auto',\n",
       "                                              max_leaf_nodes=None,\n",
       "                                              max_samples=None,\n",
       "                                              min_impurity_decrease=0.0,\n",
       "                                              min_impurity_split=None,\n",
       "                                              min_samples_leaf=1,\n",
       "                                              min_samples_split=2,\n",
       "                                              min_weight_fraction_leaf=0.0,\n",
       "                                              n_estimators=100, n_jobs=None,\n",
       "                                              oob_score=False,\n",
       "                                              random_state=None, verbose=0,\n",
       "                                              warm_start=False),\n",
       "             iid='deprecated', n_jobs=None,\n",
       "             param_grid=[{'max_depth': [2, 3, 4, 5],\n",
       "                          'max_features': [2, 4, 6, 8, 10],\n",
       "                          'n_estimators': [25, 100, 250, 500, 1000]}],\n",
       "             pre_dispatch='2*n_jobs', refit=True, return_train_score=False,\n",
       "             scoring='neg_log_loss', verbose=0)"
      ]
     },
     "execution_count": 22,
     "metadata": {},
     "output_type": "execute_result"
    }
   ],
   "source": [
    "from sklearn.model_selection import GridSearchCV\n",
    "from sklearn.ensemble import RandomForestClassifier\n",
    "from sklearn.metrics.scorer import make_scorer\n",
    "\n",
    "param_grid = [\n",
    " {'n_estimators': [25, 100, 250, 500, 1000], 'max_features': [2, 4, 6, 8, 10], 'max_depth': [2,3,4,5]},\n",
    "#  {'bootstrap': [False], 'n_estimators': [3, 10, 20], 'max_features': [2, 3, 4, 5, 6]},\n",
    " ]\n",
    "\n",
    "forest_reg = RandomForestClassifier()\n",
    "\n",
    "# my_scorer = make_scorer(my_custom_loss_func, greater_is_better=False)\n",
    "\n",
    "grid_search = GridSearchCV(forest_reg, param_grid, cv=5, scoring='neg_log_loss')\n",
    "\n",
    "grid_search.fit(X_2015, Y_2015.values.ravel())"
   ]
  },
  {
   "cell_type": "code",
   "execution_count": 23,
   "metadata": {
    "scrolled": true
   },
   "outputs": [
    {
     "data": {
      "text/plain": [
       "RandomForestClassifier(bootstrap=True, ccp_alpha=0.0, class_weight=None,\n",
       "                       criterion='gini', max_depth=5, max_features=8,\n",
       "                       max_leaf_nodes=None, max_samples=None,\n",
       "                       min_impurity_decrease=0.0, min_impurity_split=None,\n",
       "                       min_samples_leaf=1, min_samples_split=2,\n",
       "                       min_weight_fraction_leaf=0.0, n_estimators=100,\n",
       "                       n_jobs=None, oob_score=False, random_state=None,\n",
       "                       verbose=0, warm_start=False)"
      ]
     },
     "execution_count": 23,
     "metadata": {},
     "output_type": "execute_result"
    }
   ],
   "source": [
    "grid_search.best_estimator_"
   ]
  },
  {
   "cell_type": "code",
   "execution_count": 24,
   "metadata": {},
   "outputs": [
    {
     "name": "stdout",
     "output_type": "stream",
     "text": [
      "0.7742156985620009 {'max_depth': 2, 'max_features': 2, 'n_estimators': 25}\n",
      "0.7736083754714442 {'max_depth': 2, 'max_features': 2, 'n_estimators': 100}\n",
      "0.7728514850633088 {'max_depth': 2, 'max_features': 2, 'n_estimators': 250}\n",
      "0.7737235216052897 {'max_depth': 2, 'max_features': 2, 'n_estimators': 500}\n",
      "0.7739277952509311 {'max_depth': 2, 'max_features': 2, 'n_estimators': 1000}\n",
      "0.7610486595809539 {'max_depth': 2, 'max_features': 4, 'n_estimators': 25}\n",
      "0.7610444455763309 {'max_depth': 2, 'max_features': 4, 'n_estimators': 100}\n",
      "0.7606530100275098 {'max_depth': 2, 'max_features': 4, 'n_estimators': 250}\n",
      "0.761297202691147 {'max_depth': 2, 'max_features': 4, 'n_estimators': 500}\n",
      "0.7611815906378362 {'max_depth': 2, 'max_features': 4, 'n_estimators': 1000}\n",
      "0.7562187611491761 {'max_depth': 2, 'max_features': 6, 'n_estimators': 25}\n",
      "0.75607161236226 {'max_depth': 2, 'max_features': 6, 'n_estimators': 100}\n",
      "0.7555154458033706 {'max_depth': 2, 'max_features': 6, 'n_estimators': 250}\n",
      "0.7553080638418137 {'max_depth': 2, 'max_features': 6, 'n_estimators': 500}\n",
      "0.755490166065731 {'max_depth': 2, 'max_features': 6, 'n_estimators': 1000}\n",
      "0.7524734200436194 {'max_depth': 2, 'max_features': 8, 'n_estimators': 25}\n",
      "0.75220872389688 {'max_depth': 2, 'max_features': 8, 'n_estimators': 100}\n",
      "0.7526772493579283 {'max_depth': 2, 'max_features': 8, 'n_estimators': 250}\n",
      "0.7526112329648867 {'max_depth': 2, 'max_features': 8, 'n_estimators': 500}\n",
      "0.7526142937683634 {'max_depth': 2, 'max_features': 8, 'n_estimators': 1000}\n",
      "0.7511576924753858 {'max_depth': 2, 'max_features': 10, 'n_estimators': 25}\n",
      "0.7507921360831541 {'max_depth': 2, 'max_features': 10, 'n_estimators': 100}\n",
      "0.7505975446786495 {'max_depth': 2, 'max_features': 10, 'n_estimators': 250}\n",
      "0.7508146625418616 {'max_depth': 2, 'max_features': 10, 'n_estimators': 500}\n",
      "0.7508499722467692 {'max_depth': 2, 'max_features': 10, 'n_estimators': 1000}\n",
      "0.7637784827162534 {'max_depth': 3, 'max_features': 2, 'n_estimators': 25}\n",
      "0.7610499065620622 {'max_depth': 3, 'max_features': 2, 'n_estimators': 100}\n",
      "0.7617267054716764 {'max_depth': 3, 'max_features': 2, 'n_estimators': 250}\n",
      "0.7624407188697432 {'max_depth': 3, 'max_features': 2, 'n_estimators': 500}\n",
      "0.7623962989677077 {'max_depth': 3, 'max_features': 2, 'n_estimators': 1000}\n",
      "0.7516960600273225 {'max_depth': 3, 'max_features': 4, 'n_estimators': 25}\n",
      "0.7508731864284859 {'max_depth': 3, 'max_features': 4, 'n_estimators': 100}\n",
      "0.7509454388098075 {'max_depth': 3, 'max_features': 4, 'n_estimators': 250}\n",
      "0.7511485986288424 {'max_depth': 3, 'max_features': 4, 'n_estimators': 500}\n",
      "0.7508046245878224 {'max_depth': 3, 'max_features': 4, 'n_estimators': 1000}\n",
      "0.7473029829429351 {'max_depth': 3, 'max_features': 6, 'n_estimators': 25}\n",
      "0.7462781781995164 {'max_depth': 3, 'max_features': 6, 'n_estimators': 100}\n",
      "0.7463681490381529 {'max_depth': 3, 'max_features': 6, 'n_estimators': 250}\n",
      "0.7466333039580186 {'max_depth': 3, 'max_features': 6, 'n_estimators': 500}\n",
      "0.7465012428322565 {'max_depth': 3, 'max_features': 6, 'n_estimators': 1000}\n",
      "0.7451383073864905 {'max_depth': 3, 'max_features': 8, 'n_estimators': 25}\n",
      "0.7446567659577626 {'max_depth': 3, 'max_features': 8, 'n_estimators': 100}\n",
      "0.7443658036033329 {'max_depth': 3, 'max_features': 8, 'n_estimators': 250}\n",
      "0.7447551847842866 {'max_depth': 3, 'max_features': 8, 'n_estimators': 500}\n",
      "0.7444609797262094 {'max_depth': 3, 'max_features': 8, 'n_estimators': 1000}\n",
      "0.7430264199753801 {'max_depth': 3, 'max_features': 10, 'n_estimators': 25}\n",
      "0.743669759142754 {'max_depth': 3, 'max_features': 10, 'n_estimators': 100}\n",
      "0.7438467863175964 {'max_depth': 3, 'max_features': 10, 'n_estimators': 250}\n",
      "0.7438152311555097 {'max_depth': 3, 'max_features': 10, 'n_estimators': 500}\n",
      "0.7437950871796237 {'max_depth': 3, 'max_features': 10, 'n_estimators': 1000}\n",
      "0.756735475411501 {'max_depth': 4, 'max_features': 2, 'n_estimators': 25}\n",
      "0.7556283599586402 {'max_depth': 4, 'max_features': 2, 'n_estimators': 100}\n",
      "0.7557392224299027 {'max_depth': 4, 'max_features': 2, 'n_estimators': 250}\n",
      "0.7555309884475668 {'max_depth': 4, 'max_features': 2, 'n_estimators': 500}\n",
      "0.7556851937902679 {'max_depth': 4, 'max_features': 2, 'n_estimators': 1000}\n",
      "0.7473324381932559 {'max_depth': 4, 'max_features': 4, 'n_estimators': 25}\n",
      "0.7459595735553965 {'max_depth': 4, 'max_features': 4, 'n_estimators': 100}\n",
      "0.7458035033243111 {'max_depth': 4, 'max_features': 4, 'n_estimators': 250}\n",
      "0.7460423150843957 {'max_depth': 4, 'max_features': 4, 'n_estimators': 500}\n",
      "0.7458011473089164 {'max_depth': 4, 'max_features': 4, 'n_estimators': 1000}\n",
      "0.7439046704911619 {'max_depth': 4, 'max_features': 6, 'n_estimators': 25}\n",
      "0.7423116879665097 {'max_depth': 4, 'max_features': 6, 'n_estimators': 100}\n",
      "0.7428781378441062 {'max_depth': 4, 'max_features': 6, 'n_estimators': 250}\n",
      "0.7429952911632431 {'max_depth': 4, 'max_features': 6, 'n_estimators': 500}\n",
      "0.7428258748872797 {'max_depth': 4, 'max_features': 6, 'n_estimators': 1000}\n",
      "0.7427341399457107 {'max_depth': 4, 'max_features': 8, 'n_estimators': 25}\n",
      "0.7420346865486445 {'max_depth': 4, 'max_features': 8, 'n_estimators': 100}\n",
      "0.7417716386308992 {'max_depth': 4, 'max_features': 8, 'n_estimators': 250}\n",
      "0.741852031395757 {'max_depth': 4, 'max_features': 8, 'n_estimators': 500}\n",
      "0.741727187899523 {'max_depth': 4, 'max_features': 8, 'n_estimators': 1000}\n",
      "0.741676236384268 {'max_depth': 4, 'max_features': 10, 'n_estimators': 25}\n",
      "0.7420556347770376 {'max_depth': 4, 'max_features': 10, 'n_estimators': 100}\n",
      "0.7417702135077202 {'max_depth': 4, 'max_features': 10, 'n_estimators': 250}\n",
      "0.7415752058902643 {'max_depth': 4, 'max_features': 10, 'n_estimators': 500}\n",
      "0.7417555211093505 {'max_depth': 4, 'max_features': 10, 'n_estimators': 1000}\n",
      "0.7522389289692706 {'max_depth': 5, 'max_features': 2, 'n_estimators': 25}\n",
      "0.7513096454729511 {'max_depth': 5, 'max_features': 2, 'n_estimators': 100}\n",
      "0.7513149945874238 {'max_depth': 5, 'max_features': 2, 'n_estimators': 250}\n",
      "0.7511501423663575 {'max_depth': 5, 'max_features': 2, 'n_estimators': 500}\n",
      "0.7514208129120978 {'max_depth': 5, 'max_features': 2, 'n_estimators': 1000}\n",
      "0.7441788112278906 {'max_depth': 5, 'max_features': 4, 'n_estimators': 25}\n",
      "0.7442872000634786 {'max_depth': 5, 'max_features': 4, 'n_estimators': 100}\n",
      "0.744150120688568 {'max_depth': 5, 'max_features': 4, 'n_estimators': 250}\n",
      "0.7439070991897553 {'max_depth': 5, 'max_features': 4, 'n_estimators': 500}\n",
      "0.7441672321618784 {'max_depth': 5, 'max_features': 4, 'n_estimators': 1000}\n",
      "0.7443745173668981 {'max_depth': 5, 'max_features': 6, 'n_estimators': 25}\n",
      "0.7430470427868311 {'max_depth': 5, 'max_features': 6, 'n_estimators': 100}\n",
      "0.742255181897682 {'max_depth': 5, 'max_features': 6, 'n_estimators': 250}\n",
      "0.7422816356806474 {'max_depth': 5, 'max_features': 6, 'n_estimators': 500}\n",
      "0.742105500487529 {'max_depth': 5, 'max_features': 6, 'n_estimators': 1000}\n",
      "0.7423844764558502 {'max_depth': 5, 'max_features': 8, 'n_estimators': 25}\n",
      "0.7415088636165947 {'max_depth': 5, 'max_features': 8, 'n_estimators': 100}\n",
      "0.7419186412167226 {'max_depth': 5, 'max_features': 8, 'n_estimators': 250}\n",
      "0.7415798857588618 {'max_depth': 5, 'max_features': 8, 'n_estimators': 500}\n",
      "0.7417500932235963 {'max_depth': 5, 'max_features': 8, 'n_estimators': 1000}\n",
      "0.7436381904087745 {'max_depth': 5, 'max_features': 10, 'n_estimators': 25}\n",
      "0.7423248735197799 {'max_depth': 5, 'max_features': 10, 'n_estimators': 100}\n",
      "0.7420347518393965 {'max_depth': 5, 'max_features': 10, 'n_estimators': 250}\n",
      "0.742009720695283 {'max_depth': 5, 'max_features': 10, 'n_estimators': 500}\n",
      "0.7419514053928231 {'max_depth': 5, 'max_features': 10, 'n_estimators': 1000}\n"
     ]
    }
   ],
   "source": [
    "import numpy as np\n",
    "\n",
    "cvres = grid_search.cv_results_ \n",
    "for mean_score, params in zip(cvres[\"mean_test_score\"], cvres[\"params\"]): \n",
    "    print(np.sqrt(-mean_score), params)"
   ]
  },
  {
   "cell_type": "markdown",
   "metadata": {},
   "source": [
    "<div class = 'alert alert-info'>\n",
    "\n",
    "**2016 : Gridsearch pour trouver les meilleurs hyperparamètres de RandomForestClassifier**"
   ]
  },
  {
   "cell_type": "code",
   "execution_count": 25,
   "metadata": {},
   "outputs": [
    {
     "data": {
      "text/plain": [
       "GridSearchCV(cv=5, error_score=nan,\n",
       "             estimator=RandomForestClassifier(bootstrap=True, ccp_alpha=0.0,\n",
       "                                              class_weight=None,\n",
       "                                              criterion='gini', max_depth=None,\n",
       "                                              max_features='auto',\n",
       "                                              max_leaf_nodes=None,\n",
       "                                              max_samples=None,\n",
       "                                              min_impurity_decrease=0.0,\n",
       "                                              min_impurity_split=None,\n",
       "                                              min_samples_leaf=1,\n",
       "                                              min_samples_split=2,\n",
       "                                              min_weight_fraction_leaf=0.0,\n",
       "                                              n_estimators=100, n_jobs=None,\n",
       "                                              oob_score=False,\n",
       "                                              random_state=None, verbose=0,\n",
       "                                              warm_start=False),\n",
       "             iid='deprecated', n_jobs=None,\n",
       "             param_grid=[{'max_features': [2, 4, 6, 8, 10],\n",
       "                          'n_estimators': [3, 10, 30, 50, 100]},\n",
       "                         {'bootstrap': [False], 'max_features': [2, 3, 4, 5, 6],\n",
       "                          'n_estimators': [3, 10, 20]}],\n",
       "             pre_dispatch='2*n_jobs', refit=True, return_train_score=False,\n",
       "             scoring='neg_log_loss', verbose=0)"
      ]
     },
     "execution_count": 25,
     "metadata": {},
     "output_type": "execute_result"
    }
   ],
   "source": [
    "from sklearn.model_selection import GridSearchCV\n",
    "from sklearn.ensemble import RandomForestClassifier\n",
    "from sklearn.metrics.scorer import make_scorer\n",
    "\n",
    "param_grid = [\n",
    " {'n_estimators': [3, 10, 30, 50, 100], 'max_features': [2, 4, 6, 8, 10]},\n",
    " {'bootstrap': [False], 'n_estimators': [3, 10, 20], 'max_features': [2, 3, 4, 5, 6]},\n",
    " ]\n",
    "\n",
    "forest_reg = RandomForestClassifier()\n",
    "\n",
    "# my_scorer = make_scorer(my_custom_loss_func, greater_is_better=False)\n",
    "\n",
    "grid_search = GridSearchCV(forest_reg, param_grid, cv=5, scoring='neg_log_loss')\n",
    "\n",
    "grid_search.fit(X_2016, Y_2016.values.ravel())"
   ]
  },
  {
   "cell_type": "code",
   "execution_count": 26,
   "metadata": {},
   "outputs": [
    {
     "data": {
      "text/plain": [
       "RandomForestClassifier(bootstrap=True, ccp_alpha=0.0, class_weight=None,\n",
       "                       criterion='gini', max_depth=None, max_features=2,\n",
       "                       max_leaf_nodes=None, max_samples=None,\n",
       "                       min_impurity_decrease=0.0, min_impurity_split=None,\n",
       "                       min_samples_leaf=1, min_samples_split=2,\n",
       "                       min_weight_fraction_leaf=0.0, n_estimators=100,\n",
       "                       n_jobs=None, oob_score=False, random_state=None,\n",
       "                       verbose=0, warm_start=False)"
      ]
     },
     "execution_count": 26,
     "metadata": {},
     "output_type": "execute_result"
    }
   ],
   "source": [
    "grid_search.best_estimator_"
   ]
  },
  {
   "cell_type": "code",
   "execution_count": 27,
   "metadata": {},
   "outputs": [
    {
     "name": "stdout",
     "output_type": "stream",
     "text": [
      "2.001059683166609 {'max_features': 2, 'n_estimators': 3}\n",
      "0.9629455591697266 {'max_features': 2, 'n_estimators': 10}\n",
      "0.7660354469535685 {'max_features': 2, 'n_estimators': 30}\n",
      "0.7624542556534277 {'max_features': 2, 'n_estimators': 50}\n",
      "0.7564292052851671 {'max_features': 2, 'n_estimators': 100}\n",
      "2.0739012222070716 {'max_features': 4, 'n_estimators': 3}\n",
      "0.995820513020481 {'max_features': 4, 'n_estimators': 10}\n",
      "0.7907869190428315 {'max_features': 4, 'n_estimators': 30}\n",
      "0.7683929327787204 {'max_features': 4, 'n_estimators': 50}\n",
      "0.7585491875675026 {'max_features': 4, 'n_estimators': 100}\n",
      "2.1106039366680593 {'max_features': 6, 'n_estimators': 3}\n",
      "1.0164091552345138 {'max_features': 6, 'n_estimators': 10}\n",
      "0.7709740004805105 {'max_features': 6, 'n_estimators': 30}\n",
      "0.784125609906585 {'max_features': 6, 'n_estimators': 50}\n",
      "0.7650518308845039 {'max_features': 6, 'n_estimators': 100}\n",
      "2.1032476614304447 {'max_features': 8, 'n_estimators': 3}\n",
      "1.0401669599610979 {'max_features': 8, 'n_estimators': 10}\n",
      "0.8038372639257955 {'max_features': 8, 'n_estimators': 30}\n",
      "0.7749399476632678 {'max_features': 8, 'n_estimators': 50}\n",
      "0.7692593812758565 {'max_features': 8, 'n_estimators': 100}\n",
      "2.0493116128517377 {'max_features': 10, 'n_estimators': 3}\n",
      "1.0387531465445798 {'max_features': 10, 'n_estimators': 10}\n",
      "0.8051333211371405 {'max_features': 10, 'n_estimators': 30}\n",
      "0.7775594024823552 {'max_features': 10, 'n_estimators': 50}\n",
      "0.7780937620766265 {'max_features': 10, 'n_estimators': 100}\n",
      "2.176258322759439 {'bootstrap': False, 'max_features': 2, 'n_estimators': 3}\n",
      "1.0923992298045102 {'bootstrap': False, 'max_features': 2, 'n_estimators': 10}\n",
      "0.8387020967702136 {'bootstrap': False, 'max_features': 2, 'n_estimators': 20}\n",
      "2.16475430539812 {'bootstrap': False, 'max_features': 3, 'n_estimators': 3}\n",
      "1.1042244729366792 {'bootstrap': False, 'max_features': 3, 'n_estimators': 10}\n",
      "0.8426745460929955 {'bootstrap': False, 'max_features': 3, 'n_estimators': 20}\n",
      "2.181714668507187 {'bootstrap': False, 'max_features': 4, 'n_estimators': 3}\n",
      "1.0763626956824952 {'bootstrap': False, 'max_features': 4, 'n_estimators': 10}\n",
      "0.8337104943286721 {'bootstrap': False, 'max_features': 4, 'n_estimators': 20}\n",
      "2.193933282330953 {'bootstrap': False, 'max_features': 5, 'n_estimators': 3}\n",
      "1.090218087488999 {'bootstrap': False, 'max_features': 5, 'n_estimators': 10}\n",
      "0.9040117513270761 {'bootstrap': False, 'max_features': 5, 'n_estimators': 20}\n",
      "2.1577796125914306 {'bootstrap': False, 'max_features': 6, 'n_estimators': 3}\n",
      "1.0972333455706569 {'bootstrap': False, 'max_features': 6, 'n_estimators': 10}\n",
      "0.9200847888378346 {'bootstrap': False, 'max_features': 6, 'n_estimators': 20}\n"
     ]
    }
   ],
   "source": [
    "import numpy as np\n",
    "\n",
    "cvres = grid_search.cv_results_ \n",
    "for mean_score, params in zip(cvres[\"mean_test_score\"], cvres[\"params\"]): \n",
    "    print(np.sqrt(-mean_score), params)"
   ]
  },
  {
   "cell_type": "markdown",
   "metadata": {},
   "source": [
    "<div class = 'alert alert-info'>\n",
    "\n",
    "**2017**"
   ]
  },
  {
   "cell_type": "code",
   "execution_count": 28,
   "metadata": {},
   "outputs": [
    {
     "data": {
      "text/plain": [
       "GridSearchCV(cv=5, error_score=nan,\n",
       "             estimator=RandomForestClassifier(bootstrap=True, ccp_alpha=0.0,\n",
       "                                              class_weight=None,\n",
       "                                              criterion='gini', max_depth=None,\n",
       "                                              max_features='auto',\n",
       "                                              max_leaf_nodes=None,\n",
       "                                              max_samples=None,\n",
       "                                              min_impurity_decrease=0.0,\n",
       "                                              min_impurity_split=None,\n",
       "                                              min_samples_leaf=1,\n",
       "                                              min_samples_split=2,\n",
       "                                              min_weight_fraction_leaf=0.0,\n",
       "                                              n_estimators=100, n_jobs=None,\n",
       "                                              oob_score=False,\n",
       "                                              random_state=None, verbose=0,\n",
       "                                              warm_start=False),\n",
       "             iid='deprecated', n_jobs=None,\n",
       "             param_grid=[{'max_features': [2, 4, 6, 8, 10],\n",
       "                          'n_estimators': [3, 10, 30, 50, 100]},\n",
       "                         {'bootstrap': [False], 'max_features': [2, 3, 4, 5, 6],\n",
       "                          'n_estimators': [3, 10, 20]}],\n",
       "             pre_dispatch='2*n_jobs', refit=True, return_train_score=False,\n",
       "             scoring='neg_log_loss', verbose=0)"
      ]
     },
     "execution_count": 28,
     "metadata": {},
     "output_type": "execute_result"
    }
   ],
   "source": [
    "from sklearn.model_selection import GridSearchCV\n",
    "from sklearn.ensemble import RandomForestClassifier\n",
    "from sklearn.metrics.scorer import make_scorer\n",
    "\n",
    "param_grid = [\n",
    " {'n_estimators': [3, 10, 30, 50, 100], 'max_features': [2, 4, 6, 8, 10]},\n",
    " {'bootstrap': [False], 'n_estimators': [3, 10, 20], 'max_features': [2, 3, 4, 5, 6]},\n",
    " ]\n",
    "\n",
    "forest_reg = RandomForestClassifier()\n",
    "\n",
    "# my_scorer = make_scorer(my_custom_loss_func, greater_is_better=False)\n",
    "\n",
    "grid_search = GridSearchCV(forest_reg, param_grid, cv=5, scoring='neg_log_loss')\n",
    "\n",
    "grid_search.fit(X_2017, Y_2017.values.ravel())"
   ]
  },
  {
   "cell_type": "code",
   "execution_count": 29,
   "metadata": {},
   "outputs": [
    {
     "data": {
      "text/plain": [
       "RandomForestClassifier(bootstrap=True, ccp_alpha=0.0, class_weight=None,\n",
       "                       criterion='gini', max_depth=None, max_features=2,\n",
       "                       max_leaf_nodes=None, max_samples=None,\n",
       "                       min_impurity_decrease=0.0, min_impurity_split=None,\n",
       "                       min_samples_leaf=1, min_samples_split=2,\n",
       "                       min_weight_fraction_leaf=0.0, n_estimators=100,\n",
       "                       n_jobs=None, oob_score=False, random_state=None,\n",
       "                       verbose=0, warm_start=False)"
      ]
     },
     "execution_count": 29,
     "metadata": {},
     "output_type": "execute_result"
    }
   ],
   "source": [
    "grid_search.best_estimator_"
   ]
  },
  {
   "cell_type": "code",
   "execution_count": 30,
   "metadata": {},
   "outputs": [
    {
     "name": "stdout",
     "output_type": "stream",
     "text": [
      "2.1003768348432548 {'max_features': 2, 'n_estimators': 3}\n",
      "0.9531341134452932 {'max_features': 2, 'n_estimators': 10}\n",
      "0.7886477079263247 {'max_features': 2, 'n_estimators': 30}\n",
      "0.765573616331196 {'max_features': 2, 'n_estimators': 50}\n",
      "0.7580541128782936 {'max_features': 2, 'n_estimators': 100}\n",
      "2.080561302107758 {'max_features': 4, 'n_estimators': 3}\n",
      "1.0515867773582122 {'max_features': 4, 'n_estimators': 10}\n",
      "0.7884170199774355 {'max_features': 4, 'n_estimators': 30}\n",
      "0.7698954971283396 {'max_features': 4, 'n_estimators': 50}\n",
      "0.7591079633687046 {'max_features': 4, 'n_estimators': 100}\n",
      "2.0695532382975683 {'max_features': 6, 'n_estimators': 3}\n",
      "1.0459840408983552 {'max_features': 6, 'n_estimators': 10}\n",
      "0.7885125073013235 {'max_features': 6, 'n_estimators': 30}\n",
      "0.7756924963739446 {'max_features': 6, 'n_estimators': 50}\n",
      "0.7630988088832295 {'max_features': 6, 'n_estimators': 100}\n",
      "2.134431551374377 {'max_features': 8, 'n_estimators': 3}\n",
      "0.9956159470216543 {'max_features': 8, 'n_estimators': 10}\n",
      "0.8015989188633957 {'max_features': 8, 'n_estimators': 30}\n",
      "0.7782363263273193 {'max_features': 8, 'n_estimators': 50}\n",
      "0.7792710997446932 {'max_features': 8, 'n_estimators': 100}\n",
      "2.058725780471079 {'max_features': 10, 'n_estimators': 3}\n",
      "1.0198259468761879 {'max_features': 10, 'n_estimators': 10}\n",
      "0.8084642304609019 {'max_features': 10, 'n_estimators': 30}\n",
      "0.790507541854552 {'max_features': 10, 'n_estimators': 50}\n",
      "0.7757445548308508 {'max_features': 10, 'n_estimators': 100}\n",
      "2.061214624837367 {'bootstrap': False, 'max_features': 2, 'n_estimators': 3}\n",
      "1.0319231772761945 {'bootstrap': False, 'max_features': 2, 'n_estimators': 10}\n",
      "0.8287451678607246 {'bootstrap': False, 'max_features': 2, 'n_estimators': 20}\n",
      "2.1553697420308264 {'bootstrap': False, 'max_features': 3, 'n_estimators': 3}\n",
      "1.073868732176586 {'bootstrap': False, 'max_features': 3, 'n_estimators': 10}\n",
      "0.842302128121764 {'bootstrap': False, 'max_features': 3, 'n_estimators': 20}\n",
      "2.158970553115715 {'bootstrap': False, 'max_features': 4, 'n_estimators': 3}\n",
      "1.061773183188864 {'bootstrap': False, 'max_features': 4, 'n_estimators': 10}\n",
      "0.8494536718968371 {'bootstrap': False, 'max_features': 4, 'n_estimators': 20}\n",
      "2.1616366280441683 {'bootstrap': False, 'max_features': 5, 'n_estimators': 3}\n",
      "1.03935119576906 {'bootstrap': False, 'max_features': 5, 'n_estimators': 10}\n",
      "0.8875415341701565 {'bootstrap': False, 'max_features': 5, 'n_estimators': 20}\n",
      "2.2279143490244135 {'bootstrap': False, 'max_features': 6, 'n_estimators': 3}\n",
      "1.060745928397151 {'bootstrap': False, 'max_features': 6, 'n_estimators': 10}\n",
      "0.8913879809989556 {'bootstrap': False, 'max_features': 6, 'n_estimators': 20}\n"
     ]
    }
   ],
   "source": [
    "import numpy as np\n",
    "\n",
    "cvres = grid_search.cv_results_ \n",
    "for mean_score, params in zip(cvres[\"mean_test_score\"], cvres[\"params\"]): \n",
    "    print(np.sqrt(-mean_score), params)"
   ]
  },
  {
   "cell_type": "markdown",
   "metadata": {},
   "source": [
    "<div class = 'alert alert-info'>\n",
    "\n",
    "**2018**"
   ]
  },
  {
   "cell_type": "code",
   "execution_count": 31,
   "metadata": {},
   "outputs": [
    {
     "data": {
      "text/plain": [
       "GridSearchCV(cv=5, error_score=nan,\n",
       "             estimator=RandomForestClassifier(bootstrap=True, ccp_alpha=0.0,\n",
       "                                              class_weight=None,\n",
       "                                              criterion='gini', max_depth=None,\n",
       "                                              max_features='auto',\n",
       "                                              max_leaf_nodes=None,\n",
       "                                              max_samples=None,\n",
       "                                              min_impurity_decrease=0.0,\n",
       "                                              min_impurity_split=None,\n",
       "                                              min_samples_leaf=1,\n",
       "                                              min_samples_split=2,\n",
       "                                              min_weight_fraction_leaf=0.0,\n",
       "                                              n_estimators=100, n_jobs=None,\n",
       "                                              oob_score=False,\n",
       "                                              random_state=None, verbose=0,\n",
       "                                              warm_start=False),\n",
       "             iid='deprecated', n_jobs=None,\n",
       "             param_grid=[{'max_features': [2, 4, 6, 8, 10],\n",
       "                          'n_estimators': [3, 10, 30, 50, 100]},\n",
       "                         {'bootstrap': [False], 'max_features': [2, 3, 4, 5, 6],\n",
       "                          'n_estimators': [3, 10, 20]}],\n",
       "             pre_dispatch='2*n_jobs', refit=True, return_train_score=False,\n",
       "             scoring='neg_log_loss', verbose=0)"
      ]
     },
     "execution_count": 31,
     "metadata": {},
     "output_type": "execute_result"
    }
   ],
   "source": [
    "from sklearn.model_selection import GridSearchCV\n",
    "from sklearn.ensemble import RandomForestClassifier\n",
    "from sklearn.metrics.scorer import make_scorer\n",
    "\n",
    "param_grid = [\n",
    " {'n_estimators': [3, 10, 30, 50, 100], 'max_features': [2, 4, 6, 8, 10]},\n",
    " {'bootstrap': [False], 'n_estimators': [3, 10, 20], 'max_features': [2, 3, 4, 5, 6]},\n",
    " ]\n",
    "\n",
    "forest_reg = RandomForestClassifier()\n",
    "\n",
    "# my_scorer = make_scorer(my_custom_loss_func, greater_is_better=False)\n",
    "\n",
    "grid_search = GridSearchCV(forest_reg, param_grid, cv=5, scoring='neg_log_loss')\n",
    "\n",
    "grid_search.fit(X_2018, Y_2018.values.ravel())"
   ]
  },
  {
   "cell_type": "code",
   "execution_count": 32,
   "metadata": {},
   "outputs": [
    {
     "data": {
      "text/plain": [
       "RandomForestClassifier(bootstrap=True, ccp_alpha=0.0, class_weight=None,\n",
       "                       criterion='gini', max_depth=None, max_features=2,\n",
       "                       max_leaf_nodes=None, max_samples=None,\n",
       "                       min_impurity_decrease=0.0, min_impurity_split=None,\n",
       "                       min_samples_leaf=1, min_samples_split=2,\n",
       "                       min_weight_fraction_leaf=0.0, n_estimators=100,\n",
       "                       n_jobs=None, oob_score=False, random_state=None,\n",
       "                       verbose=0, warm_start=False)"
      ]
     },
     "execution_count": 32,
     "metadata": {},
     "output_type": "execute_result"
    }
   ],
   "source": [
    "grid_search.best_estimator_"
   ]
  },
  {
   "cell_type": "code",
   "execution_count": 33,
   "metadata": {},
   "outputs": [
    {
     "name": "stdout",
     "output_type": "stream",
     "text": [
      "2.011263430641238 {'max_features': 2, 'n_estimators': 3}\n",
      "0.9500165861124445 {'max_features': 2, 'n_estimators': 10}\n",
      "0.7640672960074696 {'max_features': 2, 'n_estimators': 30}\n",
      "0.7559488453342286 {'max_features': 2, 'n_estimators': 50}\n",
      "0.7547552245664816 {'max_features': 2, 'n_estimators': 100}\n",
      "2.1336734726864925 {'max_features': 4, 'n_estimators': 3}\n",
      "0.9929869042792716 {'max_features': 4, 'n_estimators': 10}\n",
      "0.7895722639368876 {'max_features': 4, 'n_estimators': 30}\n",
      "0.7694969097044299 {'max_features': 4, 'n_estimators': 50}\n",
      "0.7608577381720241 {'max_features': 4, 'n_estimators': 100}\n",
      "2.0556492471408374 {'max_features': 6, 'n_estimators': 3}\n",
      "1.0385538981995892 {'max_features': 6, 'n_estimators': 10}\n",
      "0.7913131228562164 {'max_features': 6, 'n_estimators': 30}\n",
      "0.770953792805873 {'max_features': 6, 'n_estimators': 50}\n",
      "0.7596685478530131 {'max_features': 6, 'n_estimators': 100}\n",
      "2.0660414969677503 {'max_features': 8, 'n_estimators': 3}\n",
      "1.0086534799485567 {'max_features': 8, 'n_estimators': 10}\n",
      "0.8383664415505833 {'max_features': 8, 'n_estimators': 30}\n",
      "0.7930752946017392 {'max_features': 8, 'n_estimators': 50}\n",
      "0.7713113733764674 {'max_features': 8, 'n_estimators': 100}\n",
      "2.0503476453871503 {'max_features': 10, 'n_estimators': 3}\n",
      "1.0845835519386813 {'max_features': 10, 'n_estimators': 10}\n",
      "0.8140567226577881 {'max_features': 10, 'n_estimators': 30}\n",
      "0.7920376280740032 {'max_features': 10, 'n_estimators': 50}\n",
      "0.784872115807427 {'max_features': 10, 'n_estimators': 100}\n",
      "2.075684915662885 {'bootstrap': False, 'max_features': 2, 'n_estimators': 3}\n",
      "0.9677815984641958 {'bootstrap': False, 'max_features': 2, 'n_estimators': 10}\n",
      "0.8065592050439206 {'bootstrap': False, 'max_features': 2, 'n_estimators': 20}\n",
      "2.075829906004225 {'bootstrap': False, 'max_features': 3, 'n_estimators': 3}\n",
      "0.9788937910529226 {'bootstrap': False, 'max_features': 3, 'n_estimators': 10}\n",
      "0.8215975516855549 {'bootstrap': False, 'max_features': 3, 'n_estimators': 20}\n",
      "2.09912167587204 {'bootstrap': False, 'max_features': 4, 'n_estimators': 3}\n",
      "1.067803828122154 {'bootstrap': False, 'max_features': 4, 'n_estimators': 10}\n",
      "0.8724635709577303 {'bootstrap': False, 'max_features': 4, 'n_estimators': 20}\n",
      "2.1192069243568525 {'bootstrap': False, 'max_features': 5, 'n_estimators': 3}\n",
      "1.076126513756991 {'bootstrap': False, 'max_features': 5, 'n_estimators': 10}\n",
      "0.8896549253116698 {'bootstrap': False, 'max_features': 5, 'n_estimators': 20}\n",
      "2.1363182070789866 {'bootstrap': False, 'max_features': 6, 'n_estimators': 3}\n",
      "1.052230247930375 {'bootstrap': False, 'max_features': 6, 'n_estimators': 10}\n",
      "0.9066611565438876 {'bootstrap': False, 'max_features': 6, 'n_estimators': 20}\n"
     ]
    }
   ],
   "source": [
    "import numpy as np\n",
    "\n",
    "cvres = grid_search.cv_results_ \n",
    "for mean_score, params in zip(cvres[\"mean_test_score\"], cvres[\"params\"]): \n",
    "    print(np.sqrt(-mean_score), params)"
   ]
  },
  {
   "cell_type": "markdown",
   "metadata": {},
   "source": [
    "<div class = 'alert alert-info'>\n",
    "\n",
    "**2019**"
   ]
  },
  {
   "cell_type": "code",
   "execution_count": 34,
   "metadata": {},
   "outputs": [
    {
     "data": {
      "text/plain": [
       "GridSearchCV(cv=5, error_score=nan,\n",
       "             estimator=RandomForestClassifier(bootstrap=True, ccp_alpha=0.0,\n",
       "                                              class_weight=None,\n",
       "                                              criterion='gini', max_depth=None,\n",
       "                                              max_features='auto',\n",
       "                                              max_leaf_nodes=None,\n",
       "                                              max_samples=None,\n",
       "                                              min_impurity_decrease=0.0,\n",
       "                                              min_impurity_split=None,\n",
       "                                              min_samples_leaf=1,\n",
       "                                              min_samples_split=2,\n",
       "                                              min_weight_fraction_leaf=0.0,\n",
       "                                              n_estimators=100, n_jobs=None,\n",
       "                                              oob_score=False,\n",
       "                                              random_state=None, verbose=0,\n",
       "                                              warm_start=False),\n",
       "             iid='deprecated', n_jobs=None,\n",
       "             param_grid=[{'max_features': [2, 4, 6, 8, 10],\n",
       "                          'n_estimators': [3, 10, 30, 50, 100]},\n",
       "                         {'bootstrap': [False], 'max_features': [2, 3, 4, 5, 6],\n",
       "                          'n_estimators': [3, 10, 20]}],\n",
       "             pre_dispatch='2*n_jobs', refit=True, return_train_score=False,\n",
       "             scoring='neg_log_loss', verbose=0)"
      ]
     },
     "execution_count": 34,
     "metadata": {},
     "output_type": "execute_result"
    }
   ],
   "source": [
    "from sklearn.model_selection import GridSearchCV\n",
    "from sklearn.ensemble import RandomForestClassifier\n",
    "from sklearn.metrics.scorer import make_scorer\n",
    "\n",
    "param_grid = [\n",
    " {'n_estimators': [3, 10, 30, 50, 100], 'max_features': [2, 4, 6, 8, 10]},\n",
    " {'bootstrap': [False], 'n_estimators': [3, 10, 20], 'max_features': [2, 3, 4, 5, 6]},\n",
    " ]\n",
    "\n",
    "forest_reg = RandomForestClassifier()\n",
    "\n",
    "# my_scorer = make_scorer(my_custom_loss_func, greater_is_better=False)\n",
    "\n",
    "grid_search = GridSearchCV(forest_reg, param_grid, cv=5, scoring='neg_log_loss')\n",
    "\n",
    "grid_search.fit(X_2019, Y_2019.values.ravel())"
   ]
  },
  {
   "cell_type": "code",
   "execution_count": 35,
   "metadata": {},
   "outputs": [
    {
     "data": {
      "text/plain": [
       "RandomForestClassifier(bootstrap=True, ccp_alpha=0.0, class_weight=None,\n",
       "                       criterion='gini', max_depth=None, max_features=2,\n",
       "                       max_leaf_nodes=None, max_samples=None,\n",
       "                       min_impurity_decrease=0.0, min_impurity_split=None,\n",
       "                       min_samples_leaf=1, min_samples_split=2,\n",
       "                       min_weight_fraction_leaf=0.0, n_estimators=100,\n",
       "                       n_jobs=None, oob_score=False, random_state=None,\n",
       "                       verbose=0, warm_start=False)"
      ]
     },
     "execution_count": 35,
     "metadata": {},
     "output_type": "execute_result"
    }
   ],
   "source": [
    "grid_search.best_estimator_"
   ]
  },
  {
   "cell_type": "code",
   "execution_count": 36,
   "metadata": {},
   "outputs": [
    {
     "name": "stdout",
     "output_type": "stream",
     "text": [
      "2.0313872377667876 {'max_features': 2, 'n_estimators': 3}\n",
      "0.9797045681873444 {'max_features': 2, 'n_estimators': 10}\n",
      "0.7719336788124189 {'max_features': 2, 'n_estimators': 30}\n",
      "0.7576206531601448 {'max_features': 2, 'n_estimators': 50}\n",
      "0.7536232418764417 {'max_features': 2, 'n_estimators': 100}\n",
      "2.074029846792978 {'max_features': 4, 'n_estimators': 3}\n",
      "0.9670893660751682 {'max_features': 4, 'n_estimators': 10}\n",
      "0.7732369669603848 {'max_features': 4, 'n_estimators': 30}\n",
      "0.7620311252424975 {'max_features': 4, 'n_estimators': 50}\n",
      "0.7559717411890798 {'max_features': 4, 'n_estimators': 100}\n",
      "2.158044845577156 {'max_features': 6, 'n_estimators': 3}\n",
      "0.979864750133927 {'max_features': 6, 'n_estimators': 10}\n",
      "0.797113898036547 {'max_features': 6, 'n_estimators': 30}\n",
      "0.762178816660016 {'max_features': 6, 'n_estimators': 50}\n",
      "0.7567332012077266 {'max_features': 6, 'n_estimators': 100}\n",
      "2.1097691801364316 {'max_features': 8, 'n_estimators': 3}\n",
      "0.9902524327291414 {'max_features': 8, 'n_estimators': 10}\n",
      "0.7711710897180549 {'max_features': 8, 'n_estimators': 30}\n",
      "0.7625087718990099 {'max_features': 8, 'n_estimators': 50}\n",
      "0.7620841713681602 {'max_features': 8, 'n_estimators': 100}\n",
      "2.031875904435685 {'max_features': 10, 'n_estimators': 3}\n",
      "0.9977595745250301 {'max_features': 10, 'n_estimators': 10}\n",
      "0.7997045985331377 {'max_features': 10, 'n_estimators': 30}\n",
      "0.7723518142311594 {'max_features': 10, 'n_estimators': 50}\n",
      "0.7646475160634892 {'max_features': 10, 'n_estimators': 100}\n",
      "2.104012330575823 {'bootstrap': False, 'max_features': 2, 'n_estimators': 3}\n",
      "0.9654851023479604 {'bootstrap': False, 'max_features': 2, 'n_estimators': 10}\n",
      "0.8253826523530252 {'bootstrap': False, 'max_features': 2, 'n_estimators': 20}\n",
      "2.122158891804928 {'bootstrap': False, 'max_features': 3, 'n_estimators': 3}\n",
      "1.0287797765816402 {'bootstrap': False, 'max_features': 3, 'n_estimators': 10}\n",
      "0.8231306403558606 {'bootstrap': False, 'max_features': 3, 'n_estimators': 20}\n",
      "2.1231855087532 {'bootstrap': False, 'max_features': 4, 'n_estimators': 3}\n",
      "1.0921059238459492 {'bootstrap': False, 'max_features': 4, 'n_estimators': 10}\n",
      "0.8724242646610262 {'bootstrap': False, 'max_features': 4, 'n_estimators': 20}\n",
      "2.170381498485022 {'bootstrap': False, 'max_features': 5, 'n_estimators': 3}\n",
      "1.09235263380849 {'bootstrap': False, 'max_features': 5, 'n_estimators': 10}\n",
      "0.8521011000514152 {'bootstrap': False, 'max_features': 5, 'n_estimators': 20}\n",
      "2.1395121157684973 {'bootstrap': False, 'max_features': 6, 'n_estimators': 3}\n",
      "1.0831830241487386 {'bootstrap': False, 'max_features': 6, 'n_estimators': 10}\n",
      "0.8791022447006519 {'bootstrap': False, 'max_features': 6, 'n_estimators': 20}\n"
     ]
    }
   ],
   "source": [
    "import numpy as np\n",
    "\n",
    "cvres = grid_search.cv_results_ \n",
    "for mean_score, params in zip(cvres[\"mean_test_score\"], cvres[\"params\"]): \n",
    "    print(np.sqrt(-mean_score), params)"
   ]
  },
  {
   "cell_type": "markdown",
   "metadata": {},
   "source": [
    "<div class = 'alert alert-danger'>\n",
    "    \n",
    "## LogisticRegression : Importance des features dans les prédictions"
   ]
  },
  {
   "cell_type": "code",
   "execution_count": 30,
   "metadata": {},
   "outputs": [],
   "source": [
    "## J'ai modifié le pipeline pour qu'il nous renvoie le X_train et le Y_train pour chaque saison\n",
    "\n",
    "import pandas as pd\n",
    "\n",
    "X_2015 = pd.read_csv('X_2015.csv')\n",
    "X_2016 = pd.read_csv('X_2016.csv')\n",
    "X_2017 = pd.read_csv('X_2017.csv')\n",
    "X_2018 = pd.read_csv('X_2018.csv')\n",
    "X_2019 = pd.read_csv('X_2019.csv')\n",
    "\n",
    "Y_2015 = pd.read_csv('Y_2015.csv')\n",
    "Y_2016 = pd.read_csv('Y_2016.csv')\n",
    "Y_2017 = pd.read_csv('Y_2017.csv')\n",
    "Y_2018 = pd.read_csv('Y_2018.csv')\n",
    "Y_2019 = pd.read_csv('Y_2019.csv')\n",
    "\n",
    "# Drop certaines colonnes qui n'ont pas d'importance\n",
    "X_2015.drop(columns=['ID_Team1', 'ID_Team2', 'TeamID_Team1', 'TeamID_Team2', 'Season'], inplace=True)"
   ]
  },
  {
   "cell_type": "code",
   "execution_count": 31,
   "metadata": {},
   "outputs": [
    {
     "name": "stderr",
     "output_type": "stream",
     "text": [
      "/home/willy/anaconda3/lib/python3.7/site-packages/sklearn/utils/validation.py:760: DataConversionWarning: A column-vector y was passed when a 1d array was expected. Please change the shape of y to (n_samples, ), for example using ravel().\n",
      "  y = column_or_1d(y, warn=True)\n"
     ]
    },
    {
     "data": {
      "text/plain": [
       "71.5"
      ]
     },
     "execution_count": 31,
     "metadata": {},
     "output_type": "execute_result"
    }
   ],
   "source": [
    "# Logistic Regression\n",
    "\n",
    "from sklearn.linear_model import LogisticRegression\n",
    "\n",
    "logreg = LogisticRegression()\n",
    "logreg.fit(X_2015, Y_2015)\n",
    "acc_log = round(logreg.score(X_2015, Y_2015) * 100, 2)\n",
    "acc_log"
   ]
  },
  {
   "cell_type": "code",
   "execution_count": 32,
   "metadata": {},
   "outputs": [
    {
     "data": {
      "text/html": [
       "<div>\n",
       "<style scoped>\n",
       "    .dataframe tbody tr th:only-of-type {\n",
       "        vertical-align: middle;\n",
       "    }\n",
       "\n",
       "    .dataframe tbody tr th {\n",
       "        vertical-align: top;\n",
       "    }\n",
       "\n",
       "    .dataframe thead th {\n",
       "        text-align: right;\n",
       "    }\n",
       "</style>\n",
       "<table border=\"1\" class=\"dataframe\">\n",
       "  <thead>\n",
       "    <tr style=\"text-align: right;\">\n",
       "      <th></th>\n",
       "      <th>0</th>\n",
       "      <th>Correlation</th>\n",
       "    </tr>\n",
       "  </thead>\n",
       "  <tbody>\n",
       "    <tr>\n",
       "      <th>12</th>\n",
       "      <td>Mean score_Team2</td>\n",
       "      <td>4.828900</td>\n",
       "    </tr>\n",
       "    <tr>\n",
       "      <th>2</th>\n",
       "      <td>W_Team1</td>\n",
       "      <td>3.667324</td>\n",
       "    </tr>\n",
       "    <tr>\n",
       "      <th>3</th>\n",
       "      <td>L_Team1</td>\n",
       "      <td>3.211455</td>\n",
       "    </tr>\n",
       "    <tr>\n",
       "      <th>7</th>\n",
       "      <td>Played_Team2</td>\n",
       "      <td>0.741469</td>\n",
       "    </tr>\n",
       "    <tr>\n",
       "      <th>4</th>\n",
       "      <td>Win rate_Team1</td>\n",
       "      <td>0.455869</td>\n",
       "    </tr>\n",
       "    <tr>\n",
       "      <th>14</th>\n",
       "      <td>Seed_diff</td>\n",
       "      <td>0.028951</td>\n",
       "    </tr>\n",
       "    <tr>\n",
       "      <th>5</th>\n",
       "      <td>Seed_Team1</td>\n",
       "      <td>0.014478</td>\n",
       "    </tr>\n",
       "    <tr>\n",
       "      <th>0</th>\n",
       "      <td>Team2_Home</td>\n",
       "      <td>0.000000</td>\n",
       "    </tr>\n",
       "    <tr>\n",
       "      <th>1</th>\n",
       "      <td>Played_Team1</td>\n",
       "      <td>0.000000</td>\n",
       "    </tr>\n",
       "    <tr>\n",
       "      <th>11</th>\n",
       "      <td>Seed_Team2</td>\n",
       "      <td>-0.014472</td>\n",
       "    </tr>\n",
       "    <tr>\n",
       "      <th>10</th>\n",
       "      <td>Win rate_Team2</td>\n",
       "      <td>-0.456018</td>\n",
       "    </tr>\n",
       "    <tr>\n",
       "      <th>13</th>\n",
       "      <td>Win rate_diff</td>\n",
       "      <td>-0.741436</td>\n",
       "    </tr>\n",
       "    <tr>\n",
       "      <th>9</th>\n",
       "      <td>L_Team2</td>\n",
       "      <td>-3.211407</td>\n",
       "    </tr>\n",
       "    <tr>\n",
       "      <th>8</th>\n",
       "      <td>W_Team2</td>\n",
       "      <td>-3.667425</td>\n",
       "    </tr>\n",
       "    <tr>\n",
       "      <th>6</th>\n",
       "      <td>Mean score_Team1</td>\n",
       "      <td>-4.828605</td>\n",
       "    </tr>\n",
       "    <tr>\n",
       "      <th>15</th>\n",
       "      <td>Mean score_diff</td>\n",
       "      <td>-9.657505</td>\n",
       "    </tr>\n",
       "  </tbody>\n",
       "</table>\n",
       "</div>"
      ],
      "text/plain": [
       "                   0  Correlation\n",
       "12  Mean score_Team2     4.828900\n",
       "2            W_Team1     3.667324\n",
       "3            L_Team1     3.211455\n",
       "7       Played_Team2     0.741469\n",
       "4     Win rate_Team1     0.455869\n",
       "14         Seed_diff     0.028951\n",
       "5         Seed_Team1     0.014478\n",
       "0         Team2_Home     0.000000\n",
       "1       Played_Team1     0.000000\n",
       "11        Seed_Team2    -0.014472\n",
       "10    Win rate_Team2    -0.456018\n",
       "13     Win rate_diff    -0.741436\n",
       "9            L_Team2    -3.211407\n",
       "8            W_Team2    -3.667425\n",
       "6   Mean score_Team1    -4.828605\n",
       "15   Mean score_diff    -9.657505"
      ]
     },
     "execution_count": 32,
     "metadata": {},
     "output_type": "execute_result"
    }
   ],
   "source": [
    "# Corrélation des features et importance dans les prédictions\n",
    "\n",
    "coeff_df = pd.DataFrame(X_2015.columns.delete(0))\n",
    "coeff_df[\"Correlation\"] = pd.Series(logreg.coef_[0]*100)\n",
    "coeff_df.sort_values(by='Correlation', ascending=False)"
   ]
  },
  {
   "cell_type": "code",
   "execution_count": 33,
   "metadata": {},
   "outputs": [
    {
     "data": {
      "image/png": "[encoded data removed]",
      "text/plain": [
       "<Figure size 360x252 with 1 Axes>"
      ]
     },
     "metadata": {
      "needs_background": "light"
     },
     "output_type": "display_data"
    }
   ],
   "source": [
    "## Histogramme\n",
    "\n",
    "# import libraries\n",
    "import pandas as pd\n",
    "import matplotlib.pyplot as plt\n",
    "import numpy as np\n",
    "%matplotlib inline\n",
    "\n",
    "columns = X_2015.columns\n",
    "\n",
    "# set font\n",
    "plt.rcParams['font.family'] = 'sans-serif'\n",
    "plt.rcParams['font.sans-serif'] = 'Helvetica'\n",
    "\n",
    "# set the style of the axes and the text color\n",
    "plt.rcParams['axes.edgecolor']='#333F4B'\n",
    "plt.rcParams['axes.linewidth']=0.8\n",
    "plt.rcParams['xtick.color']='#333F4B'\n",
    "plt.rcParams['ytick.color']='#333F4B'\n",
    "plt.rcParams['text.color']='#333F4B'\n",
    "\n",
    "# create some fake data\n",
    "correlation = pd.Series(logreg.coef_[0], \n",
    "                        index=columns)\n",
    "df = pd.DataFrame({'Corrélation' : correlation})\n",
    "df = df.sort_values(by='Corrélation')\n",
    "\n",
    "# we first need a numeric placeholder for the y axis\n",
    "my_range=list(range(1,len(df.index)+1))\n",
    "\n",
    "fig, ax = plt.subplots(figsize=(5,3.5))\n",
    "\n",
    "# create for each expense type an horizontal line that starts at x = 0 with the length \n",
    "# represented by the specific expense percentage value.\n",
    "plt.hlines(y=my_range, xmin=0, xmax=df['Corrélation'], color='#007ACC', alpha=0.2, linewidth=5)\n",
    "\n",
    "# create for each expense type a dot at the level of the expense percentage value\n",
    "plt.plot(df['Corrélation'], my_range, \"o\", markersize=5, color='#007ACC', alpha=0.6)\n",
    "\n",
    "# set labels\n",
    "ax.set_xlabel('Corrélation', fontsize=15, fontweight='black', color = '#333F4B')\n",
    "ax.set_ylabel('')\n",
    "\n",
    "# set axis\n",
    "ax.tick_params(axis='both', which='major', labelsize=12)\n",
    "plt.yticks(my_range, df.index)\n",
    "\n",
    "# add an horizonal label for the y axis \n",
    "fig.text(-0.23, 0.96, 'Feature', fontsize=15, fontweight='black', color = '#333F4B')\n",
    "\n",
    "# change the style of the axis spines\n",
    "ax.spines['top'].set_color('none')\n",
    "ax.spines['right'].set_color('none')\n",
    "ax.spines['left'].set_smart_bounds(True)\n",
    "ax.spines['bottom'].set_smart_bounds(True)\n",
    "\n",
    "# set the spines position\n",
    "ax.spines['bottom'].set_position(('axes', -0.04))\n",
    "ax.spines['left'].set_position(('axes', 0.015))\n",
    "s\n",
    "plt.title('Corrélation après une Logistic Regression', fontsize=15, fontweight='black')\n",
    "\n",
    "plt.savefig('hist2.png', dpi=300, bbox_inches='tight')\n"
   ]
  }
 ],
 "metadata": {
  "kernelspec": {
   "display_name": "Python 3",
   "language": "python",
   "name": "python3"
  },
  "language_info": {
   "codemirror_mode": {
    "name": "ipython",
    "version": 3
   },
   "file_extension": ".py",
   "mimetype": "text/x-python",
   "name": "python",
   "nbconvert_exporter": "python",
   "pygments_lexer": "ipython3",
   "version": "3.7.3"
  },
  "toc": {
   "base_numbering": 1,
   "nav_menu": {},
   "number_sections": true,
   "sideBar": true,
   "skip_h1_title": false,
   "title_cell": "Table of Contents",
   "title_sidebar": "Contents",
   "toc_cell": false,
   "toc_position": {},
   "toc_section_display": true,
   "toc_window_display": false
  }
 },
 "nbformat": 4,
 "nbformat_minor": 2
}
