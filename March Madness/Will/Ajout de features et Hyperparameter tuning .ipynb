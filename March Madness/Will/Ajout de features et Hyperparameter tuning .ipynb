{
 "cells": [
  {
   "cell_type": "code",
   "execution_count": 2,
   "metadata": {},
   "outputs": [],
   "source": [
    "import numpy as np #import numpy drives sklearn to use numpy arrays instead of python lists\n",
    "import pandas as pd #CSV and dataframe handling\n",
    "import matplotlib.pyplot as plt\n",
    "\n",
    "# Regressors\n",
    "from sklearn.ensemble import RandomForestClassifier\n",
    "\n",
    "from sklearn.model_selection import train_test_split\n",
    "from sklearn.decomposition import PCA\n",
    "from sklearn.preprocessing import StandardScaler\n",
    "from sklearn.metrics import mean_squared_error, r2_score"
   ]
  },
  {
   "cell_type": "markdown",
   "metadata": {},
   "source": [
    "<div class = 'alert alert-info'>\n",
    "    \n",
    "**Import the data**"
   ]
  },
  {
   "cell_type": "code",
   "execution_count": 32,
   "metadata": {},
   "outputs": [],
   "source": [
    "import pandas as pd\n",
    "\n",
    "# Section 1\n",
    "MTeams_Stage1 = pd.read_csv('../data/MDataFiles_Stage1/MTeams.csv')\n",
    "# MTeams_Stage2 = pd.read_csv('../data/MDataFiles_Stage2/MTeams.csv')\n",
    "\n",
    "MTSeasons_Stage1 = pd.read_csv('../data/MDataFiles_Stage1/MSeasons.csv')\n",
    "# MTSeasons_Stage2 = pd.read_csv('../data/MDataFiles_Stage2/MSeasons.csv')\n",
    "\n",
    "MNCAATourneySeeds_Stage1 = pd.read_csv('../data/MDataFiles_Stage1/MNCAATourneySeeds.csv')\n",
    "# MNCAATourneySeeds_Stage2 = pd.read_csv('../data/MDataFiles_Stage2/MNCAATourneySeeds.csv')\n",
    "\n",
    "MRegularSeasonCompactResults_Stage1 = pd.read_csv('../data/MDataFiles_Stage1/MRegularSeasonCompactResults.csv')\n",
    "# MRegularSeasonCompactResults_Stage2 = pd.read_csv('../data/MDataFiles_Stage2/MRegularSeasonCompactResults.csv')\n",
    "\n",
    "MNCAATourneyCompactResults_Stage1 = pd.read_csv('../data/MDataFiles_Stage1/MNCAATourneyCompactResults.csv')\n",
    "# MNCAATourneyCompact1Results_Stage2 = pd.read_csv('../data/MDataFiles_Stage2/MNCAATourneyCompactResults.csv')"
   ]
  },
  {
   "cell_type": "code",
   "execution_count": 4,
   "metadata": {},
   "outputs": [],
   "source": [
    "# Section 2\n",
    "\n",
    "# MRegularSeasonDetailedResults_Stage1 = pd.read_csv('../data/MDataFiles_Stage1/MRegularSeasonDetailedResults.csv')\n",
    "# MRegularSeasonDetailedResults_Stage2 = pd.read_csv('../data/MDataFiles_Stage2/MRegularSeasonDetailedResults.csv')\n",
    "\n",
    "# MNCAATourneyDetailedResults_Stage1 = pd.read_csv('../data/MDataFiles_Stage1/MNCAATourneyDetailedResults.csv')\n",
    "# MNCAATourneyDetailedResults_Stage2 = pd.read_csv('../data/MDataFiles_Stage2/MNCAATourneyDetailedResults.csv')"
   ]
  },
  {
   "cell_type": "code",
   "execution_count": 5,
   "metadata": {},
   "outputs": [],
   "source": [
    "# Section 3\n",
    "\n",
    "# Cities_Stage1 = pd.read_csv('../data/MDataFiles_Stage1/Cities.csv')\n",
    "# Cities_Stage2 = pd.read_csv('../data/MDataFiles_Stage2/Cities.csv')\n",
    "\n",
    "# MGameCities_Stage1 = pd.read_csv('../data/MDataFiles_Stage1/MGameCities.csv')\n",
    "# MGameCities_Stage2 = pd.read_csv('../data/MDataFiles_Stage2/MGameCities.csv')"
   ]
  },
  {
   "cell_type": "code",
   "execution_count": 6,
   "metadata": {},
   "outputs": [],
   "source": [
    "# Section 4\n",
    "\n",
    "# MMasseyOrdinals_Stage1 = pd.read_csv('../data/MDataFiles_Stage1/MMasseyOrdinals.csv')\n",
    "# MMasseyOrdinals_Stage2 = pd.read_csv('../data/MDataFiles_Stage2/MMasseyOrdinals.csv')"
   ]
  },
  {
   "cell_type": "code",
   "execution_count": 7,
   "metadata": {},
   "outputs": [],
   "source": [
    "# Section 5\n",
    "\n",
    "# MEvents2015 = pd.read_csv('../data/MEvents2015.csv')\n",
    "# MEvents2016 = pd.read_csv('../data/MEvents2016.csv')\n",
    "# MEvents2017 = pd.read_csv('../data/MEvents2017.csv')\n",
    "# MEvents2018 = pd.read_csv('../data/MEvents2018.csv')\n",
    "# MEvents2019 = pd.read_csv('../data/MEvents2019.csv')\n",
    "# MPlayers    = pd.read_csv('../data/MPlayers.csv')"
   ]
  },
  {
   "cell_type": "code",
   "execution_count": 8,
   "metadata": {},
   "outputs": [],
   "source": [
    "# Section 6\n",
    "\n",
    "# MTeamCoaches_Stage1 = pd.read_csv('../data/MDataFiles_Stage1/MTeamCoaches.csv')\n",
    "# MTeamCoaches_Stage2 = pd.read_csv('../data/MDataFiles_Stage2/MTeamCoaches.csv')\n",
    "\n",
    "# Conferences_Stage1  = pd.read_csv('../data/MDataFiles_Stage1/Conferences.csv')\n",
    "# Conferences_Stage2  = pd.read_csv('../data/MDataFiles_Stage2/Conferences.csv')\n",
    "\n",
    "# MTeamConferences_Stage1 = pd.read_csv('../data/MDataFiles_Stage1/MTeamConferences.csv')\n",
    "# MTeamConferences_Stage2 = pd.read_csv('../data/MDataFiles_Stage2/MTeamConferences.csv')\n",
    "\n",
    "# MConferenceTourneyGames_Stage1 = pd.read_csv('../data/MDataFiles_Stage1/MConferenceTourneyGames.csv')\n",
    "# MConferenceTourneyGames_Stage2 = pd.read_csv('../data/MDataFiles_Stage2/MConferenceTourneyGames.csv')\n",
    "\n",
    "# MSecondaryTourneyTeams_Stage1 = pd.read_csv('../data/MDataFiles_Stage1/MSecondaryTourneyTeams.csv')\n",
    "# MSecondaryTourneyTeams_Stage2 = pd.read_csv('../data/MDataFiles_Stage2/MSecondaryTourneyTeams.csv')\n",
    "\n",
    "# MSecondaryTourneyCompactResults_Stage1 = pd.read_csv('../data/MDataFiles_Stage1/MSecondaryTourneyCompactResults.csv')\n",
    "# MSecondaryTourneyCompactResults_Stage2 = pd.read_csv('../data/MDataFiles_Stage2/MSecondaryTourneyCompactResults.csv')\n",
    "\n",
    "# MTeamSpellings_Stage1 = pd.read_csv('../data/MDataFiles_Stage1/MTeamSpellings.csv', encoding = \"ISO-8859-1\", low_memory=False)\n",
    "# MTeamSpellings_Stage2 = pd.read_csv('../data/MDataFiles_Stage2/MTeamSpellings.csv', encoding = \"ISO-8859-1\", low_memory=False)\n",
    "\n",
    "# MNCAATourneySlots_Stage1 = pd.read_csv('../data/MDataFiles_Stage1/MNCAATourneySlots.csv')\n",
    "# MNCAATourneySlots_Stage2 = pd.read_csv('../data/MDataFiles_Stage2/MNCAATourneySlots.csv')\n",
    "\n",
    "# MNCAATourneySeedRoundSlots_Stage1 = pd.read_csv('../data/MDataFiles_Stage1/MNCAATourneySeedRoundSlots.csv')\n",
    "# MNCAATourneySeedRoundSlots_Stage2 = pd.read_csv('../data/MDataFiles_Stage2/MNCAATourneySeedRoundSlots.csv')"
   ]
  },
  {
   "cell_type": "markdown",
   "metadata": {},
   "source": [
    "## Dataset Creation"
   ]
  },
  {
   "cell_type": "code",
   "execution_count": 9,
   "metadata": {},
   "outputs": [],
   "source": [
    "seasons = list(MTSeasons_Stage1['Season'].unique())\n",
    "team_ids = list(MTeams_Stage1['TeamID'])"
   ]
  },
  {
   "cell_type": "code",
   "execution_count": 10,
   "metadata": {},
   "outputs": [
    {
     "name": "stdout",
     "output_type": "stream",
     "text": [
      "Season 2020: 0 matches\t\ts\t\t\r"
     ]
    }
   ],
   "source": [
    "team_stats = []\n",
    "\n",
    "for s in seasons:\n",
    "    df = MRegularSeasonCompactResults_Stage1[MRegularSeasonCompactResults_Stage1['Season']==s]\n",
    "    print('Season %d: %d matches\\t\\t'%(s, len(df)), end='\\r')\n",
    "\n",
    "    for t in team_ids:\n",
    "        w = len(df[df['WTeamID']==t])\n",
    "        l = len(df[df['LTeamID']==t])\n",
    "        p = w + l\n",
    "        if p==0:\n",
    "            wr = 0\n",
    "        else:\n",
    "            wr = w / p\n",
    "        d = {\n",
    "            'Season':s,\n",
    "            'TeamID':t,\n",
    "            'W':w,\n",
    "            'L':l,\n",
    "            'Played':p,\n",
    "            'Win rate':wr\n",
    "        }\n",
    "        team_stats.append(d)"
   ]
  },
  {
   "cell_type": "code",
   "execution_count": 11,
   "metadata": {
    "scrolled": false
   },
   "outputs": [
    {
     "data": {
      "text/html": [
       "<div>\n",
       "<style scoped>\n",
       "    .dataframe tbody tr th:only-of-type {\n",
       "        vertical-align: middle;\n",
       "    }\n",
       "\n",
       "    .dataframe tbody tr th {\n",
       "        vertical-align: top;\n",
       "    }\n",
       "\n",
       "    .dataframe thead th {\n",
       "        text-align: right;\n",
       "    }\n",
       "</style>\n",
       "<table border=\"1\" class=\"dataframe\">\n",
       "  <thead>\n",
       "    <tr style=\"text-align: right;\">\n",
       "      <th></th>\n",
       "      <th>Season</th>\n",
       "      <th>TeamID</th>\n",
       "      <th>Played</th>\n",
       "      <th>W</th>\n",
       "      <th>L</th>\n",
       "      <th>Win rate</th>\n",
       "    </tr>\n",
       "  </thead>\n",
       "  <tbody>\n",
       "    <tr>\n",
       "      <th>0</th>\n",
       "      <td>1985</td>\n",
       "      <td>1101</td>\n",
       "      <td>0</td>\n",
       "      <td>0</td>\n",
       "      <td>0</td>\n",
       "      <td>0.000000</td>\n",
       "    </tr>\n",
       "    <tr>\n",
       "      <th>1</th>\n",
       "      <td>1985</td>\n",
       "      <td>1102</td>\n",
       "      <td>24</td>\n",
       "      <td>5</td>\n",
       "      <td>19</td>\n",
       "      <td>0.208333</td>\n",
       "    </tr>\n",
       "    <tr>\n",
       "      <th>2</th>\n",
       "      <td>1985</td>\n",
       "      <td>1103</td>\n",
       "      <td>23</td>\n",
       "      <td>9</td>\n",
       "      <td>14</td>\n",
       "      <td>0.391304</td>\n",
       "    </tr>\n",
       "    <tr>\n",
       "      <th>3</th>\n",
       "      <td>1985</td>\n",
       "      <td>1104</td>\n",
       "      <td>30</td>\n",
       "      <td>21</td>\n",
       "      <td>9</td>\n",
       "      <td>0.700000</td>\n",
       "    </tr>\n",
       "    <tr>\n",
       "      <th>4</th>\n",
       "      <td>1985</td>\n",
       "      <td>1105</td>\n",
       "      <td>0</td>\n",
       "      <td>0</td>\n",
       "      <td>0</td>\n",
       "      <td>0.000000</td>\n",
       "    </tr>\n",
       "  </tbody>\n",
       "</table>\n",
       "</div>"
      ],
      "text/plain": [
       "   Season  TeamID  Played   W   L  Win rate\n",
       "0    1985    1101       0   0   0  0.000000\n",
       "1    1985    1102      24   5  19  0.208333\n",
       "2    1985    1103      23   9  14  0.391304\n",
       "3    1985    1104      30  21   9  0.700000\n",
       "4    1985    1105       0   0   0  0.000000"
      ]
     },
     "execution_count": 11,
     "metadata": {},
     "output_type": "execute_result"
    }
   ],
   "source": [
    "team_stats_df = pd.DataFrame(team_stats)\n",
    "team_stats_df = team_stats_df[['Season', 'TeamID', 'Played',  'W', 'L', 'Win rate']]\n",
    "team_stats_df.head()"
   ]
  },
  {
   "cell_type": "code",
   "execution_count": 12,
   "metadata": {
    "scrolled": false
   },
   "outputs": [
    {
     "data": {
      "text/html": [
       "<div>\n",
       "<style scoped>\n",
       "    .dataframe tbody tr th:only-of-type {\n",
       "        vertical-align: middle;\n",
       "    }\n",
       "\n",
       "    .dataframe tbody tr th {\n",
       "        vertical-align: top;\n",
       "    }\n",
       "\n",
       "    .dataframe thead th {\n",
       "        text-align: right;\n",
       "    }\n",
       "</style>\n",
       "<table border=\"1\" class=\"dataframe\">\n",
       "  <thead>\n",
       "    <tr style=\"text-align: right;\">\n",
       "      <th></th>\n",
       "      <th>Season</th>\n",
       "      <th>TeamID</th>\n",
       "      <th>Played</th>\n",
       "      <th>W</th>\n",
       "      <th>L</th>\n",
       "      <th>Win rate</th>\n",
       "      <th>Seed</th>\n",
       "    </tr>\n",
       "  </thead>\n",
       "  <tbody>\n",
       "    <tr>\n",
       "      <th>0</th>\n",
       "      <td>1985</td>\n",
       "      <td>1101</td>\n",
       "      <td>0</td>\n",
       "      <td>0</td>\n",
       "      <td>0</td>\n",
       "      <td>0.000000</td>\n",
       "      <td>0</td>\n",
       "    </tr>\n",
       "    <tr>\n",
       "      <th>1</th>\n",
       "      <td>1985</td>\n",
       "      <td>1102</td>\n",
       "      <td>24</td>\n",
       "      <td>5</td>\n",
       "      <td>19</td>\n",
       "      <td>0.208333</td>\n",
       "      <td>0</td>\n",
       "    </tr>\n",
       "    <tr>\n",
       "      <th>2</th>\n",
       "      <td>1985</td>\n",
       "      <td>1103</td>\n",
       "      <td>23</td>\n",
       "      <td>9</td>\n",
       "      <td>14</td>\n",
       "      <td>0.391304</td>\n",
       "      <td>0</td>\n",
       "    </tr>\n",
       "    <tr>\n",
       "      <th>3</th>\n",
       "      <td>1985</td>\n",
       "      <td>1104</td>\n",
       "      <td>30</td>\n",
       "      <td>21</td>\n",
       "      <td>9</td>\n",
       "      <td>0.700000</td>\n",
       "      <td>7</td>\n",
       "    </tr>\n",
       "    <tr>\n",
       "      <th>4</th>\n",
       "      <td>1985</td>\n",
       "      <td>1105</td>\n",
       "      <td>0</td>\n",
       "      <td>0</td>\n",
       "      <td>0</td>\n",
       "      <td>0.000000</td>\n",
       "      <td>0</td>\n",
       "    </tr>\n",
       "    <tr>\n",
       "      <th>...</th>\n",
       "      <td>...</td>\n",
       "      <td>...</td>\n",
       "      <td>...</td>\n",
       "      <td>...</td>\n",
       "      <td>...</td>\n",
       "      <td>...</td>\n",
       "      <td>...</td>\n",
       "    </tr>\n",
       "    <tr>\n",
       "      <th>13207</th>\n",
       "      <td>2020</td>\n",
       "      <td>1463</td>\n",
       "      <td>0</td>\n",
       "      <td>0</td>\n",
       "      <td>0</td>\n",
       "      <td>0.000000</td>\n",
       "      <td>0</td>\n",
       "    </tr>\n",
       "    <tr>\n",
       "      <th>13208</th>\n",
       "      <td>2020</td>\n",
       "      <td>1464</td>\n",
       "      <td>0</td>\n",
       "      <td>0</td>\n",
       "      <td>0</td>\n",
       "      <td>0.000000</td>\n",
       "      <td>0</td>\n",
       "    </tr>\n",
       "    <tr>\n",
       "      <th>13209</th>\n",
       "      <td>2020</td>\n",
       "      <td>1465</td>\n",
       "      <td>0</td>\n",
       "      <td>0</td>\n",
       "      <td>0</td>\n",
       "      <td>0.000000</td>\n",
       "      <td>0</td>\n",
       "    </tr>\n",
       "    <tr>\n",
       "      <th>13210</th>\n",
       "      <td>2020</td>\n",
       "      <td>1466</td>\n",
       "      <td>0</td>\n",
       "      <td>0</td>\n",
       "      <td>0</td>\n",
       "      <td>0.000000</td>\n",
       "      <td>0</td>\n",
       "    </tr>\n",
       "    <tr>\n",
       "      <th>13211</th>\n",
       "      <td>2020</td>\n",
       "      <td>1467</td>\n",
       "      <td>0</td>\n",
       "      <td>0</td>\n",
       "      <td>0</td>\n",
       "      <td>0.000000</td>\n",
       "      <td>0</td>\n",
       "    </tr>\n",
       "  </tbody>\n",
       "</table>\n",
       "<p>13212 rows × 7 columns</p>\n",
       "</div>"
      ],
      "text/plain": [
       "       Season  TeamID  Played   W   L  Win rate  Seed\n",
       "0        1985    1101       0   0   0  0.000000     0\n",
       "1        1985    1102      24   5  19  0.208333     0\n",
       "2        1985    1103      23   9  14  0.391304     0\n",
       "3        1985    1104      30  21   9  0.700000     7\n",
       "4        1985    1105       0   0   0  0.000000     0\n",
       "...       ...     ...     ...  ..  ..       ...   ...\n",
       "13207    2020    1463       0   0   0  0.000000     0\n",
       "13208    2020    1464       0   0   0  0.000000     0\n",
       "13209    2020    1465       0   0   0  0.000000     0\n",
       "13210    2020    1466       0   0   0  0.000000     0\n",
       "13211    2020    1467       0   0   0  0.000000     0\n",
       "\n",
       "[13212 rows x 7 columns]"
      ]
     },
     "execution_count": 12,
     "metadata": {},
     "output_type": "execute_result"
    }
   ],
   "source": [
    "## Will : Ajout du seed\n",
    "\n",
    "# Jointure sur des Seeds sur TeamID pour rajouter le seed\n",
    "team_stats_df = pd.merge(team_stats_df, MNCAATourneySeeds_Stage1, left_on=['Season', 'TeamID'], right_on=['Season', 'TeamID'], how='left')\n",
    "\n",
    "# Drop les NaN car seules les équipes qui participent au MNCAA ont un seed\n",
    "# team_stats_df.dropna(inplace=True)\n",
    "\n",
    "# Reindex après avoir drop\n",
    "# team_stats_df.reset_index(drop=True, inplace=True)\n",
    "\n",
    "# Seed sous la forme X01 : on garde 01\n",
    "def get_seed(x):\n",
    "    return int(x[1:3])\n",
    "                 \n",
    "team_stats_df.fillna('000', inplace=True)\n",
    "team_stats_df['Seed'] = team_stats_df['Seed'].map(lambda x: get_seed(x))\n",
    "\n",
    "team_stats_df"
   ]
  },
  {
   "cell_type": "code",
   "execution_count": 13,
   "metadata": {},
   "outputs": [
    {
     "name": "stderr",
     "output_type": "stream",
     "text": [
      "/home/willy/anaconda3/lib/python3.7/site-packages/ipykernel_launcher.py:18: RuntimeWarning: Mean of empty slice.\n",
      "/home/willy/anaconda3/lib/python3.7/site-packages/numpy/core/_methods.py:161: RuntimeWarning: invalid value encountered in double_scalars\n",
      "  ret = ret.dtype.type(ret / rcount)\n"
     ]
    }
   ],
   "source": [
    "## Will : Ajout du Mean score\n",
    "\n",
    "# Ajout d'une colonne Mean score\n",
    "team_stats_df['Mean score'] = 0\n",
    "\n",
    "regular_results = MRegularSeasonCompactResults_Stage1\n",
    "\n",
    "# Calcul du Mean score par saison pour chaque équipe\n",
    "for s in seasons:\n",
    "    team_MNCAA_season = team_stats_df.loc[np.where(team_stats_df['Season']==s)[0], 'TeamID'].unique()\n",
    "    \n",
    "    for t in team_MNCAA_season:\n",
    "        line_score_W = np.where((regular_results['Season']==s) & (regular_results['WTeamID']==t))[0]\n",
    "        line_score_L = np.where((regular_results['Season']==s) & (regular_results['LTeamID']==t))[0]\n",
    "        \n",
    "        # Cas où il n'y a que des victoires (sinon mean_score_L = NaN)\n",
    "        if len(line_score_L) == 0:\n",
    "            mean_score_W = regular_results.loc[line_score_W, 'WScore'].values.mean()\n",
    "            team_stats_df.loc[np.where((team_stats_df['Season']==s) & (team_stats_df['TeamID']==t))[0][0], 'Mean score'] = mean_score_W            \n",
    "        \n",
    "        # Cas où il n'y a que des défaites (sinon mean_score_W = NaN)        \n",
    "        elif len(line_score_W) == 0:\n",
    "            mean_score_L = regular_results.loc[line_score_L, 'LScore'].values.mean()\n",
    "            team_stats_df.loc[np.where((team_stats_df['Season']==s) & (team_stats_df['TeamID']==t))[0][0], 'Mean score'] = mean_score_L          \n",
    "        \n",
    "        # Cas où il y a au moins une défaite et une victoire\n",
    "        else:   \n",
    "            mean_score_W = regular_results.loc[line_score_W, 'WScore'].values.mean()\n",
    "            mean_score_L = regular_results.loc[line_score_L, 'LScore'].values.mean()            \n",
    "            mean_score   = (mean_score_W + mean_score_L)/2\n",
    "            team_stats_df.loc[np.where((team_stats_df['Season']==s) & (team_stats_df['TeamID']==t))[0][0], 'Mean score'] = mean_score"
   ]
  },
  {
   "cell_type": "code",
   "execution_count": 16,
   "metadata": {},
   "outputs": [],
   "source": [
    "## Will : Ajout de la colonne 'Seed'\n",
    "\n",
    "team_stats_df.to_csv('stats_v1.csv', columns=['Season', 'TeamID', 'Played',  'W', 'L', 'Win rate', 'Seed', 'Mean score'])"
   ]
  },
  {
   "cell_type": "code",
   "execution_count": null,
   "metadata": {},
   "outputs": [],
   "source": []
  },
  {
   "cell_type": "markdown",
   "metadata": {},
   "source": [
    "## Train and predict"
   ]
  },
  {
   "cell_type": "code",
   "execution_count": 1,
   "metadata": {
    "scrolled": true
   },
   "outputs": [
    {
     "name": "stdout",
     "output_type": "stream",
     "text": [
      "[1985 1986 1987 1988 1989 1990 1991 1992 1993 1994 1995 1996 1997 1998\n",
      " 1999 2000 2001 2002 2003 2004 2005 2006 2007 2008 2009 2010 2011 2012\n",
      " 2013 2014]\n",
      "History merged with stats_v1.csv\n",
      "Difference computed on Seed\n",
      "Generated matches merged with stats_v1.csv\n",
      "Result saved as test_2015.csv\n",
      "[1985 1986 1987 1988 1989 1990 1991 1992 1993 1994 1995 1996 1997 1998\n",
      " 1999 2000 2001 2002 2003 2004 2005 2006 2007 2008 2009 2010 2011 2012\n",
      " 2013 2014 2015]\n",
      "History merged with stats_v1.csv\n",
      "Difference computed on Seed\n",
      "Generated matches merged with stats_v1.csv\n",
      "Result saved as test_2016.csv\n",
      "[1985 1986 1987 1988 1989 1990 1991 1992 1993 1994 1995 1996 1997 1998\n",
      " 1999 2000 2001 2002 2003 2004 2005 2006 2007 2008 2009 2010 2011 2012\n",
      " 2013 2014 2015 2016]\n",
      "History merged with stats_v1.csv\n",
      "Difference computed on Seed\n",
      "Generated matches merged with stats_v1.csv\n",
      "Result saved as test_2017.csv\n",
      "[1985 1986 1987 1988 1989 1990 1991 1992 1993 1994 1995 1996 1997 1998\n",
      " 1999 2000 2001 2002 2003 2004 2005 2006 2007 2008 2009 2010 2011 2012\n",
      " 2013 2014 2015 2016 2017]\n",
      "History merged with stats_v1.csv\n",
      "Difference computed on Seed\n",
      "Generated matches merged with stats_v1.csv\n",
      "Result saved as test_2018.csv\n",
      "[1985 1986 1987 1988 1989 1990 1991 1992 1993 1994 1995 1996 1997 1998\n",
      " 1999 2000 2001 2002 2003 2004 2005 2006 2007 2008 2009 2010 2011 2012\n",
      " 2013 2014 2015 2016 2017 2018]\n",
      "History merged with stats_v1.csv\n",
      "Difference computed on Seed\n",
      "Generated matches merged with stats_v1.csv\n",
      "Result saved as test_2019.csv\n"
     ]
    }
   ],
   "source": [
    "## Prédictions pour les saisons 2015 - 2019\n",
    "\n",
    "import pipeline as pp\n",
    "\n",
    "for s in range(2015,2020):\n",
    "    p = pp.pipeline(path='../data/MDataFiles_Stage1/',  season=s)\n",
    "    p.add_team_data('stats_v1.csv')\n",
    "    p.compute_differences(['Seed'])\n",
    "    p.train_model(s) ## AJOUT\n",
    "    p.predict(out='test_' + str(s) + '.csv')"
   ]
  },
  {
   "cell_type": "code",
   "execution_count": 33,
   "metadata": {},
   "outputs": [],
   "source": [
    "## Import the predictions\n",
    "\n",
    "test_2015 = pd.read_csv('test_2015.csv')\n",
    "test_2016 = pd.read_csv('test_2016.csv')\n",
    "test_2017 = pd.read_csv('test_2017.csv')\n",
    "test_2018 = pd.read_csv('test_2018.csv')\n",
    "test_2019 = pd.read_csv('test_2019.csv')\n",
    "\n",
    "# Merge the predictions\n",
    "test = pd.concat([test_2015, test_2016, test_2017, test_2018, test_2019])\n",
    "\n",
    "# Création d'une colonne Team1_Win : 1 si Team1 a gagné, 0 sinon\n",
    "test['Team1_Win'] = 0\n",
    "test_2015['Team1_Win']=0"
   ]
  },
  {
   "cell_type": "code",
   "execution_count": 34,
   "metadata": {
    "scrolled": true
   },
   "outputs": [],
   "source": [
    "## Résultats de tous les MNCAA\n",
    "\n",
    "m = MNCAATourneyCompactResults_Stage1\n",
    "m1 = pd.DataFrame()\n",
    "m1['Season'] = m['Season']\n",
    "m1['ID_Team1'] = m['WTeamID']\n",
    "m1['ID_Team2'] = m['LTeamID']\n",
    "m1['Team1_Win'] = 1"
   ]
  },
  {
   "cell_type": "code",
   "execution_count": 35,
   "metadata": {
    "scrolled": true
   },
   "outputs": [],
   "source": [
    "# Remplissage de la colonne Team1_Win pour chaque saison\n",
    "def column_Team1_Win(season, test_file):\n",
    "    \n",
    "    # IDTeam 1 vs IDTeam 2\n",
    "    match_pair = list(zip(m1.loc[np.where(m1['Season']==season)[0], 'ID_Team1'], m1.loc[np.where(m1['Season']==season)[0], 'ID_Team2']))\n",
    "\n",
    "    index_match = []\n",
    "    for i in range(len(match_pair)):\n",
    "\n",
    "        index1_2 = np.where((test_file['ID_Team1']==match_pair[i][0]) & (test_file['ID_Team2']==match_pair[i][1]))[0]\n",
    "        index2_1 = np.where((test_file['ID_Team2']==match_pair[i][0]) & (test_file['ID_Team1']==match_pair[i][1]))[0]\n",
    "\n",
    "        if len(index1_2) != 0:\n",
    "            index_match.append(index1_2)\n",
    "            test_file.loc[index1_2, 'Team1_Win']=1\n",
    "        else:\n",
    "            index_match.append(index2_1)\n",
    "            test_file.loc[index2_1, 'Team1_Win']=0\n",
    "\n",
    "    index_match = np.concatenate(index_match, axis=0)\n",
    "    return(index_match)"
   ]
  },
  {
   "cell_type": "code",
   "execution_count": 36,
   "metadata": {},
   "outputs": [],
   "source": [
    "## On ne garde que les combinaisons de match qui ont réellement eu lien pour chaque saison de MNCAA\n",
    "\n",
    "index_match_2015 = column_Team1_Win(2015, test_2015)\n",
    "index_match_2016 = column_Team1_Win(2016, test_2016)\n",
    "index_match_2017 = column_Team1_Win(2017, test_2017)\n",
    "index_match_2018 = column_Team1_Win(2018, test_2018)\n",
    "index_match_2019 = column_Team1_Win(2019, test_2019)\n",
    "\n",
    "test_2015 = test_2015.loc[index_match_2015]\n",
    "test_2016 = test_2016.loc[index_match_2016]\n",
    "test_2017 = test_2017.loc[index_match_2017]\n",
    "test_2018 = test_2018.loc[index_match_2018]\n",
    "test_2019 = test_2019.loc[index_match_2019]"
   ]
  },
  {
   "cell_type": "code",
   "execution_count": 37,
   "metadata": {},
   "outputs": [],
   "source": [
    "## Concaténation des prédictions de tous les matchs\n",
    "\n",
    "test = pd.concat([test_2015, test_2016, test_2017, test_2018, test_2019])\n",
    "test.reset_index(drop=True, inplace=True)"
   ]
  },
  {
   "cell_type": "code",
   "execution_count": 38,
   "metadata": {
    "scrolled": true
   },
   "outputs": [
    {
     "name": "stdout",
     "output_type": "stream",
     "text": [
      "Loss totale : -1.6372436950889242,  prédictions très fausses 35\n"
     ]
    }
   ],
   "source": [
    "## Calcul de la loss à la main\n",
    "\n",
    "loss_total = 0\n",
    "nb_predictions_tres_fausses = 0\n",
    "\n",
    "for i in range(len(test)):\n",
    "    \n",
    "    # Remplacer une probabilité de 0 par 0.001 sinon risque d'avoir une loss de -ind\n",
    "    if test.loc[i,'Predic_Team1'] == 0:\n",
    "        test.loc[i,'Predic_Team1'] = 0.001\n",
    "        nb_predictions_tres_fausses += 1\n",
    "\n",
    "    # Remplacer une probabilité de 1 par 0.999 sinon risque d'avoir une loss de -ind\n",
    "    elif test.loc[i,'Predic_Team1'] == 1:\n",
    "        test.loc[i,'Predic_Team1'] = 0.999\n",
    "        nb_predictions_tres_fausses += 1\n",
    "\n",
    "    loss = test.loc[i, 'Team1_Win'] * np.log(test.loc[i,'Predic_Team1']) + (1-test.loc[i, 'Team1_Win']) * np.log(1-test.loc[i,'Predic_Team1'])\n",
    "    loss_total += loss\n",
    "    \n",
    "loss_total = loss_total / len(test)\n",
    "print('Loss totale : {},  prédictions très fausses {}'.format(loss_total, nb_predictions_tres_fausses))"
   ]
  },
  {
   "cell_type": "code",
   "execution_count": 39,
   "metadata": {},
   "outputs": [],
   "source": [
    "## J'ai modifié le pipeline pour qu'il nous renvoie le X_train et le Y_train pour chaque saison\n",
    "\n",
    "import pandas as pd\n",
    "\n",
    "X_2015 = pd.read_csv('X_2015.csv')\n",
    "X_2016 = pd.read_csv('X_2016.csv')\n",
    "X_2017 = pd.read_csv('X_2017.csv')\n",
    "X_2018 = pd.read_csv('X_2018.csv')\n",
    "X_2019 = pd.read_csv('X_2019.csv')\n",
    "\n",
    "Y_2015 = pd.read_csv('Y_2015.csv')\n",
    "Y_2016 = pd.read_csv('Y_2016.csv')\n",
    "Y_2017 = pd.read_csv('Y_2017.csv')\n",
    "Y_2018 = pd.read_csv('Y_2018.csv')\n",
    "Y_2019 = pd.read_csv('Y_2019.csv')"
   ]
  },
  {
   "cell_type": "code",
   "execution_count": 43,
   "metadata": {},
   "outputs": [],
   "source": [
    "# def my_custom_loss_func(Y, Y_pred):\n",
    "#     loss_total = 0\n",
    "#     nb_predictions_tres_fausses = 0\n",
    "\n",
    "#     for i in range(X):\n",
    "\n",
    "#         if Y_pred == 0:\n",
    "#             test.loc[i,'Predic_Team1'] = 0.001\n",
    "#             nb_predictions_tres_fausses += 1\n",
    "\n",
    "#         elif test.loc[i,'Predic_Team1'] == 1:\n",
    "#             test.loc[i,'Predic_Team1'] = 0.999\n",
    "#             nb_predictions_tres_fausses += 1\n",
    "\n",
    "#         loss = test.loc[i, 'Team1_Win'] * np.log(test.loc[i,'Predic_Team1']) + (1-test.loc[i, 'Team1_Win']) * np.log(1-test.loc[i,'Predic_Team1'])\n",
    "#         loss_total += loss\n",
    "\n",
    "#     loss_total = loss_total / len(test)\n",
    "#     print('Loss totale : {},  prédictions très fausses {}'.format(loss_total, nb_predictions_tres_fausses))\n",
    "#     return(loss_total)"
   ]
  },
  {
   "cell_type": "markdown",
   "metadata": {},
   "source": [
    "<div class = 'alert alert-info'>\n",
    "\n",
    "**2015 : Gridsearch pour trouver les meilleurs hyperparamètres de RandomForestClassifier**"
   ]
  },
  {
   "cell_type": "code",
   "execution_count": 85,
   "metadata": {},
   "outputs": [
    {
     "data": {
      "text/plain": [
       "GridSearchCV(cv=5, error_score=nan,\n",
       "             estimator=RandomForestClassifier(bootstrap=True, ccp_alpha=0.0,\n",
       "                                              class_weight=None,\n",
       "                                              criterion='gini', max_depth=None,\n",
       "                                              max_features='auto',\n",
       "                                              max_leaf_nodes=None,\n",
       "                                              max_samples=None,\n",
       "                                              min_impurity_decrease=0.0,\n",
       "                                              min_impurity_split=None,\n",
       "                                              min_samples_leaf=1,\n",
       "                                              min_samples_split=2,\n",
       "                                              min_weight_fraction_leaf=0.0,\n",
       "                                              n_estimators=100, n_jobs=None,\n",
       "                                              oob_score=False,\n",
       "                                              random_state=None, verbose=0,\n",
       "                                              warm_start=False),\n",
       "             iid='deprecated', n_jobs=None,\n",
       "             param_grid=[{'max_depth': [2, 3, 4, 5],\n",
       "                          'max_features': [2, 4, 6, 8, 10],\n",
       "                          'n_estimators': [10, 15, 20, 25]}],\n",
       "             pre_dispatch='2*n_jobs', refit=True, return_train_score=False,\n",
       "             scoring='neg_log_loss', verbose=0)"
      ]
     },
     "execution_count": 85,
     "metadata": {},
     "output_type": "execute_result"
    }
   ],
   "source": [
    "from sklearn.model_selection import GridSearchCV\n",
    "from sklearn.ensemble import RandomForestClassifier\n",
    "from sklearn.metrics.scorer import make_scorer\n",
    "\n",
    "param_grid = [\n",
    " {'n_estimators': [10, 15, 20, 25], 'max_features': [2, 4, 6, 8, 10], 'max_depth': [2,3,4,5]},\n",
    "#  {'bootstrap': [False], 'n_estimators': [3, 10, 20], 'max_features': [2, 3, 4, 5, 6]},\n",
    " ]\n",
    "\n",
    "forest_reg = RandomForestClassifier()\n",
    "\n",
    "# my_scorer = make_scorer(my_custom_loss_func, greater_is_better=False)\n",
    "\n",
    "grid_search = GridSearchCV(forest_reg, param_grid, cv=5, scoring='neg_log_loss')\n",
    "\n",
    "grid_search.fit(X_2015, Y_2015.values.ravel())"
   ]
  },
  {
   "cell_type": "code",
   "execution_count": 86,
   "metadata": {
    "scrolled": true
   },
   "outputs": [
    {
     "data": {
      "text/plain": [
       "RandomForestClassifier(bootstrap=True, ccp_alpha=0.0, class_weight=None,\n",
       "                       criterion='gini', max_depth=4, max_features=10,\n",
       "                       max_leaf_nodes=None, max_samples=None,\n",
       "                       min_impurity_decrease=0.0, min_impurity_split=None,\n",
       "                       min_samples_leaf=1, min_samples_split=2,\n",
       "                       min_weight_fraction_leaf=0.0, n_estimators=20,\n",
       "                       n_jobs=None, oob_score=False, random_state=None,\n",
       "                       verbose=0, warm_start=False)"
      ]
     },
     "execution_count": 86,
     "metadata": {},
     "output_type": "execute_result"
    }
   ],
   "source": [
    "grid_search.best_estimator_"
   ]
  },
  {
   "cell_type": "code",
   "execution_count": 87,
   "metadata": {},
   "outputs": [
    {
     "name": "stdout",
     "output_type": "stream",
     "text": [
      "0.7824695305741802 {'max_depth': 2, 'max_features': 2, 'n_estimators': 10}\n",
      "0.7844493877953467 {'max_depth': 2, 'max_features': 2, 'n_estimators': 15}\n",
      "0.7822106846024655 {'max_depth': 2, 'max_features': 2, 'n_estimators': 20}\n",
      "0.7785984710016001 {'max_depth': 2, 'max_features': 2, 'n_estimators': 25}\n",
      "0.7648806819874939 {'max_depth': 2, 'max_features': 4, 'n_estimators': 10}\n",
      "0.7660788048334739 {'max_depth': 2, 'max_features': 4, 'n_estimators': 15}\n",
      "0.7649586444838608 {'max_depth': 2, 'max_features': 4, 'n_estimators': 20}\n",
      "0.764314753538455 {'max_depth': 2, 'max_features': 4, 'n_estimators': 25}\n",
      "0.7585374645768611 {'max_depth': 2, 'max_features': 6, 'n_estimators': 10}\n",
      "0.7609359777206984 {'max_depth': 2, 'max_features': 6, 'n_estimators': 15}\n",
      "0.7594058071774122 {'max_depth': 2, 'max_features': 6, 'n_estimators': 20}\n",
      "0.757776977659349 {'max_depth': 2, 'max_features': 6, 'n_estimators': 25}\n",
      "0.7552798440334143 {'max_depth': 2, 'max_features': 8, 'n_estimators': 10}\n",
      "0.7570444831709733 {'max_depth': 2, 'max_features': 8, 'n_estimators': 15}\n",
      "0.7550977326856966 {'max_depth': 2, 'max_features': 8, 'n_estimators': 20}\n",
      "0.754971647973524 {'max_depth': 2, 'max_features': 8, 'n_estimators': 25}\n",
      "0.7524022280295385 {'max_depth': 2, 'max_features': 10, 'n_estimators': 10}\n",
      "0.7523965308908781 {'max_depth': 2, 'max_features': 10, 'n_estimators': 15}\n",
      "0.7519806341368246 {'max_depth': 2, 'max_features': 10, 'n_estimators': 20}\n",
      "0.752437658840725 {'max_depth': 2, 'max_features': 10, 'n_estimators': 25}\n",
      "0.7688769392333078 {'max_depth': 3, 'max_features': 2, 'n_estimators': 10}\n",
      "0.7696509505626775 {'max_depth': 3, 'max_features': 2, 'n_estimators': 15}\n",
      "0.7702667819928088 {'max_depth': 3, 'max_features': 2, 'n_estimators': 20}\n",
      "0.769583048022765 {'max_depth': 3, 'max_features': 2, 'n_estimators': 25}\n",
      "0.7576767790378457 {'max_depth': 3, 'max_features': 4, 'n_estimators': 10}\n",
      "0.7557078734087986 {'max_depth': 3, 'max_features': 4, 'n_estimators': 15}\n",
      "0.7575952358262886 {'max_depth': 3, 'max_features': 4, 'n_estimators': 20}\n",
      "0.754002605094477 {'max_depth': 3, 'max_features': 4, 'n_estimators': 25}\n",
      "0.7496754429057018 {'max_depth': 3, 'max_features': 6, 'n_estimators': 10}\n",
      "0.7501147915252903 {'max_depth': 3, 'max_features': 6, 'n_estimators': 15}\n",
      "0.7502169568093265 {'max_depth': 3, 'max_features': 6, 'n_estimators': 20}\n",
      "0.7497701836372519 {'max_depth': 3, 'max_features': 6, 'n_estimators': 25}\n",
      "0.7468129865460147 {'max_depth': 3, 'max_features': 8, 'n_estimators': 10}\n",
      "0.7473819954559766 {'max_depth': 3, 'max_features': 8, 'n_estimators': 15}\n",
      "0.7470932887421611 {'max_depth': 3, 'max_features': 8, 'n_estimators': 20}\n",
      "0.7463616277734875 {'max_depth': 3, 'max_features': 8, 'n_estimators': 25}\n",
      "0.7471917687265459 {'max_depth': 3, 'max_features': 10, 'n_estimators': 10}\n",
      "0.7461037774679695 {'max_depth': 3, 'max_features': 10, 'n_estimators': 15}\n",
      "0.7465924149047464 {'max_depth': 3, 'max_features': 10, 'n_estimators': 20}\n",
      "0.7450921241564332 {'max_depth': 3, 'max_features': 10, 'n_estimators': 25}\n",
      "0.7644074056270254 {'max_depth': 4, 'max_features': 2, 'n_estimators': 10}\n",
      "0.760129081661336 {'max_depth': 4, 'max_features': 2, 'n_estimators': 15}\n",
      "0.7610249933420534 {'max_depth': 4, 'max_features': 2, 'n_estimators': 20}\n",
      "0.7616273275151307 {'max_depth': 4, 'max_features': 2, 'n_estimators': 25}\n",
      "0.752124571019781 {'max_depth': 4, 'max_features': 4, 'n_estimators': 10}\n",
      "0.750350052626411 {'max_depth': 4, 'max_features': 4, 'n_estimators': 15}\n",
      "0.7492036133815163 {'max_depth': 4, 'max_features': 4, 'n_estimators': 20}\n",
      "0.7490761405852706 {'max_depth': 4, 'max_features': 4, 'n_estimators': 25}\n",
      "0.7467439971877062 {'max_depth': 4, 'max_features': 6, 'n_estimators': 10}\n",
      "0.7450920157668881 {'max_depth': 4, 'max_features': 6, 'n_estimators': 15}\n",
      "0.7463258462359208 {'max_depth': 4, 'max_features': 6, 'n_estimators': 20}\n",
      "0.7463422666248749 {'max_depth': 4, 'max_features': 6, 'n_estimators': 25}\n",
      "0.7469450080993886 {'max_depth': 4, 'max_features': 8, 'n_estimators': 10}\n",
      "0.7461079286772393 {'max_depth': 4, 'max_features': 8, 'n_estimators': 15}\n",
      "0.7448953722633823 {'max_depth': 4, 'max_features': 8, 'n_estimators': 20}\n",
      "0.7439864519641854 {'max_depth': 4, 'max_features': 8, 'n_estimators': 25}\n",
      "0.7475222796248222 {'max_depth': 4, 'max_features': 10, 'n_estimators': 10}\n",
      "0.7444598318103471 {'max_depth': 4, 'max_features': 10, 'n_estimators': 15}\n",
      "0.7437412914989674 {'max_depth': 4, 'max_features': 10, 'n_estimators': 20}\n",
      "0.7438604931066427 {'max_depth': 4, 'max_features': 10, 'n_estimators': 25}\n",
      "0.756720392270942 {'max_depth': 5, 'max_features': 2, 'n_estimators': 10}\n",
      "0.7552680533712336 {'max_depth': 5, 'max_features': 2, 'n_estimators': 15}\n",
      "0.7561980854997296 {'max_depth': 5, 'max_features': 2, 'n_estimators': 20}\n",
      "0.7534525402765142 {'max_depth': 5, 'max_features': 2, 'n_estimators': 25}\n",
      "0.7490927078580814 {'max_depth': 5, 'max_features': 4, 'n_estimators': 10}\n",
      "0.7478765908873836 {'max_depth': 5, 'max_features': 4, 'n_estimators': 15}\n",
      "0.747699550779862 {'max_depth': 5, 'max_features': 4, 'n_estimators': 20}\n",
      "0.7469416858962479 {'max_depth': 5, 'max_features': 4, 'n_estimators': 25}\n",
      "0.7494270083400029 {'max_depth': 5, 'max_features': 6, 'n_estimators': 10}\n",
      "0.744835332232722 {'max_depth': 5, 'max_features': 6, 'n_estimators': 15}\n",
      "0.7461042762093529 {'max_depth': 5, 'max_features': 6, 'n_estimators': 20}\n",
      "0.7445470710592539 {'max_depth': 5, 'max_features': 6, 'n_estimators': 25}\n",
      "0.7470994743339558 {'max_depth': 5, 'max_features': 8, 'n_estimators': 10}\n",
      "0.7456229409601436 {'max_depth': 5, 'max_features': 8, 'n_estimators': 15}\n",
      "0.7445731550300969 {'max_depth': 5, 'max_features': 8, 'n_estimators': 20}\n",
      "0.7453256217254963 {'max_depth': 5, 'max_features': 8, 'n_estimators': 25}\n",
      "0.7466575704199653 {'max_depth': 5, 'max_features': 10, 'n_estimators': 10}\n",
      "0.7456216960400938 {'max_depth': 5, 'max_features': 10, 'n_estimators': 15}\n",
      "0.7439446717024458 {'max_depth': 5, 'max_features': 10, 'n_estimators': 20}\n",
      "0.7445034403835477 {'max_depth': 5, 'max_features': 10, 'n_estimators': 25}\n"
     ]
    }
   ],
   "source": [
    "import numpy as np\n",
    "\n",
    "cvres = grid_search.cv_results_ \n",
    "for mean_score, params in zip(cvres[\"mean_test_score\"], cvres[\"params\"]): \n",
    "    print(np.sqrt(-mean_score), params)"
   ]
  },
  {
   "cell_type": "markdown",
   "metadata": {},
   "source": [
    "<div class = 'alert alert-info'>\n",
    "\n",
    "**2016 : Gridsearch pour trouver les meilleurs hyperparamètres de RandomForestClassifier**"
   ]
  },
  {
   "cell_type": "code",
   "execution_count": 71,
   "metadata": {},
   "outputs": [
    {
     "data": {
      "text/plain": [
       "GridSearchCV(cv=5, error_score=nan,\n",
       "             estimator=RandomForestClassifier(bootstrap=True, ccp_alpha=0.0,\n",
       "                                              class_weight=None,\n",
       "                                              criterion='gini', max_depth=None,\n",
       "                                              max_features='auto',\n",
       "                                              max_leaf_nodes=None,\n",
       "                                              max_samples=None,\n",
       "                                              min_impurity_decrease=0.0,\n",
       "                                              min_impurity_split=None,\n",
       "                                              min_samples_leaf=1,\n",
       "                                              min_samples_split=2,\n",
       "                                              min_weight_fraction_leaf=0.0,\n",
       "                                              n_estimators=100, n_jobs=None,\n",
       "                                              oob_score=False,\n",
       "                                              random_state=None, verbose=0,\n",
       "                                              warm_start=False),\n",
       "             iid='deprecated', n_jobs=None,\n",
       "             param_grid=[{'max_features': [2, 4, 6, 8, 10],\n",
       "                          'n_estimators': [3, 10, 30, 50, 100]},\n",
       "                         {'bootstrap': [False], 'max_features': [2, 3, 4, 5, 6],\n",
       "                          'n_estimators': [3, 10, 20]}],\n",
       "             pre_dispatch='2*n_jobs', refit=True, return_train_score=False,\n",
       "             scoring='neg_log_loss', verbose=0)"
      ]
     },
     "execution_count": 71,
     "metadata": {},
     "output_type": "execute_result"
    }
   ],
   "source": [
    "from sklearn.model_selection import GridSearchCV\n",
    "from sklearn.ensemble import RandomForestClassifier\n",
    "from sklearn.metrics.scorer import make_scorer\n",
    "\n",
    "param_grid = [\n",
    " {'n_estimators': [3, 10, 30, 50, 100], 'max_features': [2, 4, 6, 8, 10]},\n",
    " {'bootstrap': [False], 'n_estimators': [3, 10, 20], 'max_features': [2, 3, 4, 5, 6]},\n",
    " ]\n",
    "\n",
    "forest_reg = RandomForestClassifier()\n",
    "\n",
    "# my_scorer = make_scorer(my_custom_loss_func, greater_is_better=False)\n",
    "\n",
    "grid_search = GridSearchCV(forest_reg, param_grid, cv=5, scoring='neg_log_loss')\n",
    "\n",
    "grid_search.fit(X_2016, Y_2016.values.ravel())"
   ]
  },
  {
   "cell_type": "code",
   "execution_count": 72,
   "metadata": {},
   "outputs": [
    {
     "data": {
      "text/plain": [
       "RandomForestClassifier(bootstrap=True, ccp_alpha=0.0, class_weight=None,\n",
       "                       criterion='gini', max_depth=None, max_features=2,\n",
       "                       max_leaf_nodes=None, max_samples=None,\n",
       "                       min_impurity_decrease=0.0, min_impurity_split=None,\n",
       "                       min_samples_leaf=1, min_samples_split=2,\n",
       "                       min_weight_fraction_leaf=0.0, n_estimators=100,\n",
       "                       n_jobs=None, oob_score=False, random_state=None,\n",
       "                       verbose=0, warm_start=False)"
      ]
     },
     "execution_count": 72,
     "metadata": {},
     "output_type": "execute_result"
    }
   ],
   "source": [
    "grid_search.best_estimator_"
   ]
  },
  {
   "cell_type": "code",
   "execution_count": 73,
   "metadata": {},
   "outputs": [
    {
     "name": "stdout",
     "output_type": "stream",
     "text": [
      "2.030215823142911 {'max_features': 2, 'n_estimators': 3}\n",
      "0.9554184288103819 {'max_features': 2, 'n_estimators': 10}\n",
      "0.7720686657580044 {'max_features': 2, 'n_estimators': 30}\n",
      "0.7609595316092941 {'max_features': 2, 'n_estimators': 50}\n",
      "0.7557221223019697 {'max_features': 2, 'n_estimators': 100}\n",
      "2.0807746417305757 {'max_features': 4, 'n_estimators': 3}\n",
      "1.0247700064395817 {'max_features': 4, 'n_estimators': 10}\n",
      "0.7928035121151987 {'max_features': 4, 'n_estimators': 30}\n",
      "0.7646380336625921 {'max_features': 4, 'n_estimators': 50}\n",
      "0.7581977065187875 {'max_features': 4, 'n_estimators': 100}\n",
      "2.153179112648597 {'max_features': 6, 'n_estimators': 3}\n",
      "1.0505310076851633 {'max_features': 6, 'n_estimators': 10}\n",
      "0.7913156504920911 {'max_features': 6, 'n_estimators': 30}\n",
      "0.7778367326050512 {'max_features': 6, 'n_estimators': 50}\n",
      "0.7652273879846836 {'max_features': 6, 'n_estimators': 100}\n",
      "2.1014378120899817 {'max_features': 8, 'n_estimators': 3}\n",
      "0.9958629988334461 {'max_features': 8, 'n_estimators': 10}\n",
      "0.7780405411607435 {'max_features': 8, 'n_estimators': 30}\n",
      "0.7867537369569233 {'max_features': 8, 'n_estimators': 50}\n",
      "0.7690108552663 {'max_features': 8, 'n_estimators': 100}\n",
      "2.090730875410952 {'max_features': 10, 'n_estimators': 3}\n",
      "1.0254428284670767 {'max_features': 10, 'n_estimators': 10}\n",
      "0.8122752446417061 {'max_features': 10, 'n_estimators': 30}\n",
      "0.7960305836015339 {'max_features': 10, 'n_estimators': 50}\n",
      "0.7716929591256239 {'max_features': 10, 'n_estimators': 100}\n",
      "2.0551534712126807 {'bootstrap': False, 'max_features': 2, 'n_estimators': 3}\n",
      "1.0519621795699172 {'bootstrap': False, 'max_features': 2, 'n_estimators': 10}\n",
      "0.838855576890674 {'bootstrap': False, 'max_features': 2, 'n_estimators': 20}\n",
      "2.095371500315717 {'bootstrap': False, 'max_features': 3, 'n_estimators': 3}\n",
      "1.0645621436638568 {'bootstrap': False, 'max_features': 3, 'n_estimators': 10}\n",
      "0.89331374318822 {'bootstrap': False, 'max_features': 3, 'n_estimators': 20}\n",
      "2.1429790935087496 {'bootstrap': False, 'max_features': 4, 'n_estimators': 3}\n",
      "1.072668920427253 {'bootstrap': False, 'max_features': 4, 'n_estimators': 10}\n",
      "0.8810892748985503 {'bootstrap': False, 'max_features': 4, 'n_estimators': 20}\n",
      "2.1838296616414543 {'bootstrap': False, 'max_features': 5, 'n_estimators': 3}\n",
      "1.1235518784014191 {'bootstrap': False, 'max_features': 5, 'n_estimators': 10}\n",
      "0.9201998901114274 {'bootstrap': False, 'max_features': 5, 'n_estimators': 20}\n",
      "2.1102224251715485 {'bootstrap': False, 'max_features': 6, 'n_estimators': 3}\n",
      "1.0607362416564885 {'bootstrap': False, 'max_features': 6, 'n_estimators': 10}\n",
      "0.9122548604157432 {'bootstrap': False, 'max_features': 6, 'n_estimators': 20}\n"
     ]
    }
   ],
   "source": [
    "import numpy as np\n",
    "\n",
    "cvres = grid_search.cv_results_ \n",
    "for mean_score, params in zip(cvres[\"mean_test_score\"], cvres[\"params\"]): \n",
    "    print(np.sqrt(-mean_score), params)"
   ]
  },
  {
   "cell_type": "markdown",
   "metadata": {},
   "source": [
    "<div class = 'alert alert-info'>\n",
    "\n",
    "**2017**"
   ]
  },
  {
   "cell_type": "code",
   "execution_count": 59,
   "metadata": {},
   "outputs": [
    {
     "data": {
      "text/plain": [
       "GridSearchCV(cv=5, error_score=nan,\n",
       "             estimator=RandomForestClassifier(bootstrap=True, ccp_alpha=0.0,\n",
       "                                              class_weight=None,\n",
       "                                              criterion='gini', max_depth=None,\n",
       "                                              max_features='auto',\n",
       "                                              max_leaf_nodes=None,\n",
       "                                              max_samples=None,\n",
       "                                              min_impurity_decrease=0.0,\n",
       "                                              min_impurity_split=None,\n",
       "                                              min_samples_leaf=1,\n",
       "                                              min_samples_split=2,\n",
       "                                              min_weight_fraction_leaf=0.0,\n",
       "                                              n_estimators=100, n_jobs=None,\n",
       "                                              oob_score=False,\n",
       "                                              random_state=None, verbose=0,\n",
       "                                              warm_start=False),\n",
       "             iid='deprecated', n_jobs=None,\n",
       "             param_grid=[{'max_features': [2, 4, 6, 8],\n",
       "                          'n_estimators': [3, 10, 30]},\n",
       "                         {'bootstrap': [False], 'max_features': [2, 3, 4],\n",
       "                          'n_estimators': [3, 10]}],\n",
       "             pre_dispatch='2*n_jobs', refit=True, return_train_score=False,\n",
       "             scoring='neg_log_loss', verbose=0)"
      ]
     },
     "execution_count": 59,
     "metadata": {},
     "output_type": "execute_result"
    }
   ],
   "source": [
    "from sklearn.model_selection import GridSearchCV\n",
    "from sklearn.ensemble import RandomForestClassifier\n",
    "from sklearn.metrics.scorer import make_scorer\n",
    "\n",
    "param_grid = [\n",
    " {'n_estimators': [3, 10, 30, 50, 100], 'max_features': [2, 4, 6, 8, 10]},\n",
    " {'bootstrap': [False], 'n_estimators': [3, 10, 20], 'max_features': [2, 3, 4, 5, 6]},\n",
    " ]\n",
    "\n",
    "forest_reg = RandomForestClassifier()\n",
    "\n",
    "# my_scorer = make_scorer(my_custom_loss_func, greater_is_better=False)\n",
    "\n",
    "grid_search = GridSearchCV(forest_reg, param_grid, cv=5, scoring='neg_log_loss')\n",
    "\n",
    "grid_search.fit(X_2017, Y_2017.values.ravel())"
   ]
  },
  {
   "cell_type": "code",
   "execution_count": 60,
   "metadata": {},
   "outputs": [
    {
     "data": {
      "text/plain": [
       "RandomForestClassifier(bootstrap=True, ccp_alpha=0.0, class_weight=None,\n",
       "                       criterion='gini', max_depth=None, max_features=2,\n",
       "                       max_leaf_nodes=None, max_samples=None,\n",
       "                       min_impurity_decrease=0.0, min_impurity_split=None,\n",
       "                       min_samples_leaf=1, min_samples_split=2,\n",
       "                       min_weight_fraction_leaf=0.0, n_estimators=30,\n",
       "                       n_jobs=None, oob_score=False, random_state=None,\n",
       "                       verbose=0, warm_start=False)"
      ]
     },
     "execution_count": 60,
     "metadata": {},
     "output_type": "execute_result"
    }
   ],
   "source": [
    "grid_search.best_estimator_"
   ]
  },
  {
   "cell_type": "code",
   "execution_count": 61,
   "metadata": {},
   "outputs": [
    {
     "name": "stdout",
     "output_type": "stream",
     "text": [
      "2.0293600670593746 {'max_features': 2, 'n_estimators': 3}\n",
      "0.964747761558528 {'max_features': 2, 'n_estimators': 10}\n",
      "0.7836694306511941 {'max_features': 2, 'n_estimators': 30}\n",
      "2.035090635095738 {'max_features': 4, 'n_estimators': 3}\n",
      "1.0185984673116038 {'max_features': 4, 'n_estimators': 10}\n",
      "0.7978392745247288 {'max_features': 4, 'n_estimators': 30}\n",
      "2.0725040280219043 {'max_features': 6, 'n_estimators': 3}\n",
      "1.0309610789705619 {'max_features': 6, 'n_estimators': 10}\n",
      "0.796773383001454 {'max_features': 6, 'n_estimators': 30}\n",
      "2.1318193787973847 {'max_features': 8, 'n_estimators': 3}\n",
      "1.0157287834923932 {'max_features': 8, 'n_estimators': 10}\n",
      "0.8112045932910412 {'max_features': 8, 'n_estimators': 30}\n",
      "2.0997305857829347 {'bootstrap': False, 'max_features': 2, 'n_estimators': 3}\n",
      "1.0550026495257054 {'bootstrap': False, 'max_features': 2, 'n_estimators': 10}\n",
      "2.095578097652145 {'bootstrap': False, 'max_features': 3, 'n_estimators': 3}\n",
      "1.0538037975065906 {'bootstrap': False, 'max_features': 3, 'n_estimators': 10}\n",
      "2.1351247256927284 {'bootstrap': False, 'max_features': 4, 'n_estimators': 3}\n",
      "1.07610979961063 {'bootstrap': False, 'max_features': 4, 'n_estimators': 10}\n"
     ]
    }
   ],
   "source": [
    "import numpy as np\n",
    "\n",
    "cvres = grid_search.cv_results_ \n",
    "for mean_score, params in zip(cvres[\"mean_test_score\"], cvres[\"params\"]): \n",
    "    print(np.sqrt(-mean_score), params)"
   ]
  },
  {
   "cell_type": "markdown",
   "metadata": {},
   "source": [
    "<div class = 'alert alert-info'>\n",
    "\n",
    "**2018**"
   ]
  },
  {
   "cell_type": "code",
   "execution_count": 74,
   "metadata": {},
   "outputs": [
    {
     "ename": "KeyboardInterrupt",
     "evalue": "",
     "output_type": "error",
     "traceback": [
      "\u001b[0;31m---------------------------------------------------------------------------\u001b[0m",
      "\u001b[0;31mKeyboardInterrupt\u001b[0m                         Traceback (most recent call last)",
      "\u001b[0;32m<ipython-input-74-46bf7ff7581f>\u001b[0m in \u001b[0;36m<module>\u001b[0;34m\u001b[0m\n\u001b[1;32m     14\u001b[0m \u001b[0mgrid_search\u001b[0m \u001b[0;34m=\u001b[0m \u001b[0mGridSearchCV\u001b[0m\u001b[0;34m(\u001b[0m\u001b[0mforest_reg\u001b[0m\u001b[0;34m,\u001b[0m \u001b[0mparam_grid\u001b[0m\u001b[0;34m,\u001b[0m \u001b[0mcv\u001b[0m\u001b[0;34m=\u001b[0m\u001b[0;36m5\u001b[0m\u001b[0;34m,\u001b[0m \u001b[0mscoring\u001b[0m\u001b[0;34m=\u001b[0m\u001b[0;34m'neg_log_loss'\u001b[0m\u001b[0;34m)\u001b[0m\u001b[0;34m\u001b[0m\u001b[0;34m\u001b[0m\u001b[0m\n\u001b[1;32m     15\u001b[0m \u001b[0;34m\u001b[0m\u001b[0m\n\u001b[0;32m---> 16\u001b[0;31m \u001b[0mgrid_search\u001b[0m\u001b[0;34m.\u001b[0m\u001b[0mfit\u001b[0m\u001b[0;34m(\u001b[0m\u001b[0mX_2018\u001b[0m\u001b[0;34m,\u001b[0m \u001b[0mY_2018\u001b[0m\u001b[0;34m.\u001b[0m\u001b[0mvalues\u001b[0m\u001b[0;34m.\u001b[0m\u001b[0mravel\u001b[0m\u001b[0;34m(\u001b[0m\u001b[0;34m)\u001b[0m\u001b[0;34m)\u001b[0m\u001b[0;34m\u001b[0m\u001b[0;34m\u001b[0m\u001b[0m\n\u001b[0m",
      "\u001b[0;32m~/anaconda3/lib/python3.7/site-packages/sklearn/model_selection/_search.py\u001b[0m in \u001b[0;36mfit\u001b[0;34m(self, X, y, groups, **fit_params)\u001b[0m\n\u001b[1;32m    708\u001b[0m                 \u001b[0;32mreturn\u001b[0m \u001b[0mresults\u001b[0m\u001b[0;34m\u001b[0m\u001b[0;34m\u001b[0m\u001b[0m\n\u001b[1;32m    709\u001b[0m \u001b[0;34m\u001b[0m\u001b[0m\n\u001b[0;32m--> 710\u001b[0;31m             \u001b[0mself\u001b[0m\u001b[0;34m.\u001b[0m\u001b[0m_run_search\u001b[0m\u001b[0;34m(\u001b[0m\u001b[0mevaluate_candidates\u001b[0m\u001b[0;34m)\u001b[0m\u001b[0;34m\u001b[0m\u001b[0;34m\u001b[0m\u001b[0m\n\u001b[0m\u001b[1;32m    711\u001b[0m \u001b[0;34m\u001b[0m\u001b[0m\n\u001b[1;32m    712\u001b[0m         \u001b[0;31m# For multi-metric evaluation, store the best_index_, best_params_ and\u001b[0m\u001b[0;34m\u001b[0m\u001b[0;34m\u001b[0m\u001b[0;34m\u001b[0m\u001b[0m\n",
      "\u001b[0;32m~/anaconda3/lib/python3.7/site-packages/sklearn/model_selection/_search.py\u001b[0m in \u001b[0;36m_run_search\u001b[0;34m(self, evaluate_candidates)\u001b[0m\n\u001b[1;32m   1149\u001b[0m     \u001b[0;32mdef\u001b[0m \u001b[0m_run_search\u001b[0m\u001b[0;34m(\u001b[0m\u001b[0mself\u001b[0m\u001b[0;34m,\u001b[0m \u001b[0mevaluate_candidates\u001b[0m\u001b[0;34m)\u001b[0m\u001b[0;34m:\u001b[0m\u001b[0;34m\u001b[0m\u001b[0;34m\u001b[0m\u001b[0m\n\u001b[1;32m   1150\u001b[0m         \u001b[0;34m\"\"\"Search all candidates in param_grid\"\"\"\u001b[0m\u001b[0;34m\u001b[0m\u001b[0;34m\u001b[0m\u001b[0m\n\u001b[0;32m-> 1151\u001b[0;31m         \u001b[0mevaluate_candidates\u001b[0m\u001b[0;34m(\u001b[0m\u001b[0mParameterGrid\u001b[0m\u001b[0;34m(\u001b[0m\u001b[0mself\u001b[0m\u001b[0;34m.\u001b[0m\u001b[0mparam_grid\u001b[0m\u001b[0;34m)\u001b[0m\u001b[0;34m)\u001b[0m\u001b[0;34m\u001b[0m\u001b[0;34m\u001b[0m\u001b[0m\n\u001b[0m\u001b[1;32m   1152\u001b[0m \u001b[0;34m\u001b[0m\u001b[0m\n\u001b[1;32m   1153\u001b[0m \u001b[0;34m\u001b[0m\u001b[0m\n",
      "\u001b[0;32m~/anaconda3/lib/python3.7/site-packages/sklearn/model_selection/_search.py\u001b[0m in \u001b[0;36mevaluate_candidates\u001b[0;34m(candidate_params)\u001b[0m\n\u001b[1;32m    687\u001b[0m                                \u001b[0;32mfor\u001b[0m \u001b[0mparameters\u001b[0m\u001b[0;34m,\u001b[0m \u001b[0;34m(\u001b[0m\u001b[0mtrain\u001b[0m\u001b[0;34m,\u001b[0m \u001b[0mtest\u001b[0m\u001b[0;34m)\u001b[0m\u001b[0;34m\u001b[0m\u001b[0;34m\u001b[0m\u001b[0m\n\u001b[1;32m    688\u001b[0m                                in product(candidate_params,\n\u001b[0;32m--> 689\u001b[0;31m                                           cv.split(X, y, groups)))\n\u001b[0m\u001b[1;32m    690\u001b[0m \u001b[0;34m\u001b[0m\u001b[0m\n\u001b[1;32m    691\u001b[0m                 \u001b[0;32mif\u001b[0m \u001b[0mlen\u001b[0m\u001b[0;34m(\u001b[0m\u001b[0mout\u001b[0m\u001b[0;34m)\u001b[0m \u001b[0;34m<\u001b[0m \u001b[0;36m1\u001b[0m\u001b[0;34m:\u001b[0m\u001b[0;34m\u001b[0m\u001b[0;34m\u001b[0m\u001b[0m\n",
      "\u001b[0;32m~/anaconda3/lib/python3.7/site-packages/joblib/parallel.py\u001b[0m in \u001b[0;36m__call__\u001b[0;34m(self, iterable)\u001b[0m\n\u001b[1;32m    922\u001b[0m                 \u001b[0mself\u001b[0m\u001b[0;34m.\u001b[0m\u001b[0m_iterating\u001b[0m \u001b[0;34m=\u001b[0m \u001b[0mself\u001b[0m\u001b[0;34m.\u001b[0m\u001b[0m_original_iterator\u001b[0m \u001b[0;32mis\u001b[0m \u001b[0;32mnot\u001b[0m \u001b[0;32mNone\u001b[0m\u001b[0;34m\u001b[0m\u001b[0;34m\u001b[0m\u001b[0m\n\u001b[1;32m    923\u001b[0m \u001b[0;34m\u001b[0m\u001b[0m\n\u001b[0;32m--> 924\u001b[0;31m             \u001b[0;32mwhile\u001b[0m \u001b[0mself\u001b[0m\u001b[0;34m.\u001b[0m\u001b[0mdispatch_one_batch\u001b[0m\u001b[0;34m(\u001b[0m\u001b[0miterator\u001b[0m\u001b[0;34m)\u001b[0m\u001b[0;34m:\u001b[0m\u001b[0;34m\u001b[0m\u001b[0;34m\u001b[0m\u001b[0m\n\u001b[0m\u001b[1;32m    925\u001b[0m                 \u001b[0;32mpass\u001b[0m\u001b[0;34m\u001b[0m\u001b[0;34m\u001b[0m\u001b[0m\n\u001b[1;32m    926\u001b[0m \u001b[0;34m\u001b[0m\u001b[0m\n",
      "\u001b[0;32m~/anaconda3/lib/python3.7/site-packages/joblib/parallel.py\u001b[0m in \u001b[0;36mdispatch_one_batch\u001b[0;34m(self, iterator)\u001b[0m\n\u001b[1;32m    757\u001b[0m                 \u001b[0;32mreturn\u001b[0m \u001b[0;32mFalse\u001b[0m\u001b[0;34m\u001b[0m\u001b[0;34m\u001b[0m\u001b[0m\n\u001b[1;32m    758\u001b[0m             \u001b[0;32melse\u001b[0m\u001b[0;34m:\u001b[0m\u001b[0;34m\u001b[0m\u001b[0;34m\u001b[0m\u001b[0m\n\u001b[0;32m--> 759\u001b[0;31m                 \u001b[0mself\u001b[0m\u001b[0;34m.\u001b[0m\u001b[0m_dispatch\u001b[0m\u001b[0;34m(\u001b[0m\u001b[0mtasks\u001b[0m\u001b[0;34m)\u001b[0m\u001b[0;34m\u001b[0m\u001b[0;34m\u001b[0m\u001b[0m\n\u001b[0m\u001b[1;32m    760\u001b[0m                 \u001b[0;32mreturn\u001b[0m \u001b[0;32mTrue\u001b[0m\u001b[0;34m\u001b[0m\u001b[0;34m\u001b[0m\u001b[0m\n\u001b[1;32m    761\u001b[0m \u001b[0;34m\u001b[0m\u001b[0m\n",
      "\u001b[0;32m~/anaconda3/lib/python3.7/site-packages/joblib/parallel.py\u001b[0m in \u001b[0;36m_dispatch\u001b[0;34m(self, batch)\u001b[0m\n\u001b[1;32m    714\u001b[0m         \u001b[0;32mwith\u001b[0m \u001b[0mself\u001b[0m\u001b[0;34m.\u001b[0m\u001b[0m_lock\u001b[0m\u001b[0;34m:\u001b[0m\u001b[0;34m\u001b[0m\u001b[0;34m\u001b[0m\u001b[0m\n\u001b[1;32m    715\u001b[0m             \u001b[0mjob_idx\u001b[0m \u001b[0;34m=\u001b[0m \u001b[0mlen\u001b[0m\u001b[0;34m(\u001b[0m\u001b[0mself\u001b[0m\u001b[0;34m.\u001b[0m\u001b[0m_jobs\u001b[0m\u001b[0;34m)\u001b[0m\u001b[0;34m\u001b[0m\u001b[0;34m\u001b[0m\u001b[0m\n\u001b[0;32m--> 716\u001b[0;31m             \u001b[0mjob\u001b[0m \u001b[0;34m=\u001b[0m \u001b[0mself\u001b[0m\u001b[0;34m.\u001b[0m\u001b[0m_backend\u001b[0m\u001b[0;34m.\u001b[0m\u001b[0mapply_async\u001b[0m\u001b[0;34m(\u001b[0m\u001b[0mbatch\u001b[0m\u001b[0;34m,\u001b[0m \u001b[0mcallback\u001b[0m\u001b[0;34m=\u001b[0m\u001b[0mcb\u001b[0m\u001b[0;34m)\u001b[0m\u001b[0;34m\u001b[0m\u001b[0;34m\u001b[0m\u001b[0m\n\u001b[0m\u001b[1;32m    717\u001b[0m             \u001b[0;31m# A job can complete so quickly than its callback is\u001b[0m\u001b[0;34m\u001b[0m\u001b[0;34m\u001b[0m\u001b[0;34m\u001b[0m\u001b[0m\n\u001b[1;32m    718\u001b[0m             \u001b[0;31m# called before we get here, causing self._jobs to\u001b[0m\u001b[0;34m\u001b[0m\u001b[0;34m\u001b[0m\u001b[0;34m\u001b[0m\u001b[0m\n",
      "\u001b[0;32m~/anaconda3/lib/python3.7/site-packages/joblib/_parallel_backends.py\u001b[0m in \u001b[0;36mapply_async\u001b[0;34m(self, func, callback)\u001b[0m\n\u001b[1;32m    180\u001b[0m     \u001b[0;32mdef\u001b[0m \u001b[0mapply_async\u001b[0m\u001b[0;34m(\u001b[0m\u001b[0mself\u001b[0m\u001b[0;34m,\u001b[0m \u001b[0mfunc\u001b[0m\u001b[0;34m,\u001b[0m \u001b[0mcallback\u001b[0m\u001b[0;34m=\u001b[0m\u001b[0;32mNone\u001b[0m\u001b[0;34m)\u001b[0m\u001b[0;34m:\u001b[0m\u001b[0;34m\u001b[0m\u001b[0;34m\u001b[0m\u001b[0m\n\u001b[1;32m    181\u001b[0m         \u001b[0;34m\"\"\"Schedule a func to be run\"\"\"\u001b[0m\u001b[0;34m\u001b[0m\u001b[0;34m\u001b[0m\u001b[0m\n\u001b[0;32m--> 182\u001b[0;31m         \u001b[0mresult\u001b[0m \u001b[0;34m=\u001b[0m \u001b[0mImmediateResult\u001b[0m\u001b[0;34m(\u001b[0m\u001b[0mfunc\u001b[0m\u001b[0;34m)\u001b[0m\u001b[0;34m\u001b[0m\u001b[0;34m\u001b[0m\u001b[0m\n\u001b[0m\u001b[1;32m    183\u001b[0m         \u001b[0;32mif\u001b[0m \u001b[0mcallback\u001b[0m\u001b[0;34m:\u001b[0m\u001b[0;34m\u001b[0m\u001b[0;34m\u001b[0m\u001b[0m\n\u001b[1;32m    184\u001b[0m             \u001b[0mcallback\u001b[0m\u001b[0;34m(\u001b[0m\u001b[0mresult\u001b[0m\u001b[0;34m)\u001b[0m\u001b[0;34m\u001b[0m\u001b[0;34m\u001b[0m\u001b[0m\n",
      "\u001b[0;32m~/anaconda3/lib/python3.7/site-packages/joblib/_parallel_backends.py\u001b[0m in \u001b[0;36m__init__\u001b[0;34m(self, batch)\u001b[0m\n\u001b[1;32m    547\u001b[0m         \u001b[0;31m# Don't delay the application, to avoid keeping the input\u001b[0m\u001b[0;34m\u001b[0m\u001b[0;34m\u001b[0m\u001b[0;34m\u001b[0m\u001b[0m\n\u001b[1;32m    548\u001b[0m         \u001b[0;31m# arguments in memory\u001b[0m\u001b[0;34m\u001b[0m\u001b[0;34m\u001b[0m\u001b[0;34m\u001b[0m\u001b[0m\n\u001b[0;32m--> 549\u001b[0;31m         \u001b[0mself\u001b[0m\u001b[0;34m.\u001b[0m\u001b[0mresults\u001b[0m \u001b[0;34m=\u001b[0m \u001b[0mbatch\u001b[0m\u001b[0;34m(\u001b[0m\u001b[0;34m)\u001b[0m\u001b[0;34m\u001b[0m\u001b[0;34m\u001b[0m\u001b[0m\n\u001b[0m\u001b[1;32m    550\u001b[0m \u001b[0;34m\u001b[0m\u001b[0m\n\u001b[1;32m    551\u001b[0m     \u001b[0;32mdef\u001b[0m \u001b[0mget\u001b[0m\u001b[0;34m(\u001b[0m\u001b[0mself\u001b[0m\u001b[0;34m)\u001b[0m\u001b[0;34m:\u001b[0m\u001b[0;34m\u001b[0m\u001b[0;34m\u001b[0m\u001b[0m\n",
      "\u001b[0;32m~/anaconda3/lib/python3.7/site-packages/joblib/parallel.py\u001b[0m in \u001b[0;36m__call__\u001b[0;34m(self)\u001b[0m\n\u001b[1;32m    223\u001b[0m         \u001b[0;32mwith\u001b[0m \u001b[0mparallel_backend\u001b[0m\u001b[0;34m(\u001b[0m\u001b[0mself\u001b[0m\u001b[0;34m.\u001b[0m\u001b[0m_backend\u001b[0m\u001b[0;34m,\u001b[0m \u001b[0mn_jobs\u001b[0m\u001b[0;34m=\u001b[0m\u001b[0mself\u001b[0m\u001b[0;34m.\u001b[0m\u001b[0m_n_jobs\u001b[0m\u001b[0;34m)\u001b[0m\u001b[0;34m:\u001b[0m\u001b[0;34m\u001b[0m\u001b[0;34m\u001b[0m\u001b[0m\n\u001b[1;32m    224\u001b[0m             return [func(*args, **kwargs)\n\u001b[0;32m--> 225\u001b[0;31m                     for func, args, kwargs in self.items]\n\u001b[0m\u001b[1;32m    226\u001b[0m \u001b[0;34m\u001b[0m\u001b[0m\n\u001b[1;32m    227\u001b[0m     \u001b[0;32mdef\u001b[0m \u001b[0m__len__\u001b[0m\u001b[0;34m(\u001b[0m\u001b[0mself\u001b[0m\u001b[0;34m)\u001b[0m\u001b[0;34m:\u001b[0m\u001b[0;34m\u001b[0m\u001b[0;34m\u001b[0m\u001b[0m\n",
      "\u001b[0;32m~/anaconda3/lib/python3.7/site-packages/joblib/parallel.py\u001b[0m in \u001b[0;36m<listcomp>\u001b[0;34m(.0)\u001b[0m\n\u001b[1;32m    223\u001b[0m         \u001b[0;32mwith\u001b[0m \u001b[0mparallel_backend\u001b[0m\u001b[0;34m(\u001b[0m\u001b[0mself\u001b[0m\u001b[0;34m.\u001b[0m\u001b[0m_backend\u001b[0m\u001b[0;34m,\u001b[0m \u001b[0mn_jobs\u001b[0m\u001b[0;34m=\u001b[0m\u001b[0mself\u001b[0m\u001b[0;34m.\u001b[0m\u001b[0m_n_jobs\u001b[0m\u001b[0;34m)\u001b[0m\u001b[0;34m:\u001b[0m\u001b[0;34m\u001b[0m\u001b[0;34m\u001b[0m\u001b[0m\n\u001b[1;32m    224\u001b[0m             return [func(*args, **kwargs)\n\u001b[0;32m--> 225\u001b[0;31m                     for func, args, kwargs in self.items]\n\u001b[0m\u001b[1;32m    226\u001b[0m \u001b[0;34m\u001b[0m\u001b[0m\n\u001b[1;32m    227\u001b[0m     \u001b[0;32mdef\u001b[0m \u001b[0m__len__\u001b[0m\u001b[0;34m(\u001b[0m\u001b[0mself\u001b[0m\u001b[0;34m)\u001b[0m\u001b[0;34m:\u001b[0m\u001b[0;34m\u001b[0m\u001b[0;34m\u001b[0m\u001b[0m\n",
      "\u001b[0;32m~/anaconda3/lib/python3.7/site-packages/sklearn/model_selection/_validation.py\u001b[0m in \u001b[0;36m_fit_and_score\u001b[0;34m(estimator, X, y, scorer, train, test, verbose, parameters, fit_params, return_train_score, return_parameters, return_n_test_samples, return_times, return_estimator, error_score)\u001b[0m\n\u001b[1;32m    542\u001b[0m     \u001b[0;32melse\u001b[0m\u001b[0;34m:\u001b[0m\u001b[0;34m\u001b[0m\u001b[0;34m\u001b[0m\u001b[0m\n\u001b[1;32m    543\u001b[0m         \u001b[0mfit_time\u001b[0m \u001b[0;34m=\u001b[0m \u001b[0mtime\u001b[0m\u001b[0;34m.\u001b[0m\u001b[0mtime\u001b[0m\u001b[0;34m(\u001b[0m\u001b[0;34m)\u001b[0m \u001b[0;34m-\u001b[0m \u001b[0mstart_time\u001b[0m\u001b[0;34m\u001b[0m\u001b[0;34m\u001b[0m\u001b[0m\n\u001b[0;32m--> 544\u001b[0;31m         \u001b[0mtest_scores\u001b[0m \u001b[0;34m=\u001b[0m \u001b[0m_score\u001b[0m\u001b[0;34m(\u001b[0m\u001b[0mestimator\u001b[0m\u001b[0;34m,\u001b[0m \u001b[0mX_test\u001b[0m\u001b[0;34m,\u001b[0m \u001b[0my_test\u001b[0m\u001b[0;34m,\u001b[0m \u001b[0mscorer\u001b[0m\u001b[0;34m)\u001b[0m\u001b[0;34m\u001b[0m\u001b[0;34m\u001b[0m\u001b[0m\n\u001b[0m\u001b[1;32m    545\u001b[0m         \u001b[0mscore_time\u001b[0m \u001b[0;34m=\u001b[0m \u001b[0mtime\u001b[0m\u001b[0;34m.\u001b[0m\u001b[0mtime\u001b[0m\u001b[0;34m(\u001b[0m\u001b[0;34m)\u001b[0m \u001b[0;34m-\u001b[0m \u001b[0mstart_time\u001b[0m \u001b[0;34m-\u001b[0m \u001b[0mfit_time\u001b[0m\u001b[0;34m\u001b[0m\u001b[0;34m\u001b[0m\u001b[0m\n\u001b[1;32m    546\u001b[0m         \u001b[0;32mif\u001b[0m \u001b[0mreturn_train_score\u001b[0m\u001b[0;34m:\u001b[0m\u001b[0;34m\u001b[0m\u001b[0;34m\u001b[0m\u001b[0m\n",
      "\u001b[0;32m~/anaconda3/lib/python3.7/site-packages/sklearn/model_selection/_validation.py\u001b[0m in \u001b[0;36m_score\u001b[0;34m(estimator, X_test, y_test, scorer)\u001b[0m\n\u001b[1;32m    589\u001b[0m         \u001b[0mscores\u001b[0m \u001b[0;34m=\u001b[0m \u001b[0mscorer\u001b[0m\u001b[0;34m(\u001b[0m\u001b[0mestimator\u001b[0m\u001b[0;34m,\u001b[0m \u001b[0mX_test\u001b[0m\u001b[0;34m)\u001b[0m\u001b[0;34m\u001b[0m\u001b[0;34m\u001b[0m\u001b[0m\n\u001b[1;32m    590\u001b[0m     \u001b[0;32melse\u001b[0m\u001b[0;34m:\u001b[0m\u001b[0;34m\u001b[0m\u001b[0;34m\u001b[0m\u001b[0m\n\u001b[0;32m--> 591\u001b[0;31m         \u001b[0mscores\u001b[0m \u001b[0;34m=\u001b[0m \u001b[0mscorer\u001b[0m\u001b[0;34m(\u001b[0m\u001b[0mestimator\u001b[0m\u001b[0;34m,\u001b[0m \u001b[0mX_test\u001b[0m\u001b[0;34m,\u001b[0m \u001b[0my_test\u001b[0m\u001b[0;34m)\u001b[0m\u001b[0;34m\u001b[0m\u001b[0;34m\u001b[0m\u001b[0m\n\u001b[0m\u001b[1;32m    592\u001b[0m \u001b[0;34m\u001b[0m\u001b[0m\n\u001b[1;32m    593\u001b[0m     error_msg = (\"scoring must return a number, got %s (%s) \"\n",
      "\u001b[0;32m~/anaconda3/lib/python3.7/site-packages/sklearn/metrics/_scorer.py\u001b[0m in \u001b[0;36m__call__\u001b[0;34m(self, estimator, *args, **kwargs)\u001b[0m\n\u001b[1;32m     85\u001b[0m             \u001b[0;32mif\u001b[0m \u001b[0misinstance\u001b[0m\u001b[0;34m(\u001b[0m\u001b[0mscorer\u001b[0m\u001b[0;34m,\u001b[0m \u001b[0m_BaseScorer\u001b[0m\u001b[0;34m)\u001b[0m\u001b[0;34m:\u001b[0m\u001b[0;34m\u001b[0m\u001b[0;34m\u001b[0m\u001b[0m\n\u001b[1;32m     86\u001b[0m                 score = scorer._score(cached_call, estimator,\n\u001b[0;32m---> 87\u001b[0;31m                                       *args, **kwargs)\n\u001b[0m\u001b[1;32m     88\u001b[0m             \u001b[0;32melse\u001b[0m\u001b[0;34m:\u001b[0m\u001b[0;34m\u001b[0m\u001b[0;34m\u001b[0m\u001b[0m\n\u001b[1;32m     89\u001b[0m                 \u001b[0mscore\u001b[0m \u001b[0;34m=\u001b[0m \u001b[0mscorer\u001b[0m\u001b[0;34m(\u001b[0m\u001b[0mestimator\u001b[0m\u001b[0;34m,\u001b[0m \u001b[0;34m*\u001b[0m\u001b[0margs\u001b[0m\u001b[0;34m,\u001b[0m \u001b[0;34m**\u001b[0m\u001b[0mkwargs\u001b[0m\u001b[0;34m)\u001b[0m\u001b[0;34m\u001b[0m\u001b[0;34m\u001b[0m\u001b[0m\n",
      "\u001b[0;32m~/anaconda3/lib/python3.7/site-packages/sklearn/metrics/_scorer.py\u001b[0m in \u001b[0;36m_score\u001b[0;34m(self, method_caller, clf, X, y, sample_weight)\u001b[0m\n\u001b[1;32m    244\u001b[0m \u001b[0;34m\u001b[0m\u001b[0m\n\u001b[1;32m    245\u001b[0m         \u001b[0my_type\u001b[0m \u001b[0;34m=\u001b[0m \u001b[0mtype_of_target\u001b[0m\u001b[0;34m(\u001b[0m\u001b[0my\u001b[0m\u001b[0;34m)\u001b[0m\u001b[0;34m\u001b[0m\u001b[0;34m\u001b[0m\u001b[0m\n\u001b[0;32m--> 246\u001b[0;31m         \u001b[0my_pred\u001b[0m \u001b[0;34m=\u001b[0m \u001b[0mmethod_caller\u001b[0m\u001b[0;34m(\u001b[0m\u001b[0mclf\u001b[0m\u001b[0;34m,\u001b[0m \u001b[0;34m\"predict_proba\"\u001b[0m\u001b[0;34m,\u001b[0m \u001b[0mX\u001b[0m\u001b[0;34m)\u001b[0m\u001b[0;34m\u001b[0m\u001b[0;34m\u001b[0m\u001b[0m\n\u001b[0m\u001b[1;32m    247\u001b[0m         \u001b[0;32mif\u001b[0m \u001b[0my_type\u001b[0m \u001b[0;34m==\u001b[0m \u001b[0;34m\"binary\"\u001b[0m\u001b[0;34m:\u001b[0m\u001b[0;34m\u001b[0m\u001b[0;34m\u001b[0m\u001b[0m\n\u001b[1;32m    248\u001b[0m             \u001b[0;32mif\u001b[0m \u001b[0my_pred\u001b[0m\u001b[0;34m.\u001b[0m\u001b[0mshape\u001b[0m\u001b[0;34m[\u001b[0m\u001b[0;36m1\u001b[0m\u001b[0;34m]\u001b[0m \u001b[0;34m==\u001b[0m \u001b[0;36m2\u001b[0m\u001b[0;34m:\u001b[0m\u001b[0;34m\u001b[0m\u001b[0;34m\u001b[0m\u001b[0m\n",
      "\u001b[0;32m~/anaconda3/lib/python3.7/site-packages/sklearn/metrics/_scorer.py\u001b[0m in \u001b[0;36m_cached_call\u001b[0;34m(cache, estimator, method, *args, **kwargs)\u001b[0m\n\u001b[1;32m     50\u001b[0m     \u001b[0;34m\"\"\"Call estimator with method and args and kwargs.\"\"\"\u001b[0m\u001b[0;34m\u001b[0m\u001b[0;34m\u001b[0m\u001b[0m\n\u001b[1;32m     51\u001b[0m     \u001b[0;32mif\u001b[0m \u001b[0mcache\u001b[0m \u001b[0;32mis\u001b[0m \u001b[0;32mNone\u001b[0m\u001b[0;34m:\u001b[0m\u001b[0;34m\u001b[0m\u001b[0;34m\u001b[0m\u001b[0m\n\u001b[0;32m---> 52\u001b[0;31m         \u001b[0;32mreturn\u001b[0m \u001b[0mgetattr\u001b[0m\u001b[0;34m(\u001b[0m\u001b[0mestimator\u001b[0m\u001b[0;34m,\u001b[0m \u001b[0mmethod\u001b[0m\u001b[0;34m)\u001b[0m\u001b[0;34m(\u001b[0m\u001b[0;34m*\u001b[0m\u001b[0margs\u001b[0m\u001b[0;34m,\u001b[0m \u001b[0;34m**\u001b[0m\u001b[0mkwargs\u001b[0m\u001b[0;34m)\u001b[0m\u001b[0;34m\u001b[0m\u001b[0;34m\u001b[0m\u001b[0m\n\u001b[0m\u001b[1;32m     53\u001b[0m \u001b[0;34m\u001b[0m\u001b[0m\n\u001b[1;32m     54\u001b[0m     \u001b[0;32mtry\u001b[0m\u001b[0;34m:\u001b[0m\u001b[0;34m\u001b[0m\u001b[0;34m\u001b[0m\u001b[0m\n",
      "\u001b[0;32m~/anaconda3/lib/python3.7/site-packages/sklearn/ensemble/_forest.py\u001b[0m in \u001b[0;36mpredict_proba\u001b[0;34m(self, X)\u001b[0m\n\u001b[1;32m    667\u001b[0m             delayed(_accumulate_prediction)(e.predict_proba, X, all_proba,\n\u001b[1;32m    668\u001b[0m                                             lock)\n\u001b[0;32m--> 669\u001b[0;31m             for e in self.estimators_)\n\u001b[0m\u001b[1;32m    670\u001b[0m \u001b[0;34m\u001b[0m\u001b[0m\n\u001b[1;32m    671\u001b[0m         \u001b[0;32mfor\u001b[0m \u001b[0mproba\u001b[0m \u001b[0;32min\u001b[0m \u001b[0mall_proba\u001b[0m\u001b[0;34m:\u001b[0m\u001b[0;34m\u001b[0m\u001b[0;34m\u001b[0m\u001b[0m\n",
      "\u001b[0;32m~/anaconda3/lib/python3.7/site-packages/joblib/parallel.py\u001b[0m in \u001b[0;36m__call__\u001b[0;34m(self, iterable)\u001b[0m\n\u001b[1;32m    922\u001b[0m                 \u001b[0mself\u001b[0m\u001b[0;34m.\u001b[0m\u001b[0m_iterating\u001b[0m \u001b[0;34m=\u001b[0m \u001b[0mself\u001b[0m\u001b[0;34m.\u001b[0m\u001b[0m_original_iterator\u001b[0m \u001b[0;32mis\u001b[0m \u001b[0;32mnot\u001b[0m \u001b[0;32mNone\u001b[0m\u001b[0;34m\u001b[0m\u001b[0;34m\u001b[0m\u001b[0m\n\u001b[1;32m    923\u001b[0m \u001b[0;34m\u001b[0m\u001b[0m\n\u001b[0;32m--> 924\u001b[0;31m             \u001b[0;32mwhile\u001b[0m \u001b[0mself\u001b[0m\u001b[0;34m.\u001b[0m\u001b[0mdispatch_one_batch\u001b[0m\u001b[0;34m(\u001b[0m\u001b[0miterator\u001b[0m\u001b[0;34m)\u001b[0m\u001b[0;34m:\u001b[0m\u001b[0;34m\u001b[0m\u001b[0;34m\u001b[0m\u001b[0m\n\u001b[0m\u001b[1;32m    925\u001b[0m                 \u001b[0;32mpass\u001b[0m\u001b[0;34m\u001b[0m\u001b[0;34m\u001b[0m\u001b[0m\n\u001b[1;32m    926\u001b[0m \u001b[0;34m\u001b[0m\u001b[0m\n",
      "\u001b[0;32m~/anaconda3/lib/python3.7/site-packages/joblib/parallel.py\u001b[0m in \u001b[0;36mdispatch_one_batch\u001b[0;34m(self, iterator)\u001b[0m\n\u001b[1;32m    757\u001b[0m                 \u001b[0;32mreturn\u001b[0m \u001b[0;32mFalse\u001b[0m\u001b[0;34m\u001b[0m\u001b[0;34m\u001b[0m\u001b[0m\n\u001b[1;32m    758\u001b[0m             \u001b[0;32melse\u001b[0m\u001b[0;34m:\u001b[0m\u001b[0;34m\u001b[0m\u001b[0;34m\u001b[0m\u001b[0m\n\u001b[0;32m--> 759\u001b[0;31m                 \u001b[0mself\u001b[0m\u001b[0;34m.\u001b[0m\u001b[0m_dispatch\u001b[0m\u001b[0;34m(\u001b[0m\u001b[0mtasks\u001b[0m\u001b[0;34m)\u001b[0m\u001b[0;34m\u001b[0m\u001b[0;34m\u001b[0m\u001b[0m\n\u001b[0m\u001b[1;32m    760\u001b[0m                 \u001b[0;32mreturn\u001b[0m \u001b[0;32mTrue\u001b[0m\u001b[0;34m\u001b[0m\u001b[0;34m\u001b[0m\u001b[0m\n\u001b[1;32m    761\u001b[0m \u001b[0;34m\u001b[0m\u001b[0m\n",
      "\u001b[0;32m~/anaconda3/lib/python3.7/site-packages/joblib/parallel.py\u001b[0m in \u001b[0;36m_dispatch\u001b[0;34m(self, batch)\u001b[0m\n\u001b[1;32m    714\u001b[0m         \u001b[0;32mwith\u001b[0m \u001b[0mself\u001b[0m\u001b[0;34m.\u001b[0m\u001b[0m_lock\u001b[0m\u001b[0;34m:\u001b[0m\u001b[0;34m\u001b[0m\u001b[0;34m\u001b[0m\u001b[0m\n\u001b[1;32m    715\u001b[0m             \u001b[0mjob_idx\u001b[0m \u001b[0;34m=\u001b[0m \u001b[0mlen\u001b[0m\u001b[0;34m(\u001b[0m\u001b[0mself\u001b[0m\u001b[0;34m.\u001b[0m\u001b[0m_jobs\u001b[0m\u001b[0;34m)\u001b[0m\u001b[0;34m\u001b[0m\u001b[0;34m\u001b[0m\u001b[0m\n\u001b[0;32m--> 716\u001b[0;31m             \u001b[0mjob\u001b[0m \u001b[0;34m=\u001b[0m \u001b[0mself\u001b[0m\u001b[0;34m.\u001b[0m\u001b[0m_backend\u001b[0m\u001b[0;34m.\u001b[0m\u001b[0mapply_async\u001b[0m\u001b[0;34m(\u001b[0m\u001b[0mbatch\u001b[0m\u001b[0;34m,\u001b[0m \u001b[0mcallback\u001b[0m\u001b[0;34m=\u001b[0m\u001b[0mcb\u001b[0m\u001b[0;34m)\u001b[0m\u001b[0;34m\u001b[0m\u001b[0;34m\u001b[0m\u001b[0m\n\u001b[0m\u001b[1;32m    717\u001b[0m             \u001b[0;31m# A job can complete so quickly than its callback is\u001b[0m\u001b[0;34m\u001b[0m\u001b[0;34m\u001b[0m\u001b[0;34m\u001b[0m\u001b[0m\n\u001b[1;32m    718\u001b[0m             \u001b[0;31m# called before we get here, causing self._jobs to\u001b[0m\u001b[0;34m\u001b[0m\u001b[0;34m\u001b[0m\u001b[0;34m\u001b[0m\u001b[0m\n",
      "\u001b[0;32m~/anaconda3/lib/python3.7/site-packages/joblib/_parallel_backends.py\u001b[0m in \u001b[0;36mapply_async\u001b[0;34m(self, func, callback)\u001b[0m\n\u001b[1;32m    180\u001b[0m     \u001b[0;32mdef\u001b[0m \u001b[0mapply_async\u001b[0m\u001b[0;34m(\u001b[0m\u001b[0mself\u001b[0m\u001b[0;34m,\u001b[0m \u001b[0mfunc\u001b[0m\u001b[0;34m,\u001b[0m \u001b[0mcallback\u001b[0m\u001b[0;34m=\u001b[0m\u001b[0;32mNone\u001b[0m\u001b[0;34m)\u001b[0m\u001b[0;34m:\u001b[0m\u001b[0;34m\u001b[0m\u001b[0;34m\u001b[0m\u001b[0m\n\u001b[1;32m    181\u001b[0m         \u001b[0;34m\"\"\"Schedule a func to be run\"\"\"\u001b[0m\u001b[0;34m\u001b[0m\u001b[0;34m\u001b[0m\u001b[0m\n\u001b[0;32m--> 182\u001b[0;31m         \u001b[0mresult\u001b[0m \u001b[0;34m=\u001b[0m \u001b[0mImmediateResult\u001b[0m\u001b[0;34m(\u001b[0m\u001b[0mfunc\u001b[0m\u001b[0;34m)\u001b[0m\u001b[0;34m\u001b[0m\u001b[0;34m\u001b[0m\u001b[0m\n\u001b[0m\u001b[1;32m    183\u001b[0m         \u001b[0;32mif\u001b[0m \u001b[0mcallback\u001b[0m\u001b[0;34m:\u001b[0m\u001b[0;34m\u001b[0m\u001b[0;34m\u001b[0m\u001b[0m\n\u001b[1;32m    184\u001b[0m             \u001b[0mcallback\u001b[0m\u001b[0;34m(\u001b[0m\u001b[0mresult\u001b[0m\u001b[0;34m)\u001b[0m\u001b[0;34m\u001b[0m\u001b[0;34m\u001b[0m\u001b[0m\n",
      "\u001b[0;32m~/anaconda3/lib/python3.7/site-packages/joblib/_parallel_backends.py\u001b[0m in \u001b[0;36m__init__\u001b[0;34m(self, batch)\u001b[0m\n\u001b[1;32m    547\u001b[0m         \u001b[0;31m# Don't delay the application, to avoid keeping the input\u001b[0m\u001b[0;34m\u001b[0m\u001b[0;34m\u001b[0m\u001b[0;34m\u001b[0m\u001b[0m\n\u001b[1;32m    548\u001b[0m         \u001b[0;31m# arguments in memory\u001b[0m\u001b[0;34m\u001b[0m\u001b[0;34m\u001b[0m\u001b[0;34m\u001b[0m\u001b[0m\n\u001b[0;32m--> 549\u001b[0;31m         \u001b[0mself\u001b[0m\u001b[0;34m.\u001b[0m\u001b[0mresults\u001b[0m \u001b[0;34m=\u001b[0m \u001b[0mbatch\u001b[0m\u001b[0;34m(\u001b[0m\u001b[0;34m)\u001b[0m\u001b[0;34m\u001b[0m\u001b[0;34m\u001b[0m\u001b[0m\n\u001b[0m\u001b[1;32m    550\u001b[0m \u001b[0;34m\u001b[0m\u001b[0m\n\u001b[1;32m    551\u001b[0m     \u001b[0;32mdef\u001b[0m \u001b[0mget\u001b[0m\u001b[0;34m(\u001b[0m\u001b[0mself\u001b[0m\u001b[0;34m)\u001b[0m\u001b[0;34m:\u001b[0m\u001b[0;34m\u001b[0m\u001b[0;34m\u001b[0m\u001b[0m\n",
      "\u001b[0;32m~/anaconda3/lib/python3.7/site-packages/joblib/parallel.py\u001b[0m in \u001b[0;36m__call__\u001b[0;34m(self)\u001b[0m\n\u001b[1;32m    223\u001b[0m         \u001b[0;32mwith\u001b[0m \u001b[0mparallel_backend\u001b[0m\u001b[0;34m(\u001b[0m\u001b[0mself\u001b[0m\u001b[0;34m.\u001b[0m\u001b[0m_backend\u001b[0m\u001b[0;34m,\u001b[0m \u001b[0mn_jobs\u001b[0m\u001b[0;34m=\u001b[0m\u001b[0mself\u001b[0m\u001b[0;34m.\u001b[0m\u001b[0m_n_jobs\u001b[0m\u001b[0;34m)\u001b[0m\u001b[0;34m:\u001b[0m\u001b[0;34m\u001b[0m\u001b[0;34m\u001b[0m\u001b[0m\n\u001b[1;32m    224\u001b[0m             return [func(*args, **kwargs)\n\u001b[0;32m--> 225\u001b[0;31m                     for func, args, kwargs in self.items]\n\u001b[0m\u001b[1;32m    226\u001b[0m \u001b[0;34m\u001b[0m\u001b[0m\n\u001b[1;32m    227\u001b[0m     \u001b[0;32mdef\u001b[0m \u001b[0m__len__\u001b[0m\u001b[0;34m(\u001b[0m\u001b[0mself\u001b[0m\u001b[0;34m)\u001b[0m\u001b[0;34m:\u001b[0m\u001b[0;34m\u001b[0m\u001b[0;34m\u001b[0m\u001b[0m\n",
      "\u001b[0;32m~/anaconda3/lib/python3.7/site-packages/joblib/parallel.py\u001b[0m in \u001b[0;36m<listcomp>\u001b[0;34m(.0)\u001b[0m\n\u001b[1;32m    223\u001b[0m         \u001b[0;32mwith\u001b[0m \u001b[0mparallel_backend\u001b[0m\u001b[0;34m(\u001b[0m\u001b[0mself\u001b[0m\u001b[0;34m.\u001b[0m\u001b[0m_backend\u001b[0m\u001b[0;34m,\u001b[0m \u001b[0mn_jobs\u001b[0m\u001b[0;34m=\u001b[0m\u001b[0mself\u001b[0m\u001b[0;34m.\u001b[0m\u001b[0m_n_jobs\u001b[0m\u001b[0;34m)\u001b[0m\u001b[0;34m:\u001b[0m\u001b[0;34m\u001b[0m\u001b[0;34m\u001b[0m\u001b[0m\n\u001b[1;32m    224\u001b[0m             return [func(*args, **kwargs)\n\u001b[0;32m--> 225\u001b[0;31m                     for func, args, kwargs in self.items]\n\u001b[0m\u001b[1;32m    226\u001b[0m \u001b[0;34m\u001b[0m\u001b[0m\n\u001b[1;32m    227\u001b[0m     \u001b[0;32mdef\u001b[0m \u001b[0m__len__\u001b[0m\u001b[0;34m(\u001b[0m\u001b[0mself\u001b[0m\u001b[0;34m)\u001b[0m\u001b[0;34m:\u001b[0m\u001b[0;34m\u001b[0m\u001b[0;34m\u001b[0m\u001b[0m\n",
      "\u001b[0;32m~/anaconda3/lib/python3.7/site-packages/sklearn/ensemble/_forest.py\u001b[0m in \u001b[0;36m_accumulate_prediction\u001b[0;34m(predict, X, out, lock)\u001b[0m\n\u001b[1;32m    447\u001b[0m     \u001b[0mcomplains\u001b[0m \u001b[0mthat\u001b[0m \u001b[0mit\u001b[0m \u001b[0mcannot\u001b[0m \u001b[0mpickle\u001b[0m \u001b[0mit\u001b[0m \u001b[0mwhen\u001b[0m \u001b[0mplaced\u001b[0m \u001b[0mthere\u001b[0m\u001b[0;34m.\u001b[0m\u001b[0;34m\u001b[0m\u001b[0;34m\u001b[0m\u001b[0m\n\u001b[1;32m    448\u001b[0m     \"\"\"\n\u001b[0;32m--> 449\u001b[0;31m     \u001b[0mprediction\u001b[0m \u001b[0;34m=\u001b[0m \u001b[0mpredict\u001b[0m\u001b[0;34m(\u001b[0m\u001b[0mX\u001b[0m\u001b[0;34m,\u001b[0m \u001b[0mcheck_input\u001b[0m\u001b[0;34m=\u001b[0m\u001b[0;32mFalse\u001b[0m\u001b[0;34m)\u001b[0m\u001b[0;34m\u001b[0m\u001b[0;34m\u001b[0m\u001b[0m\n\u001b[0m\u001b[1;32m    450\u001b[0m     \u001b[0;32mwith\u001b[0m \u001b[0mlock\u001b[0m\u001b[0;34m:\u001b[0m\u001b[0;34m\u001b[0m\u001b[0;34m\u001b[0m\u001b[0m\n\u001b[1;32m    451\u001b[0m         \u001b[0;32mif\u001b[0m \u001b[0mlen\u001b[0m\u001b[0;34m(\u001b[0m\u001b[0mout\u001b[0m\u001b[0;34m)\u001b[0m \u001b[0;34m==\u001b[0m \u001b[0;36m1\u001b[0m\u001b[0;34m:\u001b[0m\u001b[0;34m\u001b[0m\u001b[0;34m\u001b[0m\u001b[0m\n",
      "\u001b[0;32m~/anaconda3/lib/python3.7/site-packages/sklearn/tree/_classes.py\u001b[0m in \u001b[0;36mpredict_proba\u001b[0;34m(self, X, check_input)\u001b[0m\n\u001b[1;32m    904\u001b[0m         \u001b[0mcheck_is_fitted\u001b[0m\u001b[0;34m(\u001b[0m\u001b[0mself\u001b[0m\u001b[0;34m)\u001b[0m\u001b[0;34m\u001b[0m\u001b[0;34m\u001b[0m\u001b[0m\n\u001b[1;32m    905\u001b[0m         \u001b[0mX\u001b[0m \u001b[0;34m=\u001b[0m \u001b[0mself\u001b[0m\u001b[0;34m.\u001b[0m\u001b[0m_validate_X_predict\u001b[0m\u001b[0;34m(\u001b[0m\u001b[0mX\u001b[0m\u001b[0;34m,\u001b[0m \u001b[0mcheck_input\u001b[0m\u001b[0;34m)\u001b[0m\u001b[0;34m\u001b[0m\u001b[0;34m\u001b[0m\u001b[0m\n\u001b[0;32m--> 906\u001b[0;31m         \u001b[0mproba\u001b[0m \u001b[0;34m=\u001b[0m \u001b[0mself\u001b[0m\u001b[0;34m.\u001b[0m\u001b[0mtree_\u001b[0m\u001b[0;34m.\u001b[0m\u001b[0mpredict\u001b[0m\u001b[0;34m(\u001b[0m\u001b[0mX\u001b[0m\u001b[0;34m)\u001b[0m\u001b[0;34m\u001b[0m\u001b[0;34m\u001b[0m\u001b[0m\n\u001b[0m\u001b[1;32m    907\u001b[0m \u001b[0;34m\u001b[0m\u001b[0m\n\u001b[1;32m    908\u001b[0m         \u001b[0;32mif\u001b[0m \u001b[0mself\u001b[0m\u001b[0;34m.\u001b[0m\u001b[0mn_outputs_\u001b[0m \u001b[0;34m==\u001b[0m \u001b[0;36m1\u001b[0m\u001b[0;34m:\u001b[0m\u001b[0;34m\u001b[0m\u001b[0;34m\u001b[0m\u001b[0m\n",
      "\u001b[0;32msklearn/tree/_tree.pyx\u001b[0m in \u001b[0;36msklearn.tree._tree.Tree.predict\u001b[0;34m()\u001b[0m\n",
      "\u001b[0;32msklearn/tree/_tree.pyx\u001b[0m in \u001b[0;36msklearn.tree._tree.Tree.predict\u001b[0;34m()\u001b[0m\n",
      "\u001b[0;32msklearn/tree/_tree.pyx\u001b[0m in \u001b[0;36msklearn.tree._tree.Tree.apply\u001b[0;34m()\u001b[0m\n",
      "\u001b[0;32m~/anaconda3/lib/python3.7/site-packages/scipy/sparse/base.py\u001b[0m in \u001b[0;36misspmatrix\u001b[0;34m(x)\u001b[0m\n\u001b[1;32m   1214\u001b[0m     \u001b[0;32mFalse\u001b[0m\u001b[0;34m\u001b[0m\u001b[0;34m\u001b[0m\u001b[0m\n\u001b[1;32m   1215\u001b[0m     \"\"\"\n\u001b[0;32m-> 1216\u001b[0;31m     \u001b[0;32mreturn\u001b[0m \u001b[0misinstance\u001b[0m\u001b[0;34m(\u001b[0m\u001b[0mx\u001b[0m\u001b[0;34m,\u001b[0m \u001b[0mspmatrix\u001b[0m\u001b[0;34m)\u001b[0m\u001b[0;34m\u001b[0m\u001b[0;34m\u001b[0m\u001b[0m\n\u001b[0m\u001b[1;32m   1217\u001b[0m \u001b[0;34m\u001b[0m\u001b[0m\n\u001b[1;32m   1218\u001b[0m \u001b[0;34m\u001b[0m\u001b[0m\n",
      "\u001b[0;31mKeyboardInterrupt\u001b[0m: "
     ]
    }
   ],
   "source": [
    "from sklearn.model_selection import GridSearchCV\n",
    "from sklearn.ensemble import RandomForestClassifier\n",
    "from sklearn.metrics.scorer import make_scorer\n",
    "\n",
    "param_grid = [\n",
    " {'n_estimators': [3, 10, 30, 50, 100], 'max_features': [2, 4, 6, 8, 10]},\n",
    " {'bootstrap': [False], 'n_estimators': [3, 10, 20], 'max_features': [2, 3, 4, 5, 6]},\n",
    " ]\n",
    "\n",
    "forest_reg = RandomForestClassifier()\n",
    "\n",
    "# my_scorer = make_scorer(my_custom_loss_func, greater_is_better=False)\n",
    "\n",
    "grid_search = GridSearchCV(forest_reg, param_grid, cv=5, scoring='neg_log_loss')\n",
    "\n",
    "grid_search.fit(X_2018, Y_2018.values.ravel())"
   ]
  },
  {
   "cell_type": "code",
   "execution_count": null,
   "metadata": {},
   "outputs": [],
   "source": [
    "grid_search.best_estimator_"
   ]
  },
  {
   "cell_type": "code",
   "execution_count": null,
   "metadata": {},
   "outputs": [],
   "source": [
    "import numpy as np\n",
    "\n",
    "cvres = grid_search.cv_results_ \n",
    "for mean_score, params in zip(cvres[\"mean_test_score\"], cvres[\"params\"]): \n",
    "    print(np.sqrt(-mean_score), params)"
   ]
  },
  {
   "cell_type": "markdown",
   "metadata": {},
   "source": [
    "<div class = 'alert alert-info'>\n",
    "\n",
    "**2019**"
   ]
  },
  {
   "cell_type": "code",
   "execution_count": null,
   "metadata": {},
   "outputs": [],
   "source": [
    "from sklearn.model_selection import GridSearchCV\n",
    "from sklearn.ensemble import RandomForestClassifier\n",
    "from sklearn.metrics.scorer import make_scorer\n",
    "\n",
    "param_grid = [\n",
    " {'n_estimators': [3, 10, 30, 50, 100], 'max_features': [2, 4, 6, 8, 10]},\n",
    " {'bootstrap': [False], 'n_estimators': [3, 10, 20], 'max_features': [2, 3, 4, 5, 6]},\n",
    " ]\n",
    "\n",
    "forest_reg = RandomForestClassifier()\n",
    "\n",
    "# my_scorer = make_scorer(my_custom_loss_func, greater_is_better=False)\n",
    "\n",
    "grid_search = GridSearchCV(forest_reg, param_grid, cv=5, scoring='neg_log_loss')\n",
    "\n",
    "grid_search.fit(X_2019, Y_2019.values.ravel())"
   ]
  },
  {
   "cell_type": "code",
   "execution_count": null,
   "metadata": {},
   "outputs": [],
   "source": [
    "grid_search.best_estimator_"
   ]
  },
  {
   "cell_type": "code",
   "execution_count": null,
   "metadata": {},
   "outputs": [],
   "source": [
    "import numpy as np\n",
    "\n",
    "cvres = grid_search.cv_results_ \n",
    "for mean_score, params in zip(cvres[\"mean_test_score\"], cvres[\"params\"]): \n",
    "    print(np.sqrt(-mean_score), params)"
   ]
  },
  {
   "cell_type": "code",
   "execution_count": null,
   "metadata": {},
   "outputs": [],
   "source": []
  }
 ],
 "metadata": {
  "kernelspec": {
   "display_name": "Python 3",
   "language": "python",
   "name": "python3"
  },
  "language_info": {
   "codemirror_mode": {
    "name": "ipython",
    "version": 3
   },
   "file_extension": ".py",
   "mimetype": "text/x-python",
   "name": "python",
   "nbconvert_exporter": "python",
   "pygments_lexer": "ipython3",
   "version": "3.7.3"
  },
  "toc": {
   "base_numbering": 1,
   "nav_menu": {},
   "number_sections": true,
   "sideBar": true,
   "skip_h1_title": false,
   "title_cell": "Table of Contents",
   "title_sidebar": "Contents",
   "toc_cell": false,
   "toc_position": {},
   "toc_section_display": true,
   "toc_window_display": false
  }
 },
 "nbformat": 4,
 "nbformat_minor": 2
}
