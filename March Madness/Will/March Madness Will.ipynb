{
 "cells": [
  {
   "cell_type": "markdown",
   "metadata": {},
   "source": [
    "<div class = 'alert alert-info'>\n",
    "    \n",
    "**Import the data**"
   ]
  },
  {
   "cell_type": "code",
   "execution_count": 3,
   "metadata": {},
   "outputs": [],
   "source": [
    "import pandas as pd\n",
    "\n",
    "# Section 1\n",
    "MTeams_Stage1 = pd.read_csv('../data/MDataFiles_Stage1/MTeams.csv')\n",
    "MTeams_Stage2 = pd.read_csv('../data/MDataFiles_Stage2/MTeams.csv')\n",
    "\n",
    "MTSeasons_Stage1 = pd.read_csv('../data/MDataFiles_Stage1/MSeasons.csv')\n",
    "MTSeasons_Stage2 = pd.read_csv('../data/MDataFiles_Stage2/MSeasons.csv')\n",
    "\n",
    "MNCAATourneySeeds_Stage1 = pd.read_csv('../data/MDataFiles_Stage1/MNCAATourneySeeds.csv')\n",
    "MNCAATourneySeeds_Stage2 = pd.read_csv('../data/MDataFiles_Stage2/MNCAATourneySeeds.csv')\n",
    "\n",
    "MRegularSeasonCompactResults_Stage1 = pd.read_csv('../data/MDataFiles_Stage1/MRegularSeasonCompactResults.csv')\n",
    "MRegularSeasonCompactResults_Stage2 = pd.read_csv('../data/MDataFiles_Stage2/MRegularSeasonCompactResults.csv')\n",
    "\n",
    "MNCAATourneyCompactResults_Stage1 = pd.read_csv('../data/MDataFiles_Stage1/MNCAATourneyCompactResults.csv')\n",
    "MNCAATourneyCompactResults_Stage2 = pd.read_csv('../data/MDataFiles_Stage2/MNCAATourneyCompactResults.csv')"
   ]
  },
  {
   "cell_type": "code",
   "execution_count": 4,
   "metadata": {},
   "outputs": [],
   "source": [
    "# Section 2\n",
    "\n",
    "MRegularSeasonDetailedResults_Stage1 = pd.read_csv('../data/MDataFiles_Stage1/MRegularSeasonDetailedResults.csv')\n",
    "MRegularSeasonDetailedResults_Stage2 = pd.read_csv('../data/MDataFiles_Stage2/MRegularSeasonDetailedResults.csv')\n",
    "\n",
    "MNCAATourneyDetailedResults_Stage1 = pd.read_csv('../data/MDataFiles_Stage1/MNCAATourneyDetailedResults.csv')\n",
    "MNCAATourneyDetailedResults_Stage2 = pd.read_csv('../data/MDataFiles_Stage2/MNCAATourneyDetailedResults.csv')"
   ]
  },
  {
   "cell_type": "code",
   "execution_count": 5,
   "metadata": {},
   "outputs": [],
   "source": [
    "# Section 3\n",
    "\n",
    "Cities_Stage1 = pd.read_csv('../data/MDataFiles_Stage1/Cities.csv')\n",
    "Cities_Stage2 = pd.read_csv('../data/MDataFiles_Stage2/Cities.csv')\n",
    "\n",
    "MGameCities_Stage1 = pd.read_csv('../data/MDataFiles_Stage1/MGameCities.csv')\n",
    "MGameCities_Stage2 = pd.read_csv('../data/MDataFiles_Stage2/MGameCities.csv')"
   ]
  },
  {
   "cell_type": "code",
   "execution_count": 6,
   "metadata": {},
   "outputs": [],
   "source": [
    "# Section 4\n",
    "\n",
    "MMasseyOrdinals_Stage1 = pd.read_csv('../data/MDataFiles_Stage1/MMasseyOrdinals.csv')\n",
    "MMasseyOrdinals_Stage2 = pd.read_csv('../data/MDataFiles_Stage2/MMasseyOrdinals.csv')"
   ]
  },
  {
   "cell_type": "code",
   "execution_count": 7,
   "metadata": {},
   "outputs": [],
   "source": [
    "# Section 5\n",
    "\n",
    "MEvents2015 = pd.read_csv('../data/MEvents2015.csv')\n",
    "MEvents2016 = pd.read_csv('../data/MEvents2016.csv')\n",
    "MEvents2017 = pd.read_csv('../data/MEvents2017.csv')\n",
    "MEvents2018 = pd.read_csv('../data/MEvents2018.csv')\n",
    "MEvents2019 = pd.read_csv('../data/MEvents2019.csv')\n",
    "MPlayers    = pd.read_csv('../data/MPlayers.csv')"
   ]
  },
  {
   "cell_type": "code",
   "execution_count": 9,
   "metadata": {},
   "outputs": [],
   "source": [
    "# Section 6\n",
    "\n",
    "MTeamCoaches_Stage1 = pd.read_csv('../data/MDataFiles_Stage1/MTeamCoaches.csv')\n",
    "MTeamCoaches_Stage2 = pd.read_csv('../data/MDataFiles_Stage2/MTeamCoaches.csv')\n",
    "\n",
    "Conferences_Stage1  = pd.read_csv('../data/MDataFiles_Stage1/Conferences.csv')\n",
    "Conferences_Stage2  = pd.read_csv('../data/MDataFiles_Stage2/Conferences.csv')\n",
    "\n",
    "MTeamConferences_Stage1 = pd.read_csv('../data/MDataFiles_Stage1/MTeamConferences.csv')\n",
    "MTeamConferences_Stage2 = pd.read_csv('../data/MDataFiles_Stage2/MTeamConferences.csv')\n",
    "\n",
    "MConferenceTourneyGames_Stage1 = pd.read_csv('../data/MDataFiles_Stage1/MConferenceTourneyGames.csv')\n",
    "MConferenceTourneyGames_Stage2 = pd.read_csv('../data/MDataFiles_Stage2/MConferenceTourneyGames.csv')\n",
    "\n",
    "MSecondaryTourneyTeams_Stage1 = pd.read_csv('../data/MDataFiles_Stage1/MSecondaryTourneyTeams.csv')\n",
    "MSecondaryTourneyTeams_Stage2 = pd.read_csv('../data/MDataFiles_Stage2/MSecondaryTourneyTeams.csv')\n",
    "\n",
    "MSecondaryTourneyCompactResults_Stage1 = pd.read_csv('../data/MDataFiles_Stage1/MSecondaryTourneyCompactResults.csv')\n",
    "MSecondaryTourneyCompactResults_Stage2 = pd.read_csv('../data/MDataFiles_Stage2/MSecondaryTourneyCompactResults.csv')\n",
    "\n",
    "MTeamSpellings_Stage1 = pd.read_csv('../data/MDataFiles_Stage1/MTeamSpellings.csv', encoding = \"ISO-8859-1\", low_memory=False)\n",
    "MTeamSpellings_Stage2 = pd.read_csv('../data/MDataFiles_Stage2/MTeamSpellings.csv', encoding = \"ISO-8859-1\", low_memory=False)\n",
    "\n",
    "MNCAATourneySlots_Stage1 = pd.read_csv('../data/MDataFiles_Stage1/MNCAATourneySlots.csv')\n",
    "MNCAATourneySlots_Stage2 = pd.read_csv('../data/MDataFiles_Stage2/MNCAATourneySlots.csv')\n",
    "\n",
    "MNCAATourneySeedRoundSlots_Stage1 = pd.read_csv('../data/MDataFiles_Stage1/MNCAATourneySeedRoundSlots.csv')\n",
    "MNCAATourneySeedRoundSlots_Stage2 = pd.read_csv('../data/MDataFiles_Stage2/MNCAATourneySeedRoundSlots.csv')"
   ]
  }
 ],
 "metadata": {
  "kernelspec": {
   "display_name": "Python 3",
   "language": "python",
   "name": "python3"
  },
  "language_info": {
   "codemirror_mode": {
    "name": "ipython",
    "version": 3
   },
   "file_extension": ".py",
   "mimetype": "text/x-python",
   "name": "python",
   "nbconvert_exporter": "python",
   "pygments_lexer": "ipython3",
   "version": "3.7.3"
  },
  "toc": {
   "base_numbering": 1,
   "nav_menu": {},
   "number_sections": true,
   "sideBar": true,
   "skip_h1_title": false,
   "title_cell": "Table of Contents",
   "title_sidebar": "Contents",
   "toc_cell": false,
   "toc_position": {},
   "toc_section_display": true,
   "toc_window_display": false
  }
 },
 "nbformat": 4,
 "nbformat_minor": 2
}
