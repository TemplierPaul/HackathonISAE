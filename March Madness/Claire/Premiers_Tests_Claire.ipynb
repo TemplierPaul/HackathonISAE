{
 "cells": [
  {
   "cell_type": "code",
   "execution_count": 1,
   "metadata": {},
   "outputs": [],
   "source": [
    "import pandas as pd\n",
    "import pipeline as pp\n",
    "#import pipeline_update as pp"
   ]
  },
  {
   "cell_type": "code",
   "execution_count": 4,
   "metadata": {},
   "outputs": [
    {
     "name": "stdout",
     "output_type": "stream",
     "text": [
      "[1985 1986 1987 1988 1989 1990 1991 1992 1993 1994 1995 1996 1997 1998\n",
      " 1999 2000 2001 2002 2003 2004 2005 2006 2007 2008 2009 2010 2011 2012\n",
      " 2013 2014]\n",
      "History merged with stats_v1.csv\n",
      "Difference computed on Seed\n",
      "Generated matches merged with stats_v1.csv\n",
      "Result saved as predict_2015.csv\n"
     ]
    }
   ],
   "source": [
    "# prédictions 2015\n",
    "p = pp.pipeline(path='../../../data/MDataFiles_Stage1/', season= 2015)\n",
    "\n",
    "# Ajout éventuel de données\n",
    "p.add_team_data('stats_v1.csv')\n",
    "\n",
    "# Ajout de la différence entre les équipes (ici, pour le Seed seulement)\n",
    "p.compute_differences(['Seed'])\n",
    "\n",
    "# Entrainement et prédiction\n",
    "p.train_model()\n",
    "p_2015=p.predict(out='predict_2015.csv')"
   ]
  },
  {
   "cell_type": "code",
   "execution_count": 5,
   "metadata": {},
   "outputs": [
    {
     "name": "stdout",
     "output_type": "stream",
     "text": [
      "[1985 1986 1987 1988 1989 1990 1991 1992 1993 1994 1995 1996 1997 1998\n",
      " 1999 2000 2001 2002 2003 2004 2005 2006 2007 2008 2009 2010 2011 2012\n",
      " 2013 2014 2015]\n",
      "History merged with stats_v1.csv\n",
      "Difference computed on Seed\n",
      "Generated matches merged with stats_v1.csv\n",
      "Result saved as predict_2016.csv\n"
     ]
    }
   ],
   "source": [
    "# prédictions 2016\n",
    "p = pp.pipeline(path='../../../data/MDataFiles_Stage1/', season= 2016)\n",
    "\n",
    "# Ajout éventuel de données\n",
    "p.add_team_data('stats_v1.csv')\n",
    "\n",
    "# Ajout de la différence entre les équipes (ici, pour le Seed seulement)\n",
    "p.compute_differences(['Seed'])\n",
    "\n",
    "# Entrainement et prédiction\n",
    "p.train_model()\n",
    "p_2016=p.predict(out='predict_2016.csv')"
   ]
  },
  {
   "cell_type": "code",
   "execution_count": 6,
   "metadata": {},
   "outputs": [
    {
     "name": "stdout",
     "output_type": "stream",
     "text": [
      "[1985 1986 1987 1988 1989 1990 1991 1992 1993 1994 1995 1996 1997 1998\n",
      " 1999 2000 2001 2002 2003 2004 2005 2006 2007 2008 2009 2010 2011 2012\n",
      " 2013 2014 2015 2016]\n",
      "History merged with stats_v1.csv\n",
      "Difference computed on Seed\n",
      "Generated matches merged with stats_v1.csv\n",
      "Result saved as predict_2017.csv\n"
     ]
    }
   ],
   "source": [
    "# prédictions 2017\n",
    "p = pp.pipeline(path='../../../data/MDataFiles_Stage1/', season= 2017)\n",
    "\n",
    "# Ajout éventuel de données\n",
    "p.add_team_data('stats_v1.csv')\n",
    "\n",
    "# Ajout de la différence entre les équipes (ici, pour le Seed seulement)\n",
    "p.compute_differences(['Seed'])\n",
    "\n",
    "# Entrainement et prédiction\n",
    "p.train_model()\n",
    "p_2017=p.predict(out='predict_2017.csv')"
   ]
  },
  {
   "cell_type": "code",
   "execution_count": 7,
   "metadata": {},
   "outputs": [
    {
     "name": "stdout",
     "output_type": "stream",
     "text": [
      "[1985 1986 1987 1988 1989 1990 1991 1992 1993 1994 1995 1996 1997 1998\n",
      " 1999 2000 2001 2002 2003 2004 2005 2006 2007 2008 2009 2010 2011 2012\n",
      " 2013 2014 2015 2016 2017]\n",
      "History merged with stats_v1.csv\n",
      "Difference computed on Seed\n",
      "Generated matches merged with stats_v1.csv\n",
      "Result saved as predict_2018.csv\n"
     ]
    }
   ],
   "source": [
    "# prédictions 2018\n",
    "p = pp.pipeline(path='../../../data/MDataFiles_Stage1/', season= 2018)\n",
    "\n",
    "# Ajout éventuel de données\n",
    "p.add_team_data('stats_v1.csv')\n",
    "\n",
    "# Ajout de la différence entre les équipes (ici, pour le Seed seulement)\n",
    "p.compute_differences(['Seed'])\n",
    "\n",
    "# Entrainement et prédiction\n",
    "p.train_model()\n",
    "p_2018=p.predict(out='predict_2018.csv')"
   ]
  },
  {
   "cell_type": "code",
   "execution_count": 8,
   "metadata": {},
   "outputs": [
    {
     "name": "stdout",
     "output_type": "stream",
     "text": [
      "[1985 1986 1987 1988 1989 1990 1991 1992 1993 1994 1995 1996 1997 1998\n",
      " 1999 2000 2001 2002 2003 2004 2005 2006 2007 2008 2009 2010 2011 2012\n",
      " 2013 2014 2015 2016 2017 2018]\n",
      "History merged with stats_v1.csv\n",
      "Difference computed on Seed\n",
      "Generated matches merged with stats_v1.csv\n",
      "Result saved as predict_2019.csv\n"
     ]
    }
   ],
   "source": [
    "# prédictions 2019\n",
    "p = pp.pipeline(path='../../../data/MDataFiles_Stage1/', season= 2019)\n",
    "\n",
    "# Ajout éventuel de données\n",
    "p.add_team_data('stats_v1.csv')\n",
    "\n",
    "# Ajout de la différence entre les équipes (ici, pour le Seed seulement)\n",
    "p.compute_differences(['Seed'])\n",
    "\n",
    "# Entrainement et prédiction\n",
    "p.train_model()\n",
    "p_2019=p.predict(out='predict_2019.csv')"
   ]
  },
  {
   "cell_type": "code",
   "execution_count": 9,
   "metadata": {},
   "outputs": [
    {
     "data": {
      "text/plain": [
       "(22780, 4)"
      ]
     },
     "execution_count": 9,
     "metadata": {},
     "output_type": "execute_result"
    }
   ],
   "source": [
    "p_total=pd.concat([p_2015, p_2016, p_2017, p_2018, p_2019])\n",
    "p_total.shape\n"
   ]
  },
  {
   "cell_type": "code",
   "execution_count": 10,
   "metadata": {},
   "outputs": [
    {
     "data": {
      "text/html": [
       "<div>\n",
       "<style scoped>\n",
       "    .dataframe tbody tr th:only-of-type {\n",
       "        vertical-align: middle;\n",
       "    }\n",
       "\n",
       "    .dataframe tbody tr th {\n",
       "        vertical-align: top;\n",
       "    }\n",
       "\n",
       "    .dataframe thead th {\n",
       "        text-align: right;\n",
       "    }\n",
       "</style>\n",
       "<table border=\"1\" class=\"dataframe\">\n",
       "  <thead>\n",
       "    <tr style=\"text-align: right;\">\n",
       "      <th></th>\n",
       "      <th>Année</th>\n",
       "      <th>ID_Team1</th>\n",
       "      <th>ID_Team2</th>\n",
       "      <th>Predic_Team1</th>\n",
       "    </tr>\n",
       "  </thead>\n",
       "  <tbody>\n",
       "    <tr>\n",
       "      <th>0</th>\n",
       "      <td>2015</td>\n",
       "      <td>1437</td>\n",
       "      <td>1438</td>\n",
       "      <td>0.4875</td>\n",
       "    </tr>\n",
       "    <tr>\n",
       "      <th>1</th>\n",
       "      <td>2015</td>\n",
       "      <td>1437</td>\n",
       "      <td>1328</td>\n",
       "      <td>0.2500</td>\n",
       "    </tr>\n",
       "  </tbody>\n",
       "</table>\n",
       "</div>"
      ],
      "text/plain": [
       "   Année  ID_Team1  ID_Team2  Predic_Team1\n",
       "0   2015      1437      1438        0.4875\n",
       "1   2015      1437      1328        0.2500"
      ]
     },
     "execution_count": 10,
     "metadata": {},
     "output_type": "execute_result"
    }
   ],
   "source": [
    "p_2015.head(2)"
   ]
  },
  {
   "cell_type": "code",
   "execution_count": 11,
   "metadata": {},
   "outputs": [
    {
     "data": {
      "text/html": [
       "<div>\n",
       "<style scoped>\n",
       "    .dataframe tbody tr th:only-of-type {\n",
       "        vertical-align: middle;\n",
       "    }\n",
       "\n",
       "    .dataframe tbody tr th {\n",
       "        vertical-align: top;\n",
       "    }\n",
       "\n",
       "    .dataframe thead th {\n",
       "        text-align: right;\n",
       "    }\n",
       "</style>\n",
       "<table border=\"1\" class=\"dataframe\">\n",
       "  <thead>\n",
       "    <tr style=\"text-align: right;\">\n",
       "      <th></th>\n",
       "      <th>Année</th>\n",
       "      <th>ID_Team1</th>\n",
       "      <th>ID_Team2</th>\n",
       "      <th>Predic_Team1</th>\n",
       "    </tr>\n",
       "  </thead>\n",
       "  <tbody>\n",
       "    <tr>\n",
       "      <th>13</th>\n",
       "      <td>2015</td>\n",
       "      <td>1437</td>\n",
       "      <td>1107</td>\n",
       "      <td>0.2375</td>\n",
       "    </tr>\n",
       "  </tbody>\n",
       "</table>\n",
       "</div>"
      ],
      "text/plain": [
       "    Année  ID_Team1  ID_Team2  Predic_Team1\n",
       "13   2015      1437      1107        0.2375"
      ]
     },
     "execution_count": 11,
     "metadata": {},
     "output_type": "execute_result"
    }
   ],
   "source": [
    "p_2015[(p_2015[\"ID_Team1\"]==1437) & (p_2015[\"ID_Team2\"]==1107)]"
   ]
  },
  {
   "cell_type": "code",
   "execution_count": 12,
   "metadata": {},
   "outputs": [
    {
     "data": {
      "text/html": [
       "<div>\n",
       "<style scoped>\n",
       "    .dataframe tbody tr th:only-of-type {\n",
       "        vertical-align: middle;\n",
       "    }\n",
       "\n",
       "    .dataframe tbody tr th {\n",
       "        vertical-align: top;\n",
       "    }\n",
       "\n",
       "    .dataframe thead th {\n",
       "        text-align: right;\n",
       "    }\n",
       "</style>\n",
       "<table border=\"1\" class=\"dataframe\">\n",
       "  <thead>\n",
       "    <tr style=\"text-align: right;\">\n",
       "      <th></th>\n",
       "      <th>Année</th>\n",
       "      <th>ID_Team1</th>\n",
       "      <th>ID_Team2</th>\n",
       "      <th>Predic_Team1</th>\n",
       "    </tr>\n",
       "  </thead>\n",
       "  <tbody>\n",
       "    <tr>\n",
       "      <th>938</th>\n",
       "      <td>2015</td>\n",
       "      <td>1107</td>\n",
       "      <td>1437</td>\n",
       "      <td>0.8</td>\n",
       "    </tr>\n",
       "  </tbody>\n",
       "</table>\n",
       "</div>"
      ],
      "text/plain": [
       "     Année  ID_Team1  ID_Team2  Predic_Team1\n",
       "938   2015      1107      1437           0.8"
      ]
     },
     "execution_count": 12,
     "metadata": {},
     "output_type": "execute_result"
    }
   ],
   "source": [
    "p_2015[(p_2015[\"ID_Team1\"]==1107) & (p_2015[\"ID_Team2\"]==1437)]"
   ]
  },
  {
   "cell_type": "code",
   "execution_count": 13,
   "metadata": {},
   "outputs": [
    {
     "name": "stdout",
     "output_type": "stream",
     "text": [
      "[2015 2016 2017 2018 2019]\n"
     ]
    }
   ],
   "source": [
    "list_ID=p_total['ID_Team1'].unique()\n",
    "list_years=p_total['Année'].unique()\n",
    "print(list_years)"
   ]
  },
  {
   "cell_type": "code",
   "execution_count": 14,
   "metadata": {},
   "outputs": [
    {
     "name": "stdout",
     "output_type": "stream",
     "text": [
      "2015\n",
      "2016\n",
      "2017\n",
      "2018\n",
      "2019\n"
     ]
    }
   ],
   "source": [
    "for y in list_years:\n",
    "    print(y)\n",
    "    for indice_1 in list_ID:\n",
    "        for indice_2 in list_ID:\n",
    "            if indice_1<indice_2:\n",
    "                pred1=p_total[(p_total['Année']==y) & (p_total['ID_Team1']==indice_1) & (p_total['ID_Team2']==indice_2)]\n",
    "                pred2=p_total[(p_total['Année']==y) & (p_total['ID_Team1']==indice_2) & (p_total['ID_Team2']==indice_1)]\n",
    "                \n",
    "                p_total.loc[(p_total['ID_Team1']==indice_1) & (p_total['ID_Team2']==indice_2) & (p_total['Année']==y)]=(pred1+pred2)/2\n",
    "    "
   ]
  },
  {
   "cell_type": "code",
   "execution_count": 17,
   "metadata": {},
   "outputs": [
    {
     "data": {
      "text/plain": [
       "(0, 4)"
      ]
     },
     "execution_count": 17,
     "metadata": {},
     "output_type": "execute_result"
    }
   ],
   "source": [
    "p_total=p_total[p_total['ID_Team1']<p_total['ID_Team2']]\n",
    "p_total.shape"
   ]
  },
  {
   "cell_type": "code",
   "execution_count": 16,
   "metadata": {},
   "outputs": [],
   "source": [
    "p_total.to_csv('predict_moyenne.csv', index=False)"
   ]
  },
  {
   "cell_type": "code",
   "execution_count": null,
   "metadata": {},
   "outputs": [],
   "source": []
  }
 ],
 "metadata": {
  "kernelspec": {
   "display_name": "Python 3",
   "language": "python",
   "name": "python3"
  },
  "language_info": {
   "codemirror_mode": {
    "name": "ipython",
    "version": 3
   },
   "file_extension": ".py",
   "mimetype": "text/x-python",
   "name": "python",
   "nbconvert_exporter": "python",
   "pygments_lexer": "ipython3",
   "version": "3.7.3"
  }
 },
 "nbformat": 4,
 "nbformat_minor": 2
}
