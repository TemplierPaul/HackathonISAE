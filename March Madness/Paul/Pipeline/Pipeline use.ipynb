{
 "cells": [
  {
   "cell_type": "code",
   "execution_count": 1,
   "metadata": {},
   "outputs": [],
   "source": [
    "import pandas as pd\n",
    "import numpy as np\n",
    "import matplotlib.pyplot as plt\n",
    "import time\n",
    "from sklearn.metrics import r2_score"
   ]
  },
  {
   "cell_type": "code",
   "execution_count": 119,
   "metadata": {},
   "outputs": [],
   "source": [
    "import pipeline as pp\n",
    "import importlib\n",
    "importlib.reload (pp)\n",
    "import pipeline as pp"
   ]
  },
  {
   "cell_type": "markdown",
   "metadata": {},
   "source": [
    "## Parameters"
   ]
  },
  {
   "cell_type": "code",
   "execution_count": 139,
   "metadata": {},
   "outputs": [],
   "source": [
    "MDataFiles_Stage1_path = 'Data_ML/MDataFiles_Stage1/'\n",
    "start = 1985\n",
    "\n",
    "# Datasets to add\n",
    "data = ['features/stats_v1_processed.csv', \n",
    "        'features/Elos_pipeline_uniques.csv', \n",
    "        'features/features_reg_season2_processed.csv']\n",
    "\n",
    "# Features where the difference needs to be computed\n",
    "diff = ['elo_score', 'Seed', 'Pourcentage_V_terrain_adverse', 'Mental', \n",
    "        'Evolution_2_Last_years', 'Blocks', 'Steals']\n",
    "\n",
    "model_type = 'LR'\n",
    "\n",
    "# RF estimators\n",
    "n_estimators=250"
   ]
  },
  {
   "cell_type": "markdown",
   "metadata": {},
   "source": [
    "## Prediction"
   ]
  },
  {
   "cell_type": "code",
   "execution_count": 140,
   "metadata": {
    "scrolled": false
   },
   "outputs": [
    {
     "name": "stdout",
     "output_type": "stream",
     "text": [
      "3832 matches in history\n",
      "History merged with features/stats_v1_processed.csv\n",
      "History merged with features/Elos_pipeline_uniques.csv\n",
      "History merged with features/features_reg_season2_processed.csv\n",
      "Difference computed on elo_score\n",
      "Difference computed on Seed\n",
      "Difference computed on Pourcentage_V_terrain_adverse\n",
      "Difference computed on Mental\n",
      "Difference computed on Evolution_2_Last_years\n",
      "Difference computed on Blocks\n",
      "Difference computed on Steals\n",
      "32 features\n"
     ]
    },
    {
     "name": "stderr",
     "output_type": "stream",
     "text": [
      "C:\\ProgramData\\Anaconda3\\lib\\site-packages\\sklearn\\linear_model\\logistic.py:432: FutureWarning: Default solver will be changed to 'lbfgs' in 0.22. Specify a solver to silence this warning.\n",
      "  FutureWarning)\n"
     ]
    },
    {
     "name": "stdout",
     "output_type": "stream",
     "text": [
      "Training time: 0.213338s\n",
      "4556 matches to predict generated\n",
      "Generated matches merged with features/stats_v1_processed.csv\n",
      "Generated matches merged with features/Elos_pipeline_uniques.csv\n",
      "Generated matches merged with features/features_reg_season2_processed.csv\n",
      "Matches predicted for 2015\n",
      "\n",
      "3966 matches in history\n",
      "History merged with features/stats_v1_processed.csv\n",
      "History merged with features/Elos_pipeline_uniques.csv\n",
      "History merged with features/features_reg_season2_processed.csv\n",
      "Difference computed on elo_score\n",
      "Difference computed on Seed\n",
      "Difference computed on Pourcentage_V_terrain_adverse\n",
      "Difference computed on Mental\n",
      "Difference computed on Evolution_2_Last_years\n",
      "Difference computed on Blocks\n",
      "Difference computed on Steals\n",
      "32 features\n"
     ]
    },
    {
     "name": "stderr",
     "output_type": "stream",
     "text": [
      "C:\\ProgramData\\Anaconda3\\lib\\site-packages\\sklearn\\linear_model\\logistic.py:432: FutureWarning: Default solver will be changed to 'lbfgs' in 0.22. Specify a solver to silence this warning.\n",
      "  FutureWarning)\n"
     ]
    },
    {
     "name": "stdout",
     "output_type": "stream",
     "text": [
      "Training time: 0.198713s\n",
      "4556 matches to predict generated\n",
      "Generated matches merged with features/stats_v1_processed.csv\n",
      "Generated matches merged with features/Elos_pipeline_uniques.csv\n",
      "Generated matches merged with features/features_reg_season2_processed.csv\n",
      "Matches predicted for 2016\n",
      "\n",
      "4100 matches in history\n",
      "History merged with features/stats_v1_processed.csv\n",
      "History merged with features/Elos_pipeline_uniques.csv\n",
      "History merged with features/features_reg_season2_processed.csv\n",
      "Difference computed on elo_score\n",
      "Difference computed on Seed\n",
      "Difference computed on Pourcentage_V_terrain_adverse\n",
      "Difference computed on Mental\n",
      "Difference computed on Evolution_2_Last_years\n",
      "Difference computed on Blocks\n",
      "Difference computed on Steals\n",
      "32 features\n"
     ]
    },
    {
     "name": "stderr",
     "output_type": "stream",
     "text": [
      "C:\\ProgramData\\Anaconda3\\lib\\site-packages\\sklearn\\linear_model\\logistic.py:432: FutureWarning: Default solver will be changed to 'lbfgs' in 0.22. Specify a solver to silence this warning.\n",
      "  FutureWarning)\n"
     ]
    },
    {
     "name": "stdout",
     "output_type": "stream",
     "text": [
      "Training time: 0.153571s\n",
      "4556 matches to predict generated\n",
      "Generated matches merged with features/stats_v1_processed.csv\n",
      "Generated matches merged with features/Elos_pipeline_uniques.csv\n",
      "Generated matches merged with features/features_reg_season2_processed.csv\n",
      "Matches predicted for 2017\n",
      "\n",
      "4234 matches in history\n",
      "History merged with features/stats_v1_processed.csv\n",
      "History merged with features/Elos_pipeline_uniques.csv\n",
      "History merged with features/features_reg_season2_processed.csv\n",
      "Difference computed on elo_score\n",
      "Difference computed on Seed\n",
      "Difference computed on Pourcentage_V_terrain_adverse\n",
      "Difference computed on Mental\n",
      "Difference computed on Evolution_2_Last_years\n",
      "Difference computed on Blocks\n",
      "Difference computed on Steals\n",
      "32 features\n"
     ]
    },
    {
     "name": "stderr",
     "output_type": "stream",
     "text": [
      "C:\\ProgramData\\Anaconda3\\lib\\site-packages\\sklearn\\linear_model\\logistic.py:432: FutureWarning: Default solver will be changed to 'lbfgs' in 0.22. Specify a solver to silence this warning.\n",
      "  FutureWarning)\n"
     ]
    },
    {
     "name": "stdout",
     "output_type": "stream",
     "text": [
      "Training time: 0.167494s\n",
      "4556 matches to predict generated\n",
      "Generated matches merged with features/stats_v1_processed.csv\n",
      "Generated matches merged with features/Elos_pipeline_uniques.csv\n",
      "Generated matches merged with features/features_reg_season2_processed.csv\n",
      "Matches predicted for 2018\n",
      "\n",
      "4368 matches in history\n",
      "History merged with features/stats_v1_processed.csv\n",
      "History merged with features/Elos_pipeline_uniques.csv\n",
      "History merged with features/features_reg_season2_processed.csv\n",
      "Difference computed on elo_score\n",
      "Difference computed on Seed\n",
      "Difference computed on Pourcentage_V_terrain_adverse\n",
      "Difference computed on Mental\n",
      "Difference computed on Evolution_2_Last_years\n",
      "Difference computed on Blocks\n",
      "Difference computed on Steals\n",
      "32 features\n"
     ]
    },
    {
     "name": "stderr",
     "output_type": "stream",
     "text": [
      "C:\\ProgramData\\Anaconda3\\lib\\site-packages\\sklearn\\linear_model\\logistic.py:432: FutureWarning: Default solver will be changed to 'lbfgs' in 0.22. Specify a solver to silence this warning.\n",
      "  FutureWarning)\n"
     ]
    },
    {
     "name": "stdout",
     "output_type": "stream",
     "text": [
      "Training time: 0.230022s\n",
      "4556 matches to predict generated\n",
      "Generated matches merged with features/stats_v1_processed.csv\n",
      "Generated matches merged with features/Elos_pipeline_uniques.csv\n",
      "Generated matches merged with features/features_reg_season2_processed.csv\n",
      "Matches predicted for 2019\n",
      "\n"
     ]
    },
    {
     "data": {
      "text/html": [
       "<div>\n",
       "<style scoped>\n",
       "    .dataframe tbody tr th:only-of-type {\n",
       "        vertical-align: middle;\n",
       "    }\n",
       "\n",
       "    .dataframe tbody tr th {\n",
       "        vertical-align: top;\n",
       "    }\n",
       "\n",
       "    .dataframe thead th {\n",
       "        text-align: right;\n",
       "    }\n",
       "</style>\n",
       "<table border=\"1\" class=\"dataframe\">\n",
       "  <thead>\n",
       "    <tr style=\"text-align: right;\">\n",
       "      <th></th>\n",
       "      <th>Année</th>\n",
       "      <th>ID_Team1</th>\n",
       "      <th>ID_Team2</th>\n",
       "      <th>Predic_Team1</th>\n",
       "    </tr>\n",
       "  </thead>\n",
       "  <tbody>\n",
       "    <tr>\n",
       "      <th>0</th>\n",
       "      <td>2015</td>\n",
       "      <td>1437</td>\n",
       "      <td>1438</td>\n",
       "      <td>0.436910</td>\n",
       "    </tr>\n",
       "    <tr>\n",
       "      <th>1</th>\n",
       "      <td>2015</td>\n",
       "      <td>1437</td>\n",
       "      <td>1328</td>\n",
       "      <td>0.483017</td>\n",
       "    </tr>\n",
       "    <tr>\n",
       "      <th>2</th>\n",
       "      <td>2015</td>\n",
       "      <td>1437</td>\n",
       "      <td>1257</td>\n",
       "      <td>0.262660</td>\n",
       "    </tr>\n",
       "    <tr>\n",
       "      <th>3</th>\n",
       "      <td>2015</td>\n",
       "      <td>1437</td>\n",
       "      <td>1320</td>\n",
       "      <td>0.454814</td>\n",
       "    </tr>\n",
       "    <tr>\n",
       "      <th>4</th>\n",
       "      <td>2015</td>\n",
       "      <td>1437</td>\n",
       "      <td>1344</td>\n",
       "      <td>0.511890</td>\n",
       "    </tr>\n",
       "    <tr>\n",
       "      <th>5</th>\n",
       "      <td>2015</td>\n",
       "      <td>1437</td>\n",
       "      <td>1277</td>\n",
       "      <td>0.543856</td>\n",
       "    </tr>\n",
       "    <tr>\n",
       "      <th>6</th>\n",
       "      <td>2015</td>\n",
       "      <td>1437</td>\n",
       "      <td>1301</td>\n",
       "      <td>0.175159</td>\n",
       "    </tr>\n",
       "    <tr>\n",
       "      <th>7</th>\n",
       "      <td>2015</td>\n",
       "      <td>1437</td>\n",
       "      <td>1261</td>\n",
       "      <td>0.211244</td>\n",
       "    </tr>\n",
       "    <tr>\n",
       "      <th>8</th>\n",
       "      <td>2015</td>\n",
       "      <td>1437</td>\n",
       "      <td>1208</td>\n",
       "      <td>0.176652</td>\n",
       "    </tr>\n",
       "    <tr>\n",
       "      <th>9</th>\n",
       "      <td>2015</td>\n",
       "      <td>1437</td>\n",
       "      <td>1129</td>\n",
       "      <td>0.228840</td>\n",
       "    </tr>\n",
       "  </tbody>\n",
       "</table>\n",
       "</div>"
      ],
      "text/plain": [
       "   Année  ID_Team1  ID_Team2  Predic_Team1\n",
       "0   2015      1437      1438      0.436910\n",
       "1   2015      1437      1328      0.483017\n",
       "2   2015      1437      1257      0.262660\n",
       "3   2015      1437      1320      0.454814\n",
       "4   2015      1437      1344      0.511890\n",
       "5   2015      1437      1277      0.543856\n",
       "6   2015      1437      1301      0.175159\n",
       "7   2015      1437      1261      0.211244\n",
       "8   2015      1437      1208      0.176652\n",
       "9   2015      1437      1129      0.228840"
      ]
     },
     "execution_count": 140,
     "metadata": {},
     "output_type": "execute_result"
    }
   ],
   "source": [
    "dfs = []\n",
    "for s in [2015, 2016, 2017, 2018, 2019]:\n",
    "    p = pp.pipeline(path=MDataFiles_Stage1_path,  season=s, start = start)\n",
    "    for d in data:\n",
    "        p.add_team_data(d)\n",
    "    if len(diff)>0:\n",
    "        p.compute_differences(diff)\n",
    "    p.train_model(n_estimators=n_estimators, model_type=model_type)\n",
    "    dfs.append(p.predict(out=None))\n",
    "pred = pd.concat(dfs)\n",
    "pred.head(10)"
   ]
  },
  {
   "cell_type": "code",
   "execution_count": 141,
   "metadata": {},
   "outputs": [
    {
     "name": "stdout",
     "output_type": "stream",
     "text": [
      "Execution time: 5.564396s\n"
     ]
    },
    {
     "data": {
      "text/html": [
       "<div>\n",
       "<style scoped>\n",
       "    .dataframe tbody tr th:only-of-type {\n",
       "        vertical-align: middle;\n",
       "    }\n",
       "\n",
       "    .dataframe tbody tr th {\n",
       "        vertical-align: top;\n",
       "    }\n",
       "\n",
       "    .dataframe thead th {\n",
       "        text-align: right;\n",
       "    }\n",
       "</style>\n",
       "<table border=\"1\" class=\"dataframe\">\n",
       "  <thead>\n",
       "    <tr style=\"text-align: right;\">\n",
       "      <th></th>\n",
       "      <th>Année</th>\n",
       "      <th>ID_Team1</th>\n",
       "      <th>ID_Team2</th>\n",
       "      <th>Pred_1</th>\n",
       "      <th>Pred_2</th>\n",
       "      <th>Predic_Team1</th>\n",
       "    </tr>\n",
       "  </thead>\n",
       "  <tbody>\n",
       "    <tr>\n",
       "      <th>0</th>\n",
       "      <td>2015</td>\n",
       "      <td>1437</td>\n",
       "      <td>1438</td>\n",
       "      <td>0.563090</td>\n",
       "      <td>0.466740</td>\n",
       "      <td>0.514915</td>\n",
       "    </tr>\n",
       "    <tr>\n",
       "      <th>1</th>\n",
       "      <td>2015</td>\n",
       "      <td>1328</td>\n",
       "      <td>1437</td>\n",
       "      <td>0.483017</td>\n",
       "      <td>0.587865</td>\n",
       "      <td>0.535441</td>\n",
       "    </tr>\n",
       "    <tr>\n",
       "      <th>2</th>\n",
       "      <td>2015</td>\n",
       "      <td>1257</td>\n",
       "      <td>1437</td>\n",
       "      <td>0.262660</td>\n",
       "      <td>0.357866</td>\n",
       "      <td>0.310263</td>\n",
       "    </tr>\n",
       "    <tr>\n",
       "      <th>3</th>\n",
       "      <td>2015</td>\n",
       "      <td>1320</td>\n",
       "      <td>1437</td>\n",
       "      <td>0.454814</td>\n",
       "      <td>0.560957</td>\n",
       "      <td>0.507885</td>\n",
       "    </tr>\n",
       "    <tr>\n",
       "      <th>4</th>\n",
       "      <td>2015</td>\n",
       "      <td>1344</td>\n",
       "      <td>1437</td>\n",
       "      <td>0.511890</td>\n",
       "      <td>0.614374</td>\n",
       "      <td>0.563132</td>\n",
       "    </tr>\n",
       "  </tbody>\n",
       "</table>\n",
       "</div>"
      ],
      "text/plain": [
       "   Année  ID_Team1  ID_Team2    Pred_1    Pred_2  Predic_Team1\n",
       "0   2015      1437      1438  0.563090  0.466740      0.514915\n",
       "1   2015      1328      1437  0.483017  0.587865      0.535441\n",
       "2   2015      1257      1437  0.262660  0.357866      0.310263\n",
       "3   2015      1320      1437  0.454814  0.560957      0.507885\n",
       "4   2015      1344      1437  0.511890  0.614374      0.563132"
      ]
     },
     "execution_count": 141,
     "metadata": {},
     "output_type": "execute_result"
    }
   ],
   "source": [
    "t0=time.time()\n",
    "df = pred\n",
    "\n",
    "results = {}\n",
    "for index, row in df.iterrows():\n",
    "    i, j = row['ID_Team1'], row['ID_Team2']\n",
    "    season = row['Année']\n",
    "    p = 1-row['Predic_Team1']\n",
    "    \n",
    "    if i> j:\n",
    "        i, j = j, i\n",
    "        p = 1-p\n",
    "    if (i, j, season) not in results.keys():\n",
    "        results[(i, j, season)]=[p]\n",
    "    else:\n",
    "        results[(i, j, season)].append(p)\n",
    "\n",
    "data = []\n",
    "for k, v in results.items():\n",
    "    d = {\n",
    "        \"Année\":int(k[2]),\n",
    "        \"ID_Team1\":int(k[0]),\n",
    "        \"ID_Team2\":int(k[1]),\n",
    "        \"Pred_1\":v[0],\n",
    "        \"Pred_2\":v[1],\n",
    "        \"Predic_Team1\":(v[0]+v[1])/2\n",
    "    }\n",
    "    data.append(d)\n",
    "data = pd.DataFrame(data)\n",
    "print(\"Execution time: %fs\"%(time.time() - t0))\n",
    "data.head()"
   ]
  },
  {
   "cell_type": "code",
   "execution_count": 142,
   "metadata": {},
   "outputs": [
    {
     "name": "stdout",
     "output_type": "stream",
     "text": [
      "Correlation: \t0.945875\n",
      "R² score: \t0.894462\n"
     ]
    },
    {
     "data": {
      "image/png": "[encoded data removed]",
      "text/plain": [
       "<Figure size 576x576 with 1 Axes>"
      ]
     },
     "metadata": {
      "needs_background": "light"
     },
     "output_type": "display_data"
    }
   ],
   "source": [
    "plt.figure(figsize=(8, 8))\n",
    "plt.scatter(data['Pred_1'], data['Pred_2'])\n",
    "plt.xlim(0, 1)\n",
    "plt.ylim(0, 1)\n",
    "plt.xlabel(\"proba A in AvB\")\n",
    "plt.ylabel(\"proba A in BvA\")\n",
    "plt.title(model_type)\n",
    "\n",
    "r2 = r2_score(data['Pred_1'], data['Pred_2'])\n",
    "corr = np.corrcoef(data['Pred_1'], data['Pred_2'])\n",
    "print(\"Correlation: \\t%4f\\nR² score: \\t%4f\" %(corr[0][1], r2))"
   ]
  },
  {
   "cell_type": "code",
   "execution_count": 143,
   "metadata": {},
   "outputs": [
    {
     "data": {
      "text/html": [
       "<div>\n",
       "<style scoped>\n",
       "    .dataframe tbody tr th:only-of-type {\n",
       "        vertical-align: middle;\n",
       "    }\n",
       "\n",
       "    .dataframe tbody tr th {\n",
       "        vertical-align: top;\n",
       "    }\n",
       "\n",
       "    .dataframe thead th {\n",
       "        text-align: right;\n",
       "    }\n",
       "</style>\n",
       "<table border=\"1\" class=\"dataframe\">\n",
       "  <thead>\n",
       "    <tr style=\"text-align: right;\">\n",
       "      <th></th>\n",
       "      <th>ID</th>\n",
       "      <th>Pred</th>\n",
       "    </tr>\n",
       "  </thead>\n",
       "  <tbody>\n",
       "    <tr>\n",
       "      <th>884</th>\n",
       "      <td>2015_1107_1112</td>\n",
       "      <td>0.051600</td>\n",
       "    </tr>\n",
       "    <tr>\n",
       "      <th>887</th>\n",
       "      <td>2015_1107_1116</td>\n",
       "      <td>0.095183</td>\n",
       "    </tr>\n",
       "    <tr>\n",
       "      <th>885</th>\n",
       "      <td>2015_1107_1124</td>\n",
       "      <td>0.183430</td>\n",
       "    </tr>\n",
       "    <tr>\n",
       "      <th>847</th>\n",
       "      <td>2015_1107_1125</td>\n",
       "      <td>0.335552</td>\n",
       "    </tr>\n",
       "    <tr>\n",
       "      <th>628</th>\n",
       "      <td>2015_1107_1129</td>\n",
       "      <td>0.237476</td>\n",
       "    </tr>\n",
       "  </tbody>\n",
       "</table>\n",
       "</div>"
      ],
      "text/plain": [
       "                 ID      Pred\n",
       "884  2015_1107_1112  0.051600\n",
       "887  2015_1107_1116  0.095183\n",
       "885  2015_1107_1124  0.183430\n",
       "847  2015_1107_1125  0.335552\n",
       "628  2015_1107_1129  0.237476"
      ]
     },
     "execution_count": 143,
     "metadata": {},
     "output_type": "execute_result"
    }
   ],
   "source": [
    "reduced_data = data.drop(columns=['Pred_1', 'Pred_2'])\n",
    "reduced_data.sort_values(['Année', 'ID_Team1', 'ID_Team2'], inplace=True)\n",
    "\n",
    "#On crée notre fichier de soumission\n",
    "submission_file=pd.DataFrame(columns=['ID', 'Pred'], index=[str(j) for j in range(11390)])\n",
    "\n",
    "# On le remplit\n",
    "sub = pd.DataFrame()\n",
    "sub['ID'] = reduced_data['Année'].astype(str) + '_' + reduced_data['ID_Team1'].astype(str) + '_' + reduced_data['ID_Team2'].astype(str)\n",
    "sub['Pred']= reduced_data['Predic_Team1']\n",
    "sub.head()"
   ]
  },
  {
   "cell_type": "code",
   "execution_count": 144,
   "metadata": {},
   "outputs": [],
   "source": [
    "sub.to_csv(\"submission/sub_LR_statsv1_ELO_season2.csv\", index=False)"
   ]
  },
  {
   "cell_type": "code",
   "execution_count": null,
   "metadata": {},
   "outputs": [],
   "source": []
  },
  {
   "cell_type": "markdown",
   "metadata": {},
   "source": [
    "## Data Transformation"
   ]
  },
  {
   "cell_type": "code",
   "execution_count": 17,
   "metadata": {
    "scrolled": true
   },
   "outputs": [],
   "source": [
    "elo = pd.read_csv( 'features/Elos_pipeline.csv')\n",
    "elo.drop_duplicates().to_csv('features/Elos_pipeline_uniques.csv', index=False)"
   ]
  },
  {
   "cell_type": "code",
   "execution_count": 128,
   "metadata": {},
   "outputs": [
    {
     "data": {
      "text/html": [
       "<div>\n",
       "<style scoped>\n",
       "    .dataframe tbody tr th:only-of-type {\n",
       "        vertical-align: middle;\n",
       "    }\n",
       "\n",
       "    .dataframe tbody tr th {\n",
       "        vertical-align: top;\n",
       "    }\n",
       "\n",
       "    .dataframe thead th {\n",
       "        text-align: right;\n",
       "    }\n",
       "</style>\n",
       "<table border=\"1\" class=\"dataframe\">\n",
       "  <thead>\n",
       "    <tr style=\"text-align: right;\">\n",
       "      <th></th>\n",
       "      <th>TeamID</th>\n",
       "      <th>Season</th>\n",
       "      <th>Moyenne_diff_score</th>\n",
       "      <th>Pourcentage_V_terrain_adverse</th>\n",
       "      <th>Mental</th>\n",
       "      <th>Evolution_2_Last_years</th>\n",
       "      <th>Fools</th>\n",
       "      <th>Blocks</th>\n",
       "      <th>Steals</th>\n",
       "      <th>Qualité_Défense</th>\n",
       "      <th>Qualité_Attaque</th>\n",
       "      <th>Confiance</th>\n",
       "      <th>Ancienneté</th>\n",
       "    </tr>\n",
       "  </thead>\n",
       "  <tbody>\n",
       "    <tr>\n",
       "      <th>0</th>\n",
       "      <td>1101</td>\n",
       "      <td>2014</td>\n",
       "      <td>-15.476190</td>\n",
       "      <td>0.066667</td>\n",
       "      <td>-0.285714</td>\n",
       "      <td>0.050000</td>\n",
       "      <td>4.190476</td>\n",
       "      <td>0.333333</td>\n",
       "      <td>1.761905</td>\n",
       "      <td>33.240896</td>\n",
       "      <td>63.142857</td>\n",
       "      <td>-14.476190</td>\n",
       "      <td>0</td>\n",
       "    </tr>\n",
       "    <tr>\n",
       "      <th>1</th>\n",
       "      <td>1101</td>\n",
       "      <td>2015</td>\n",
       "      <td>-10.857143</td>\n",
       "      <td>0.125000</td>\n",
       "      <td>-1.250000</td>\n",
       "      <td>0.050000</td>\n",
       "      <td>9.607143</td>\n",
       "      <td>1.107143</td>\n",
       "      <td>3.000000</td>\n",
       "      <td>42.014706</td>\n",
       "      <td>61.000000</td>\n",
       "      <td>-8.857143</td>\n",
       "      <td>1</td>\n",
       "    </tr>\n",
       "    <tr>\n",
       "      <th>2</th>\n",
       "      <td>1101</td>\n",
       "      <td>2016</td>\n",
       "      <td>-6.407407</td>\n",
       "      <td>0.250000</td>\n",
       "      <td>-0.833333</td>\n",
       "      <td>0.238095</td>\n",
       "      <td>15.370370</td>\n",
       "      <td>1.962963</td>\n",
       "      <td>4.444444</td>\n",
       "      <td>39.912854</td>\n",
       "      <td>69.851852</td>\n",
       "      <td>-2.407407</td>\n",
       "      <td>2</td>\n",
       "    </tr>\n",
       "    <tr>\n",
       "      <th>3</th>\n",
       "      <td>1101</td>\n",
       "      <td>2017</td>\n",
       "      <td>-4.760000</td>\n",
       "      <td>0.352941</td>\n",
       "      <td>-0.070588</td>\n",
       "      <td>0.110000</td>\n",
       "      <td>15.360000</td>\n",
       "      <td>1.880000</td>\n",
       "      <td>4.720000</td>\n",
       "      <td>43.724706</td>\n",
       "      <td>67.880000</td>\n",
       "      <td>1.240000</td>\n",
       "      <td>3</td>\n",
       "    </tr>\n",
       "    <tr>\n",
       "      <th>4</th>\n",
       "      <td>1101</td>\n",
       "      <td>2018</td>\n",
       "      <td>-2.148148</td>\n",
       "      <td>0.555556</td>\n",
       "      <td>1.111111</td>\n",
       "      <td>0.111111</td>\n",
       "      <td>16.666667</td>\n",
       "      <td>3.703704</td>\n",
       "      <td>5.074074</td>\n",
       "      <td>45.727669</td>\n",
       "      <td>70.666667</td>\n",
       "      <td>7.851852</td>\n",
       "      <td>4</td>\n",
       "    </tr>\n",
       "  </tbody>\n",
       "</table>\n",
       "</div>"
      ],
      "text/plain": [
       "   TeamID  Season  Moyenne_diff_score  Pourcentage_V_terrain_adverse  \\\n",
       "0    1101    2014          -15.476190                       0.066667   \n",
       "1    1101    2015          -10.857143                       0.125000   \n",
       "2    1101    2016           -6.407407                       0.250000   \n",
       "3    1101    2017           -4.760000                       0.352941   \n",
       "4    1101    2018           -2.148148                       0.555556   \n",
       "\n",
       "     Mental  Evolution_2_Last_years      Fools    Blocks    Steals  \\\n",
       "0 -0.285714                0.050000   4.190476  0.333333  1.761905   \n",
       "1 -1.250000                0.050000   9.607143  1.107143  3.000000   \n",
       "2 -0.833333                0.238095  15.370370  1.962963  4.444444   \n",
       "3 -0.070588                0.110000  15.360000  1.880000  4.720000   \n",
       "4  1.111111                0.111111  16.666667  3.703704  5.074074   \n",
       "\n",
       "   Qualité_Défense  Qualité_Attaque  Confiance  Ancienneté  \n",
       "0        33.240896        63.142857 -14.476190           0  \n",
       "1        42.014706        61.000000  -8.857143           1  \n",
       "2        39.912854        69.851852  -2.407407           2  \n",
       "3        43.724706        67.880000   1.240000           3  \n",
       "4        45.727669        70.666667   7.851852           4  "
      ]
     },
     "execution_count": 128,
     "metadata": {},
     "output_type": "execute_result"
    }
   ],
   "source": [
    "seas = pd.read_csv('features/features_reg_season2.csv')\n",
    "seas.head()"
   ]
  },
  {
   "cell_type": "code",
   "execution_count": 130,
   "metadata": {
    "scrolled": true
   },
   "outputs": [],
   "source": [
    "seas.drop(columns = ['Confiance', 'Moyenne_diff_score', 'Fools', 'Ancienneté', \n",
    "           'Qualité_Attaque', 'Qualité_Défense']).to_csv('features/features_reg_season2_processed.csv', index=True)"
   ]
  },
  {
   "cell_type": "code",
   "execution_count": null,
   "metadata": {},
   "outputs": [],
   "source": []
  },
  {
   "cell_type": "code",
   "execution_count": 136,
   "metadata": {},
   "outputs": [],
   "source": [
    "df = pd.read_csv('features/stats_v1.csv', index_col=0)\n",
    "df[['Season', 'TeamID', 'Seed']].to_csv('features/stats_v1_processed.csv', index=True)"
   ]
  },
  {
   "cell_type": "code",
   "execution_count": null,
   "metadata": {},
   "outputs": [],
   "source": []
  },
  {
   "cell_type": "code",
   "execution_count": null,
   "metadata": {},
   "outputs": [],
   "source": []
  },
  {
   "cell_type": "code",
   "execution_count": 83,
   "metadata": {
    "scrolled": false
   },
   "outputs": [
    {
     "data": {
      "text/html": [
       "<div>\n",
       "<style scoped>\n",
       "    .dataframe tbody tr th:only-of-type {\n",
       "        vertical-align: middle;\n",
       "    }\n",
       "\n",
       "    .dataframe tbody tr th {\n",
       "        vertical-align: top;\n",
       "    }\n",
       "\n",
       "    .dataframe thead th {\n",
       "        text-align: right;\n",
       "    }\n",
       "</style>\n",
       "<table border=\"1\" class=\"dataframe\">\n",
       "  <thead>\n",
       "    <tr style=\"text-align: right;\">\n",
       "      <th></th>\n",
       "      <th>Victoires_MM</th>\n",
       "      <th>TeamID</th>\n",
       "      <th>Season</th>\n",
       "      <th>Pourcentage_Victoire</th>\n",
       "      <th>Buts_moyens_encaissés</th>\n",
       "      <th>Buts_moyens_marqués</th>\n",
       "      <th>Moyenne_diff_score</th>\n",
       "      <th>Pourcentage_V_terrain_adverse</th>\n",
       "      <th>Mental</th>\n",
       "      <th>Evolution_2_Last_years</th>\n",
       "      <th>Qualité_défense</th>\n",
       "      <th>Fools</th>\n",
       "      <th>Blocks</th>\n",
       "      <th>Steals</th>\n",
       "      <th>Ancienneté</th>\n",
       "    </tr>\n",
       "  </thead>\n",
       "  <tbody>\n",
       "    <tr>\n",
       "      <th>0</th>\n",
       "      <td>2.0</td>\n",
       "      <td>1101</td>\n",
       "      <td>2014</td>\n",
       "      <td>0.095238</td>\n",
       "      <td>78.619048</td>\n",
       "      <td>63.142857</td>\n",
       "      <td>-15.476190</td>\n",
       "      <td>0.066667</td>\n",
       "      <td>-0.285714</td>\n",
       "      <td>0.050000</td>\n",
       "      <td>0.619162</td>\n",
       "      <td>4.190476</td>\n",
       "      <td>0.333333</td>\n",
       "      <td>1.761905</td>\n",
       "      <td>0</td>\n",
       "    </tr>\n",
       "    <tr>\n",
       "      <th>1</th>\n",
       "      <td>2.0</td>\n",
       "      <td>1101</td>\n",
       "      <td>2015</td>\n",
       "      <td>0.250000</td>\n",
       "      <td>71.857143</td>\n",
       "      <td>61.000000</td>\n",
       "      <td>-10.857143</td>\n",
       "      <td>0.125000</td>\n",
       "      <td>-1.250000</td>\n",
       "      <td>0.050000</td>\n",
       "      <td>0.598150</td>\n",
       "      <td>9.607143</td>\n",
       "      <td>1.107143</td>\n",
       "      <td>3.000000</td>\n",
       "      <td>1</td>\n",
       "    </tr>\n",
       "    <tr>\n",
       "      <th>2</th>\n",
       "      <td>2.0</td>\n",
       "      <td>1101</td>\n",
       "      <td>2016</td>\n",
       "      <td>0.333333</td>\n",
       "      <td>76.259259</td>\n",
       "      <td>69.851852</td>\n",
       "      <td>-6.407407</td>\n",
       "      <td>0.250000</td>\n",
       "      <td>-0.833333</td>\n",
       "      <td>0.238095</td>\n",
       "      <td>0.684949</td>\n",
       "      <td>15.370370</td>\n",
       "      <td>1.962963</td>\n",
       "      <td>4.444444</td>\n",
       "      <td>2</td>\n",
       "    </tr>\n",
       "    <tr>\n",
       "      <th>3</th>\n",
       "      <td>2.0</td>\n",
       "      <td>1101</td>\n",
       "      <td>2017</td>\n",
       "      <td>0.360000</td>\n",
       "      <td>72.640000</td>\n",
       "      <td>67.880000</td>\n",
       "      <td>-4.760000</td>\n",
       "      <td>0.352941</td>\n",
       "      <td>-0.070588</td>\n",
       "      <td>0.110000</td>\n",
       "      <td>0.665613</td>\n",
       "      <td>15.360000</td>\n",
       "      <td>1.880000</td>\n",
       "      <td>4.720000</td>\n",
       "      <td>3</td>\n",
       "    </tr>\n",
       "    <tr>\n",
       "      <th>4</th>\n",
       "      <td>2.0</td>\n",
       "      <td>1101</td>\n",
       "      <td>2018</td>\n",
       "      <td>0.444444</td>\n",
       "      <td>72.814815</td>\n",
       "      <td>70.666667</td>\n",
       "      <td>-2.148148</td>\n",
       "      <td>0.555556</td>\n",
       "      <td>1.111111</td>\n",
       "      <td>0.111111</td>\n",
       "      <td>0.692939</td>\n",
       "      <td>16.666667</td>\n",
       "      <td>3.703704</td>\n",
       "      <td>5.074074</td>\n",
       "      <td>4</td>\n",
       "    </tr>\n",
       "  </tbody>\n",
       "</table>\n",
       "</div>"
      ],
      "text/plain": [
       "   Victoires_MM  TeamID  Season  Pourcentage_Victoire  Buts_moyens_encaissés  \\\n",
       "0           2.0    1101    2014              0.095238              78.619048   \n",
       "1           2.0    1101    2015              0.250000              71.857143   \n",
       "2           2.0    1101    2016              0.333333              76.259259   \n",
       "3           2.0    1101    2017              0.360000              72.640000   \n",
       "4           2.0    1101    2018              0.444444              72.814815   \n",
       "\n",
       "   Buts_moyens_marqués  Moyenne_diff_score  Pourcentage_V_terrain_adverse  \\\n",
       "0            63.142857          -15.476190                       0.066667   \n",
       "1            61.000000          -10.857143                       0.125000   \n",
       "2            69.851852           -6.407407                       0.250000   \n",
       "3            67.880000           -4.760000                       0.352941   \n",
       "4            70.666667           -2.148148                       0.555556   \n",
       "\n",
       "     Mental  Evolution_2_Last_years  Qualité_défense      Fools    Blocks  \\\n",
       "0 -0.285714                0.050000         0.619162   4.190476  0.333333   \n",
       "1 -1.250000                0.050000         0.598150   9.607143  1.107143   \n",
       "2 -0.833333                0.238095         0.684949  15.370370  1.962963   \n",
       "3 -0.070588                0.110000         0.665613  15.360000  1.880000   \n",
       "4  1.111111                0.111111         0.692939  16.666667  3.703704   \n",
       "\n",
       "     Steals  Ancienneté  \n",
       "0  1.761905           0  \n",
       "1  3.000000           1  \n",
       "2  4.444444           2  \n",
       "3  4.720000           3  \n",
       "4  5.074074           4  "
      ]
     },
     "execution_count": 83,
     "metadata": {},
     "output_type": "execute_result"
    }
   ],
   "source": [
    "pd.read_csv('features/features_reg_season_processed.csv', index_col=0).head()"
   ]
  },
  {
   "cell_type": "code",
   "execution_count": null,
   "metadata": {},
   "outputs": [],
   "source": []
  },
  {
   "cell_type": "markdown",
   "metadata": {},
   "source": [
    "## Issues analysis\n",
    "Tools to check why it doesn't work"
   ]
  },
  {
   "cell_type": "code",
   "execution_count": 27,
   "metadata": {},
   "outputs": [],
   "source": [
    "def filter_ts(df, teamID, season):\n",
    "    a = df[df['TeamID']==teamID]\n",
    "    return  a[a['Season']==season]"
   ]
  },
  {
   "cell_type": "code",
   "execution_count": 28,
   "metadata": {},
   "outputs": [
    {
     "data": {
      "text/html": [
       "<div>\n",
       "<style scoped>\n",
       "    .dataframe tbody tr th:only-of-type {\n",
       "        vertical-align: middle;\n",
       "    }\n",
       "\n",
       "    .dataframe tbody tr th {\n",
       "        vertical-align: top;\n",
       "    }\n",
       "\n",
       "    .dataframe thead th {\n",
       "        text-align: right;\n",
       "    }\n",
       "</style>\n",
       "<table border=\"1\" class=\"dataframe\">\n",
       "  <thead>\n",
       "    <tr style=\"text-align: right;\">\n",
       "      <th></th>\n",
       "      <th>Victoires_MM</th>\n",
       "      <th>TeamID</th>\n",
       "      <th>Season</th>\n",
       "      <th>Nombre_victoires</th>\n",
       "      <th>Nombre_défaites</th>\n",
       "      <th>Nombre_matchs</th>\n",
       "      <th>Pourcentage_Victoire</th>\n",
       "      <th>Buts_moyens_encaissés</th>\n",
       "      <th>Buts_moyens_marqués</th>\n",
       "      <th>Moyenne_diff_score</th>\n",
       "      <th>Pourcentage_V_terrain_adverse</th>\n",
       "      <th>Mental</th>\n",
       "      <th>Evolution_2_Last_years</th>\n",
       "      <th>Qualité_défense</th>\n",
       "      <th>Fools</th>\n",
       "      <th>Blocks</th>\n",
       "      <th>Steals</th>\n",
       "      <th>Ancienneté</th>\n",
       "    </tr>\n",
       "  </thead>\n",
       "  <tbody>\n",
       "  </tbody>\n",
       "</table>\n",
       "</div>"
      ],
      "text/plain": [
       "Empty DataFrame\n",
       "Columns: [Victoires_MM, TeamID, Season, Nombre_victoires, Nombre_défaites, Nombre_matchs, Pourcentage_Victoire, Buts_moyens_encaissés, Buts_moyens_marqués, Moyenne_diff_score, Pourcentage_V_terrain_adverse, Mental, Evolution_2_Last_years, Qualité_défense, Fools, Blocks, Steals, Ancienneté]\n",
       "Index: []"
      ]
     },
     "execution_count": 28,
     "metadata": {},
     "output_type": "execute_result"
    }
   ],
   "source": [
    "df = pd.read_csv(data[0])\n",
    "filter_ts(df, 1314, 1985)"
   ]
  },
  {
   "cell_type": "code",
   "execution_count": 10,
   "metadata": {
    "scrolled": true
   },
   "outputs": [
    {
     "data": {
      "text/plain": [
       "4210"
      ]
     },
     "execution_count": 10,
     "metadata": {},
     "output_type": "execute_result"
    }
   ],
   "source": [
    "len(p.match_histo)"
   ]
  },
  {
   "cell_type": "code",
   "execution_count": 9,
   "metadata": {},
   "outputs": [
    {
     "data": {
      "text/plain": [
       "3832"
      ]
     },
     "execution_count": 9,
     "metadata": {},
     "output_type": "execute_result"
    }
   ],
   "source": [
    "len(p.results_histo)"
   ]
  },
  {
   "cell_type": "code",
   "execution_count": null,
   "metadata": {},
   "outputs": [],
   "source": []
  },
  {
   "cell_type": "code",
   "execution_count": null,
   "metadata": {},
   "outputs": [],
   "source": []
  },
  {
   "cell_type": "code",
   "execution_count": null,
   "metadata": {},
   "outputs": [],
   "source": []
  },
  {
   "cell_type": "code",
   "execution_count": 17,
   "metadata": {},
   "outputs": [],
   "source": [
    "h = p.match_histo['Nombre_victoires_Team1']"
   ]
  },
  {
   "cell_type": "code",
   "execution_count": null,
   "metadata": {},
   "outputs": [],
   "source": []
  },
  {
   "cell_type": "code",
   "execution_count": null,
   "metadata": {},
   "outputs": [],
   "source": []
  },
  {
   "cell_type": "code",
   "execution_count": 18,
   "metadata": {},
   "outputs": [
    {
     "data": {
      "text/plain": [
       "3832"
      ]
     },
     "execution_count": 18,
     "metadata": {},
     "output_type": "execute_result"
    }
   ],
   "source": [
    "len(h)"
   ]
  },
  {
   "cell_type": "code",
   "execution_count": 19,
   "metadata": {},
   "outputs": [
    {
     "data": {
      "text/plain": [
       "2056"
      ]
     },
     "execution_count": 19,
     "metadata": {},
     "output_type": "execute_result"
    }
   ],
   "source": [
    "h.count()"
   ]
  },
  {
   "cell_type": "code",
   "execution_count": null,
   "metadata": {},
   "outputs": [],
   "source": []
  },
  {
   "cell_type": "code",
   "execution_count": null,
   "metadata": {},
   "outputs": [],
   "source": []
  },
  {
   "cell_type": "code",
   "execution_count": null,
   "metadata": {},
   "outputs": [],
   "source": []
  },
  {
   "cell_type": "code",
   "execution_count": null,
   "metadata": {},
   "outputs": [],
   "source": []
  },
  {
   "cell_type": "code",
   "execution_count": null,
   "metadata": {},
   "outputs": [],
   "source": []
  }
 ],
 "metadata": {
  "kernelspec": {
   "display_name": "Python 3",
   "language": "python",
   "name": "python3"
  },
  "language_info": {
   "codemirror_mode": {
    "name": "ipython",
    "version": 3
   },
   "file_extension": ".py",
   "mimetype": "text/x-python",
   "name": "python",
   "nbconvert_exporter": "python",
   "pygments_lexer": "ipython3",
   "version": "3.7.3"
  }
 },
 "nbformat": 4,
 "nbformat_minor": 2
}
