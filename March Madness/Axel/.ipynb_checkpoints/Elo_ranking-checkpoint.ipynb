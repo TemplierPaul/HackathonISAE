{
 "cells": [
  {
   "cell_type": "markdown",
   "metadata": {},
   "source": [
    "# Elo ranking\n",
    "\n",
    "\n",
    "\n",
    "- Première prédiction à partir des scores Elo juste avant le match\n",
    "- Préparation du fichier en utilisant les scores Elo avant march madness pour prédire le march madness (tous les matchs de saison régulière et des saisons précédentes sont utilisés pour prédire le match madness d'une saison)\n"
   ]
  },
  {
   "cell_type": "code",
   "execution_count": 72,
   "metadata": {},
   "outputs": [],
   "source": [
    "import numpy as np\n",
    "import pandas as pd \n",
    "import matplotlib.pyplot as plt\n",
    "import seaborn as sns\n",
    "from sklearn.preprocessing import LabelEncoder\n",
    "from sklearn.metrics import mean_squared_error\n",
    "from sklearn.metrics import log_loss\n",
    "import random as rd\n",
    "\n",
    "sns.set_style(\"darkgrid\")\n",
    "sns.set_context(\"notebook\")"
   ]
  },
  {
   "cell_type": "code",
   "execution_count": 2,
   "metadata": {},
   "outputs": [],
   "source": [
    "mean_elo = 1500\n",
    "elo_width = 400\n",
    "k_factor = 64"
   ]
  },
  {
   "cell_type": "markdown",
   "metadata": {},
   "source": [
    "## Load the data"
   ]
  },
  {
   "cell_type": "code",
   "execution_count": 3,
   "metadata": {},
   "outputs": [],
   "source": [
    "data_dir = '/Users/axel/Desktop/hackaton/google-cloud-ncaa-march-madness-2020-division-1-mens-tournament/MDataFiles_Stage1/'\n",
    "\n",
    "df_reg = pd.read_csv(data_dir + 'MRegularSeasonCompactResults.csv')\n",
    "df_tour_mncaa = pd.read_csv(data_dir + 'MNCAATourneyCompactResults.csv')\n",
    "df_tour_msecondary = pd.read_csv(data_dir + 'MSecondaryTourneyCompactResults.csv')"
   ]
  },
  {
   "cell_type": "markdown",
   "metadata": {},
   "source": [
    "- Concatenate the datasets\n",
    "- Clean them\n",
    "- Sort them chronologically"
   ]
  },
  {
   "cell_type": "code",
   "execution_count": 4,
   "metadata": {},
   "outputs": [],
   "source": [
    "df_reg['Tournament'] = ['RegularSeason' for i in range(len(df_reg))]\n",
    "df_tour_mncaa['Tournament'] = [ 'NCAA'for i in range(len(df_tour_mncaa))]\n",
    "df_tour_msecondary['Tournament'] = ['SecondaryTourney' for i in range(len(df_tour_msecondary))]\n",
    "\n",
    "df_concat = pd.concat((df_reg, df_tour_mncaa), ignore_index=True, sort = True)\n",
    "df_concat = pd.concat((df_concat, df_tour_msecondary), ignore_index=True, sort = True)"
   ]
  },
  {
   "cell_type": "code",
   "execution_count": 5,
   "metadata": {},
   "outputs": [
    {
     "data": {
      "text/html": [
       "<div>\n",
       "<style scoped>\n",
       "    .dataframe tbody tr th:only-of-type {\n",
       "        vertical-align: middle;\n",
       "    }\n",
       "\n",
       "    .dataframe tbody tr th {\n",
       "        vertical-align: top;\n",
       "    }\n",
       "\n",
       "    .dataframe thead th {\n",
       "        text-align: right;\n",
       "    }\n",
       "</style>\n",
       "<table border=\"1\" class=\"dataframe\">\n",
       "  <thead>\n",
       "    <tr style=\"text-align: right;\">\n",
       "      <th></th>\n",
       "      <th>DayNum</th>\n",
       "      <th>LTeamID</th>\n",
       "      <th>Season</th>\n",
       "      <th>SecondaryTourney</th>\n",
       "      <th>Tournament</th>\n",
       "      <th>WTeamID</th>\n",
       "      <th>WTeamID_original</th>\n",
       "      <th>LTeamID_original</th>\n",
       "    </tr>\n",
       "  </thead>\n",
       "  <tbody>\n",
       "    <tr>\n",
       "      <th>0</th>\n",
       "      <td>20</td>\n",
       "      <td>227</td>\n",
       "      <td>1985</td>\n",
       "      <td>NaN</td>\n",
       "      <td>RegularSeason</td>\n",
       "      <td>127</td>\n",
       "      <td>1228</td>\n",
       "      <td>1328</td>\n",
       "    </tr>\n",
       "    <tr>\n",
       "      <th>1</th>\n",
       "      <td>25</td>\n",
       "      <td>253</td>\n",
       "      <td>1985</td>\n",
       "      <td>NaN</td>\n",
       "      <td>RegularSeason</td>\n",
       "      <td>5</td>\n",
       "      <td>1106</td>\n",
       "      <td>1354</td>\n",
       "    </tr>\n",
       "    <tr>\n",
       "      <th>2</th>\n",
       "      <td>25</td>\n",
       "      <td>122</td>\n",
       "      <td>1985</td>\n",
       "      <td>NaN</td>\n",
       "      <td>RegularSeason</td>\n",
       "      <td>11</td>\n",
       "      <td>1112</td>\n",
       "      <td>1223</td>\n",
       "    </tr>\n",
       "    <tr>\n",
       "      <th>3</th>\n",
       "      <td>25</td>\n",
       "      <td>331</td>\n",
       "      <td>1985</td>\n",
       "      <td>NaN</td>\n",
       "      <td>RegularSeason</td>\n",
       "      <td>64</td>\n",
       "      <td>1165</td>\n",
       "      <td>1432</td>\n",
       "    </tr>\n",
       "    <tr>\n",
       "      <th>4</th>\n",
       "      <td>25</td>\n",
       "      <td>346</td>\n",
       "      <td>1985</td>\n",
       "      <td>NaN</td>\n",
       "      <td>RegularSeason</td>\n",
       "      <td>91</td>\n",
       "      <td>1192</td>\n",
       "      <td>1447</td>\n",
       "    </tr>\n",
       "  </tbody>\n",
       "</table>\n",
       "</div>"
      ],
      "text/plain": [
       "   DayNum  LTeamID  Season SecondaryTourney     Tournament  WTeamID  \\\n",
       "0      20      227    1985              NaN  RegularSeason      127   \n",
       "1      25      253    1985              NaN  RegularSeason        5   \n",
       "2      25      122    1985              NaN  RegularSeason       11   \n",
       "3      25      331    1985              NaN  RegularSeason       64   \n",
       "4      25      346    1985              NaN  RegularSeason       91   \n",
       "\n",
       "   WTeamID_original  LTeamID_original  \n",
       "0              1228              1328  \n",
       "1              1106              1354  \n",
       "2              1112              1223  \n",
       "3              1165              1432  \n",
       "4              1192              1447  "
      ]
     },
     "execution_count": 5,
     "metadata": {},
     "output_type": "execute_result"
    }
   ],
   "source": [
    "df_concat.drop(labels=[ 'WScore', 'LScore', 'WLoc', 'NumOT'], inplace=True, axis=1)\n",
    "df_concat.sort_values(by=['Season', 'DayNum'], inplace=True)\n",
    "\n",
    "le = LabelEncoder()\n",
    "\n",
    "df_concat['WTeamID_original'] = df_concat.WTeamID\n",
    "df_concat['LTeamID_original'] = df_concat.LTeamID\n",
    "\n",
    "df_concat.WTeamID = le.fit_transform(df_concat.WTeamID)\n",
    "df_concat.LTeamID = le.fit_transform(df_concat.LTeamID)\n",
    "\n",
    "df_concat.head()"
   ]
  },
  {
   "cell_type": "markdown",
   "metadata": {},
   "source": [
    "## Elo Rating Preparation\n",
    "\n",
    "\n",
    "- Updates the elo scores after each match\n",
    "- Create a new column with a unique time\n"
   ]
  },
  {
   "cell_type": "code",
   "execution_count": 6,
   "metadata": {},
   "outputs": [],
   "source": [
    "def update_elo(winner_elo, loser_elo):\n",
    "    \n",
    "    expected_win = expected_result(winner_elo, loser_elo)\n",
    "    change_in_elo = k_factor * (1 - expected_win)\n",
    "    winner_elo += change_in_elo\n",
    "    loser_elo -= change_in_elo\n",
    "    \n",
    "    return winner_elo, loser_elo\n",
    "\n",
    "\n",
    "\n",
    "def expected_result(elo_a, elo_b):\n",
    "    \n",
    "    expect_a = 1.0/(1 + 10 ** ((elo_b - elo_a) / elo_width) )\n",
    "    \n",
    "    return expect_a"
   ]
  },
  {
   "cell_type": "code",
   "execution_count": 7,
   "metadata": {},
   "outputs": [],
   "source": [
    "def update_end_of_season(elos):\n",
    "    \"\"\"Regression towards the mean\n",
    "    \"\"\"\n",
    "    \n",
    "    diff_from_mean = elos - mean_elo\n",
    "    elos -= diff_from_mean / 3\n",
    "    \n",
    "    return elos"
   ]
  },
  {
   "cell_type": "code",
   "execution_count": 8,
   "metadata": {},
   "outputs": [],
   "source": [
    "df_concat['w_elo_before_game'] = 0\n",
    "df_concat['w_elo_after_game'] = 0\n",
    "df_concat['l_elo_before_game'] = 0\n",
    "df_concat['l_elo_after_game'] = 0\n",
    "\n",
    "elo_per_season = {}\n",
    "n_teams = len(le.classes_)\n",
    "current_elos = np.ones(shape=(n_teams)) * mean_elo"
   ]
  },
  {
   "cell_type": "markdown",
   "metadata": {},
   "source": [
    "Unique time"
   ]
  },
  {
   "cell_type": "code",
   "execution_count": 9,
   "metadata": {},
   "outputs": [
    {
     "data": {
      "text/html": [
       "<div>\n",
       "<style scoped>\n",
       "    .dataframe tbody tr th:only-of-type {\n",
       "        vertical-align: middle;\n",
       "    }\n",
       "\n",
       "    .dataframe tbody tr th {\n",
       "        vertical-align: top;\n",
       "    }\n",
       "\n",
       "    .dataframe thead th {\n",
       "        text-align: right;\n",
       "    }\n",
       "</style>\n",
       "<table border=\"1\" class=\"dataframe\">\n",
       "  <thead>\n",
       "    <tr style=\"text-align: right;\">\n",
       "      <th></th>\n",
       "      <th>0</th>\n",
       "      <th>1</th>\n",
       "      <th>2</th>\n",
       "      <th>3</th>\n",
       "      <th>4</th>\n",
       "      <th>5</th>\n",
       "      <th>6</th>\n",
       "      <th>7</th>\n",
       "      <th>8</th>\n",
       "      <th>9</th>\n",
       "      <th>...</th>\n",
       "      <th>356</th>\n",
       "      <th>357</th>\n",
       "      <th>358</th>\n",
       "      <th>359</th>\n",
       "      <th>360</th>\n",
       "      <th>361</th>\n",
       "      <th>362</th>\n",
       "      <th>363</th>\n",
       "      <th>364</th>\n",
       "      <th>365</th>\n",
       "    </tr>\n",
       "  </thead>\n",
       "  <tbody>\n",
       "    <tr>\n",
       "      <th>20.0</th>\n",
       "      <td>1500</td>\n",
       "      <td>1500</td>\n",
       "      <td>1500</td>\n",
       "      <td>1500</td>\n",
       "      <td>1500</td>\n",
       "      <td>1500</td>\n",
       "      <td>1500</td>\n",
       "      <td>1500</td>\n",
       "      <td>1500</td>\n",
       "      <td>1500</td>\n",
       "      <td>...</td>\n",
       "      <td>1500</td>\n",
       "      <td>1500</td>\n",
       "      <td>1500</td>\n",
       "      <td>1500</td>\n",
       "      <td>1500</td>\n",
       "      <td>1500</td>\n",
       "      <td>1500</td>\n",
       "      <td>1500</td>\n",
       "      <td>1500</td>\n",
       "      <td>1500</td>\n",
       "    </tr>\n",
       "    <tr>\n",
       "      <th>25.0</th>\n",
       "      <td>NaN</td>\n",
       "      <td>NaN</td>\n",
       "      <td>NaN</td>\n",
       "      <td>NaN</td>\n",
       "      <td>NaN</td>\n",
       "      <td>NaN</td>\n",
       "      <td>NaN</td>\n",
       "      <td>NaN</td>\n",
       "      <td>NaN</td>\n",
       "      <td>NaN</td>\n",
       "      <td>...</td>\n",
       "      <td>NaN</td>\n",
       "      <td>NaN</td>\n",
       "      <td>NaN</td>\n",
       "      <td>NaN</td>\n",
       "      <td>NaN</td>\n",
       "      <td>NaN</td>\n",
       "      <td>NaN</td>\n",
       "      <td>NaN</td>\n",
       "      <td>NaN</td>\n",
       "      <td>NaN</td>\n",
       "    </tr>\n",
       "    <tr>\n",
       "      <th>26.0</th>\n",
       "      <td>NaN</td>\n",
       "      <td>NaN</td>\n",
       "      <td>NaN</td>\n",
       "      <td>NaN</td>\n",
       "      <td>NaN</td>\n",
       "      <td>NaN</td>\n",
       "      <td>NaN</td>\n",
       "      <td>NaN</td>\n",
       "      <td>NaN</td>\n",
       "      <td>NaN</td>\n",
       "      <td>...</td>\n",
       "      <td>NaN</td>\n",
       "      <td>NaN</td>\n",
       "      <td>NaN</td>\n",
       "      <td>NaN</td>\n",
       "      <td>NaN</td>\n",
       "      <td>NaN</td>\n",
       "      <td>NaN</td>\n",
       "      <td>NaN</td>\n",
       "      <td>NaN</td>\n",
       "      <td>NaN</td>\n",
       "    </tr>\n",
       "    <tr>\n",
       "      <th>27.0</th>\n",
       "      <td>NaN</td>\n",
       "      <td>NaN</td>\n",
       "      <td>NaN</td>\n",
       "      <td>NaN</td>\n",
       "      <td>NaN</td>\n",
       "      <td>NaN</td>\n",
       "      <td>NaN</td>\n",
       "      <td>NaN</td>\n",
       "      <td>NaN</td>\n",
       "      <td>NaN</td>\n",
       "      <td>...</td>\n",
       "      <td>NaN</td>\n",
       "      <td>NaN</td>\n",
       "      <td>NaN</td>\n",
       "      <td>NaN</td>\n",
       "      <td>NaN</td>\n",
       "      <td>NaN</td>\n",
       "      <td>NaN</td>\n",
       "      <td>NaN</td>\n",
       "      <td>NaN</td>\n",
       "      <td>NaN</td>\n",
       "    </tr>\n",
       "    <tr>\n",
       "      <th>28.0</th>\n",
       "      <td>NaN</td>\n",
       "      <td>NaN</td>\n",
       "      <td>NaN</td>\n",
       "      <td>NaN</td>\n",
       "      <td>NaN</td>\n",
       "      <td>NaN</td>\n",
       "      <td>NaN</td>\n",
       "      <td>NaN</td>\n",
       "      <td>NaN</td>\n",
       "      <td>NaN</td>\n",
       "      <td>...</td>\n",
       "      <td>NaN</td>\n",
       "      <td>NaN</td>\n",
       "      <td>NaN</td>\n",
       "      <td>NaN</td>\n",
       "      <td>NaN</td>\n",
       "      <td>NaN</td>\n",
       "      <td>NaN</td>\n",
       "      <td>NaN</td>\n",
       "      <td>NaN</td>\n",
       "      <td>NaN</td>\n",
       "    </tr>\n",
       "  </tbody>\n",
       "</table>\n",
       "<p>5 rows × 366 columns</p>\n",
       "</div>"
      ],
      "text/plain": [
       "       0     1     2     3     4     5     6     7     8     9    ...   356  \\\n",
       "20.0  1500  1500  1500  1500  1500  1500  1500  1500  1500  1500  ...  1500   \n",
       "25.0   NaN   NaN   NaN   NaN   NaN   NaN   NaN   NaN   NaN   NaN  ...   NaN   \n",
       "26.0   NaN   NaN   NaN   NaN   NaN   NaN   NaN   NaN   NaN   NaN  ...   NaN   \n",
       "27.0   NaN   NaN   NaN   NaN   NaN   NaN   NaN   NaN   NaN   NaN  ...   NaN   \n",
       "28.0   NaN   NaN   NaN   NaN   NaN   NaN   NaN   NaN   NaN   NaN  ...   NaN   \n",
       "\n",
       "       357   358   359   360   361   362   363   364   365  \n",
       "20.0  1500  1500  1500  1500  1500  1500  1500  1500  1500  \n",
       "25.0   NaN   NaN   NaN   NaN   NaN   NaN   NaN   NaN   NaN  \n",
       "26.0   NaN   NaN   NaN   NaN   NaN   NaN   NaN   NaN   NaN  \n",
       "27.0   NaN   NaN   NaN   NaN   NaN   NaN   NaN   NaN   NaN  \n",
       "28.0   NaN   NaN   NaN   NaN   NaN   NaN   NaN   NaN   NaN  \n",
       "\n",
       "[5 rows x 366 columns]"
      ]
     },
     "execution_count": 9,
     "metadata": {},
     "output_type": "execute_result"
    }
   ],
   "source": [
    "df_concat['total_days'] = (df_concat.Season-1985)*365.25 + df_concat.DayNum\n",
    "\n",
    "df_team_elos = pd.DataFrame(index=df_concat.total_days.unique(), columns=range(n_teams))\n",
    "df_team_elos.iloc[0, :] = current_elos\n",
    "\n",
    "df_team_elos.head()"
   ]
  },
  {
   "cell_type": "markdown",
   "metadata": {},
   "source": [
    "## Update the elo ratings\n",
    "\n",
    "- iterate on each of the rows of the dataframe\n"
   ]
  },
  {
   "cell_type": "code",
   "execution_count": 10,
   "metadata": {},
   "outputs": [],
   "source": [
    "current_season = df_concat.at[0, 'Season']\n",
    "for row in df_concat.itertuples():\n",
    "    \n",
    "    if row.Season != current_season:\n",
    "        \n",
    "        current_elos = update_end_of_season(current_elos)\n",
    "        elo_per_season[row.Season] = current_elos.copy()\n",
    "        current_season = row.Season\n",
    "        \n",
    "    idx = row.Index\n",
    "    w_id = row.WTeamID\n",
    "    l_id = row.LTeamID\n",
    "    w_elo_before = current_elos[w_id]\n",
    "    l_elo_before = current_elos[l_id]\n",
    "    w_elo_after, l_elo_after = update_elo(w_elo_before, l_elo_before)\n",
    "        \n",
    "    df_concat.at[idx, 'w_elo_before_game'] = w_elo_before\n",
    "    df_concat.at[idx, 'l_elo_before_game'] = l_elo_before\n",
    "    df_concat.at[idx, 'w_elo_after_game'] = w_elo_after\n",
    "    df_concat.at[idx, 'l_elo_after_game'] = l_elo_after\n",
    "    current_elos[w_id] = w_elo_after\n",
    "    current_elos[l_id] = l_elo_after\n",
    "    \n",
    "    today = row.total_days\n",
    "    df_team_elos.at[today, w_id] = w_elo_after\n",
    "    df_team_elos.at[today, l_id] = l_elo_after"
   ]
  },
  {
   "cell_type": "code",
   "execution_count": 11,
   "metadata": {},
   "outputs": [
    {
     "data": {
      "text/html": [
       "<div>\n",
       "<style scoped>\n",
       "    .dataframe tbody tr th:only-of-type {\n",
       "        vertical-align: middle;\n",
       "    }\n",
       "\n",
       "    .dataframe tbody tr th {\n",
       "        vertical-align: top;\n",
       "    }\n",
       "\n",
       "    .dataframe thead th {\n",
       "        text-align: right;\n",
       "    }\n",
       "</style>\n",
       "<table border=\"1\" class=\"dataframe\">\n",
       "  <thead>\n",
       "    <tr style=\"text-align: right;\">\n",
       "      <th></th>\n",
       "      <th>DayNum</th>\n",
       "      <th>LTeamID</th>\n",
       "      <th>Season</th>\n",
       "      <th>SecondaryTourney</th>\n",
       "      <th>Tournament</th>\n",
       "      <th>WTeamID</th>\n",
       "      <th>WTeamID_original</th>\n",
       "      <th>LTeamID_original</th>\n",
       "      <th>w_elo_before_game</th>\n",
       "      <th>w_elo_after_game</th>\n",
       "      <th>l_elo_before_game</th>\n",
       "      <th>l_elo_after_game</th>\n",
       "      <th>total_days</th>\n",
       "    </tr>\n",
       "  </thead>\n",
       "  <tbody>\n",
       "    <tr>\n",
       "      <th>165425</th>\n",
       "      <td>150</td>\n",
       "      <td>151</td>\n",
       "      <td>2019</td>\n",
       "      <td>NIT</td>\n",
       "      <td>SecondaryTourney</td>\n",
       "      <td>299</td>\n",
       "      <td>1400</td>\n",
       "      <td>1252</td>\n",
       "      <td>1806</td>\n",
       "      <td>1839</td>\n",
       "      <td>1810</td>\n",
       "      <td>1778</td>\n",
       "      <td>12568.5</td>\n",
       "    </tr>\n",
       "    <tr>\n",
       "      <th>165426</th>\n",
       "      <td>151</td>\n",
       "      <td>76</td>\n",
       "      <td>2019</td>\n",
       "      <td>CBI</td>\n",
       "      <td>SecondaryTourney</td>\n",
       "      <td>277</td>\n",
       "      <td>1378</td>\n",
       "      <td>1177</td>\n",
       "      <td>1623</td>\n",
       "      <td>1659</td>\n",
       "      <td>1665</td>\n",
       "      <td>1629</td>\n",
       "      <td>12569.5</td>\n",
       "    </tr>\n",
       "    <tr>\n",
       "      <th>163800</th>\n",
       "      <td>152</td>\n",
       "      <td>176</td>\n",
       "      <td>2019</td>\n",
       "      <td>NaN</td>\n",
       "      <td>NCAA</td>\n",
       "      <td>302</td>\n",
       "      <td>1403</td>\n",
       "      <td>1277</td>\n",
       "      <td>2026</td>\n",
       "      <td>2063</td>\n",
       "      <td>2083</td>\n",
       "      <td>2046</td>\n",
       "      <td>12570.5</td>\n",
       "    </tr>\n",
       "    <tr>\n",
       "      <th>163801</th>\n",
       "      <td>152</td>\n",
       "      <td>19</td>\n",
       "      <td>2019</td>\n",
       "      <td>NaN</td>\n",
       "      <td>NCAA</td>\n",
       "      <td>337</td>\n",
       "      <td>1438</td>\n",
       "      <td>1120</td>\n",
       "      <td>2083</td>\n",
       "      <td>2114</td>\n",
       "      <td>2078</td>\n",
       "      <td>2047</td>\n",
       "      <td>12570.5</td>\n",
       "    </tr>\n",
       "    <tr>\n",
       "      <th>163802</th>\n",
       "      <td>154</td>\n",
       "      <td>302</td>\n",
       "      <td>2019</td>\n",
       "      <td>NaN</td>\n",
       "      <td>NCAA</td>\n",
       "      <td>337</td>\n",
       "      <td>1438</td>\n",
       "      <td>1403</td>\n",
       "      <td>2114</td>\n",
       "      <td>2142</td>\n",
       "      <td>2063</td>\n",
       "      <td>2036</td>\n",
       "      <td>12572.5</td>\n",
       "    </tr>\n",
       "  </tbody>\n",
       "</table>\n",
       "</div>"
      ],
      "text/plain": [
       "        DayNum  LTeamID  Season SecondaryTourney        Tournament  WTeamID  \\\n",
       "165425     150      151    2019              NIT  SecondaryTourney      299   \n",
       "165426     151       76    2019              CBI  SecondaryTourney      277   \n",
       "163800     152      176    2019              NaN              NCAA      302   \n",
       "163801     152       19    2019              NaN              NCAA      337   \n",
       "163802     154      302    2019              NaN              NCAA      337   \n",
       "\n",
       "        WTeamID_original  LTeamID_original  w_elo_before_game  \\\n",
       "165425              1400              1252               1806   \n",
       "165426              1378              1177               1623   \n",
       "163800              1403              1277               2026   \n",
       "163801              1438              1120               2083   \n",
       "163802              1438              1403               2114   \n",
       "\n",
       "        w_elo_after_game  l_elo_before_game  l_elo_after_game  total_days  \n",
       "165425              1839               1810              1778     12568.5  \n",
       "165426              1659               1665              1629     12569.5  \n",
       "163800              2063               2083              2046     12570.5  \n",
       "163801              2114               2078              2047     12570.5  \n",
       "163802              2142               2063              2036     12572.5  "
      ]
     },
     "execution_count": 11,
     "metadata": {},
     "output_type": "execute_result"
    }
   ],
   "source": [
    "df_concat.tail()"
   ]
  },
  {
   "cell_type": "code",
   "execution_count": 12,
   "metadata": {},
   "outputs": [
    {
     "name": "stdout",
     "output_type": "stream",
     "text": [
      "-0.5674207495577284\n"
     ]
    }
   ],
   "source": [
    "n_samples = 40000\n",
    "samples = df_concat[df_concat.Season > 2010].sample(n_samples)\n",
    "loss=0\n",
    "expected_list = []\n",
    "for row in samples.itertuples():\n",
    "    w_elo = row.w_elo_before_game\n",
    "    l_elo = row.l_elo_before_game\n",
    "    w_expected = expected_result(w_elo, l_elo)\n",
    "    expected_list.append(w_expected)\n",
    "    loss += np.log(w_expected)\n",
    "print(loss/n_samples)"
   ]
  },
  {
   "cell_type": "code",
   "execution_count": 13,
   "metadata": {},
   "outputs": [
    {
     "data": {
      "text/plain": [
       "Text(0, 0.5, 'Counts')"
      ]
     },
     "execution_count": 13,
     "metadata": {},
     "output_type": "execute_result"
    },
    {
     "data": {
      "image/png": "[encoded data removed]",
      "text/plain": [
       "<Figure size 1152x648 with 1 Axes>"
      ]
     },
     "metadata": {
      "needs_background": "light"
     },
     "output_type": "display_data"
    }
   ],
   "source": [
    "plt.figure(figsize = (16,9))\n",
    "sns.distplot(expected_list, kde=True, bins=20, )\n",
    "plt.xlabel('Elo Expected Wins for Actual Winner')\n",
    "plt.ylabel('Counts')"
   ]
  },
  {
   "cell_type": "code",
   "execution_count": 14,
   "metadata": {},
   "outputs": [],
   "source": [
    "df_team_elos.fillna(method='ffill', inplace=True)\n",
    "trans_dict = {i: 'team_{}'.format(i) for i in range(n_teams)}\n",
    "df_team_elos.rename(columns=trans_dict, inplace=True)\n",
    "epoch = (df_team_elos.index)\n",
    "df_team_elos['date'] = pd.to_datetime(epoch, unit='D')"
   ]
  },
  {
   "cell_type": "code",
   "execution_count": 15,
   "metadata": {},
   "outputs": [
    {
     "name": "stderr",
     "output_type": "stream",
     "text": [
      "/Users/axel/anaconda3/lib/python3.7/site-packages/pandas/plotting/_converter.py:129: FutureWarning: Using an implicitly registered datetime converter for a matplotlib plotting method. The converter was registered by pandas on import. Future versions of pandas will require you to explicitly register matplotlib converters.\n",
      "\n",
      "To register the converters:\n",
      "\t>>> from pandas.plotting import register_matplotlib_converters\n",
      "\t>>> register_matplotlib_converters()\n",
      "  warnings.warn(msg, FutureWarning)\n"
     ]
    },
    {
     "data": {
      "text/plain": [
       "Text(0, 0.5, 'Elo rating')"
      ]
     },
     "execution_count": 15,
     "metadata": {},
     "output_type": "execute_result"
    },
    {
     "data": {
      "image/png": "[encoded data removed]",
      "text/plain": [
       "<Figure size 1152x648 with 1 Axes>"
      ]
     },
     "metadata": {
      "needs_background": "light"
     },
     "output_type": "display_data"
    }
   ],
   "source": [
    "plt.figure(figsize = (16,9))\n",
    "plt.plot(df_team_elos.date, df_team_elos.team_11, color = 'red')\n",
    "plt.plot(df_team_elos.date, df_team_elos.team_2, color = 'blue')\n",
    "plt.ylabel('Elo rating')"
   ]
  },
  {
   "cell_type": "markdown",
   "metadata": {},
   "source": [
    "## Predictions for the March Madness\n",
    "\n",
    "- Find the last Elo rating of each team before the March Madness\n",
    "- Predict each possible match of the March Madness using these ratings"
   ]
  },
  {
   "cell_type": "code",
   "execution_count": 16,
   "metadata": {},
   "outputs": [],
   "source": [
    "def return_elo_before_NCAA(df_concat, season, TeamID):\n",
    "    \n",
    "    NCAA_first_day = min(df_concat[(df_concat.Tournament == 'NCAA') & (df_concat.Season == season)].total_days)\n",
    "    df_ = df_concat[df_concat.total_days <  NCAA_first_day]\n",
    "    df_ = df_[(df_concat.LTeamID_original == TeamID) | (df_concat.WTeamID_original == TeamID)]\n",
    "    \n",
    "    last_match_day = np.max(df_[(df_concat.LTeamID_original == TeamID)].total_days) \n",
    "    won = False\n",
    "    if(np.isnan(last_match_day) or last_match_day < np.max(df_[(df_concat.WTeamID_original == TeamID)].total_days)):\n",
    "        last_match_day = np.max(df_[(df_concat.WTeamID_original == TeamID)].total_days)\n",
    "        won = True\n",
    "    if(won):\n",
    "        return df_[df_.total_days ==  last_match_day].w_elo_after_game\n",
    "    if(not won):\n",
    "        return df_[df_.total_days ==  last_match_day].l_elo_after_game\n",
    "        "
   ]
  },
  {
   "cell_type": "code",
   "execution_count": 17,
   "metadata": {},
   "outputs": [
    {
     "name": "stderr",
     "output_type": "stream",
     "text": [
      "/Users/axel/anaconda3/lib/python3.7/site-packages/ipykernel_launcher.py:5: UserWarning: Boolean Series key will be reindexed to match DataFrame index.\n",
      "  \"\"\"\n",
      "/Users/axel/anaconda3/lib/python3.7/site-packages/ipykernel_launcher.py:7: UserWarning: Boolean Series key will be reindexed to match DataFrame index.\n",
      "  import sys\n",
      "/Users/axel/anaconda3/lib/python3.7/site-packages/ipykernel_launcher.py:9: UserWarning: Boolean Series key will be reindexed to match DataFrame index.\n",
      "  if __name__ == '__main__':\n"
     ]
    },
    {
     "data": {
      "text/plain": [
       "3604    1476\n",
       "Name: l_elo_after_game, dtype: int64"
      ]
     },
     "execution_count": 17,
     "metadata": {},
     "output_type": "execute_result"
    }
   ],
   "source": [
    "return_elo_before_NCAA(df_concat, 1985, 1117)"
   ]
  },
  {
   "cell_type": "code",
   "execution_count": 18,
   "metadata": {},
   "outputs": [],
   "source": [
    "#df = pd.DataFrame()"
   ]
  },
  {
   "cell_type": "code",
   "execution_count": 19,
   "metadata": {},
   "outputs": [
    {
     "name": "stdout",
     "output_type": "stream",
     "text": [
      "-0.5743493862241992\n"
     ]
    }
   ],
   "source": [
    "n_samples = 10000\n",
    "samples = df_concat[df_concat.Season > 2010].sample(n_samples)\n",
    "loss=0\n",
    "expected_list = []\n",
    "for row in samples.itertuples():\n",
    "    w_elo = row.w_elo_before_game\n",
    "    l_elo = row.l_elo_before_game\n",
    "    w_expected = expected_result(w_elo, l_elo)\n",
    "    expected_list.append(w_expected)\n",
    "    loss += np.log(w_expected)\n",
    "print(loss/n_samples)"
   ]
  },
  {
   "cell_type": "code",
   "execution_count": 20,
   "metadata": {},
   "outputs": [
    {
     "data": {
      "text/html": [
       "<div>\n",
       "<style scoped>\n",
       "    .dataframe tbody tr th:only-of-type {\n",
       "        vertical-align: middle;\n",
       "    }\n",
       "\n",
       "    .dataframe tbody tr th {\n",
       "        vertical-align: top;\n",
       "    }\n",
       "\n",
       "    .dataframe thead th {\n",
       "        text-align: right;\n",
       "    }\n",
       "</style>\n",
       "<table border=\"1\" class=\"dataframe\">\n",
       "  <thead>\n",
       "    <tr style=\"text-align: right;\">\n",
       "      <th></th>\n",
       "      <th>ID</th>\n",
       "      <th>Pred</th>\n",
       "    </tr>\n",
       "  </thead>\n",
       "  <tbody>\n",
       "    <tr>\n",
       "      <th>0</th>\n",
       "      <td>2015_1107_1112</td>\n",
       "      <td>0.5</td>\n",
       "    </tr>\n",
       "    <tr>\n",
       "      <th>1</th>\n",
       "      <td>2015_1107_1116</td>\n",
       "      <td>0.5</td>\n",
       "    </tr>\n",
       "    <tr>\n",
       "      <th>2</th>\n",
       "      <td>2015_1107_1124</td>\n",
       "      <td>0.5</td>\n",
       "    </tr>\n",
       "    <tr>\n",
       "      <th>3</th>\n",
       "      <td>2015_1107_1125</td>\n",
       "      <td>0.5</td>\n",
       "    </tr>\n",
       "    <tr>\n",
       "      <th>4</th>\n",
       "      <td>2015_1107_1129</td>\n",
       "      <td>0.5</td>\n",
       "    </tr>\n",
       "  </tbody>\n",
       "</table>\n",
       "</div>"
      ],
      "text/plain": [
       "               ID  Pred\n",
       "0  2015_1107_1112   0.5\n",
       "1  2015_1107_1116   0.5\n",
       "2  2015_1107_1124   0.5\n",
       "3  2015_1107_1125   0.5\n",
       "4  2015_1107_1129   0.5"
      ]
     },
     "execution_count": 20,
     "metadata": {},
     "output_type": "execute_result"
    }
   ],
   "source": [
    "submission_model = pd.read_csv('/Users/axel/Desktop/hackaton/google-cloud-ncaa-march-madness-2020-division-1-mens-tournament/MSampleSubmissionStage1_2020.csv')\n",
    "submission_model.head()"
   ]
  },
  {
   "cell_type": "code",
   "execution_count": 21,
   "metadata": {},
   "outputs": [],
   "source": [
    "#sub = submission_model.copy()"
   ]
  },
  {
   "cell_type": "code",
   "execution_count": 22,
   "metadata": {},
   "outputs": [],
   "source": [
    "S_H_A = []\n",
    "for row in submission_model.iterrows():\n",
    "    S_H_A.append(list (map(int, row[1].ID.split('_'))))\n",
    "\n",
    "sub_2 = pd.DataFrame(S_H_A, columns = ['Season', 'Home', 'Away'])"
   ]
  },
  {
   "cell_type": "code",
   "execution_count": 23,
   "metadata": {},
   "outputs": [],
   "source": [
    "list_ids = (sub_2.Home.append(sub_2.Away)).unique()"
   ]
  },
  {
   "cell_type": "code",
   "execution_count": 24,
   "metadata": {},
   "outputs": [],
   "source": [
    "list_ids_2 = (df_concat.WTeamID_original.append(df_concat.LTeamID_original)).unique()"
   ]
  },
  {
   "cell_type": "code",
   "execution_count": null,
   "metadata": {},
   "outputs": [],
   "source": [
    "Elos = {}\n",
    "for season in df_concat.Season.unique():\n",
    "    Elos[season] = {}\n",
    "    for id in list_ids:\n",
    "        Elos[season][id] = return_elo_before_NCAA(df_concat, season, id)"
   ]
  },
  {
   "cell_type": "code",
   "execution_count": null,
   "metadata": {},
   "outputs": [],
   "source": [
    "Elos_2 = {}\n",
    "for season in df_concat.Season.unique():\n",
    "    Elos_2[season] = {}\n",
    "    for id in list_ids_2:\n",
    "        Elos_2[season][id] = return_elo_before_NCAA(df_concat, season, id)"
   ]
  },
  {
   "cell_type": "markdown",
   "metadata": {},
   "source": [
    "## Let's try using the rating in the pipeline \n",
    "\n",
    "(And see if we lose information compared to using the probability given by Elo's rating)"
   ]
  },
  {
   "cell_type": "code",
   "execution_count": 27,
   "metadata": {},
   "outputs": [],
   "source": [
    "df_random_forest = pd.DataFrame(columns = ['Season', 'TeamID', 'elo_score'])\n",
    "for season in df_concat.Season.unique():\n",
    "    row = [season]\n",
    "    for id_ in list_ids_2:\n",
    "        if(list(Elos_2[season][id_]) != []):\n",
    "            row = [season]\n",
    "            row.append(id_)\n",
    "            row.append(int(Elos_2[season][id_]))\n",
    "            df_random_forest.loc[len(df_random_forest)] = row"
   ]
  },
  {
   "cell_type": "code",
   "execution_count": 28,
   "metadata": {},
   "outputs": [
    {
     "data": {
      "text/html": [
       "<div>\n",
       "<style scoped>\n",
       "    .dataframe tbody tr th:only-of-type {\n",
       "        vertical-align: middle;\n",
       "    }\n",
       "\n",
       "    .dataframe tbody tr th {\n",
       "        vertical-align: top;\n",
       "    }\n",
       "\n",
       "    .dataframe thead th {\n",
       "        text-align: right;\n",
       "    }\n",
       "</style>\n",
       "<table border=\"1\" class=\"dataframe\">\n",
       "  <thead>\n",
       "    <tr style=\"text-align: right;\">\n",
       "      <th></th>\n",
       "      <th>Season</th>\n",
       "      <th>TeamID</th>\n",
       "      <th>elo_score</th>\n",
       "    </tr>\n",
       "  </thead>\n",
       "  <tbody>\n",
       "    <tr>\n",
       "      <th>0</th>\n",
       "      <td>1985</td>\n",
       "      <td>1228</td>\n",
       "      <td>1768</td>\n",
       "    </tr>\n",
       "    <tr>\n",
       "      <th>1</th>\n",
       "      <td>1985</td>\n",
       "      <td>1106</td>\n",
       "      <td>1430</td>\n",
       "    </tr>\n",
       "    <tr>\n",
       "      <th>2</th>\n",
       "      <td>1985</td>\n",
       "      <td>1112</td>\n",
       "      <td>1645</td>\n",
       "    </tr>\n",
       "    <tr>\n",
       "      <th>3</th>\n",
       "      <td>1985</td>\n",
       "      <td>1165</td>\n",
       "      <td>1446</td>\n",
       "    </tr>\n",
       "    <tr>\n",
       "      <th>4</th>\n",
       "      <td>1985</td>\n",
       "      <td>1192</td>\n",
       "      <td>1594</td>\n",
       "    </tr>\n",
       "  </tbody>\n",
       "</table>\n",
       "</div>"
      ],
      "text/plain": [
       "  Season TeamID elo_score\n",
       "0   1985   1228      1768\n",
       "1   1985   1106      1430\n",
       "2   1985   1112      1645\n",
       "3   1985   1165      1446\n",
       "4   1985   1192      1594"
      ]
     },
     "execution_count": 28,
     "metadata": {},
     "output_type": "execute_result"
    }
   ],
   "source": [
    "df_random_forest.head()"
   ]
  },
  {
   "cell_type": "code",
   "execution_count": 29,
   "metadata": {},
   "outputs": [],
   "source": [
    "df_random_forest.to_csv(\"/Users/axel/Desktop/hackaton/google-cloud-ncaa-march-madness-2020-division-1-mens-tournament/to_test_random_forest.csv\", index = False)"
   ]
  },
  {
   "cell_type": "code",
   "execution_count": 30,
   "metadata": {},
   "outputs": [],
   "source": [
    "df_random_forest = pd.read_csv(\"/Users/axel/Desktop/hackaton/google-cloud-ncaa-march-madness-2020-division-1-mens-tournament/to_test_random_forest.csv\")"
   ]
  },
  {
   "cell_type": "code",
   "execution_count": 31,
   "metadata": {},
   "outputs": [],
   "source": [
    "elo_Home = []\n",
    "elo_Away = []\n",
    "Pred = []\n",
    "\n",
    "for row in sub_2.iterrows():\n",
    "    elo_Home.append(int(Elos[row[1]['Season']][row[1]['Home']]))\n",
    "    elo_Away.append(int(Elos[row[1]['Season']][row[1]['Away']]))\n",
    "    w = expected_result(elo_Home[-1], elo_Away[-1])\n",
    "    Pred.append(w)\n",
    "   \n",
    "sub_2['elo_Home'] = elo_Home\n",
    "sub_2['elo_Away'] = elo_Away\n",
    "sub_2['Pred'] = Pred"
   ]
  },
  {
   "cell_type": "code",
   "execution_count": 32,
   "metadata": {},
   "outputs": [
    {
     "data": {
      "text/html": [
       "<div>\n",
       "<style scoped>\n",
       "    .dataframe tbody tr th:only-of-type {\n",
       "        vertical-align: middle;\n",
       "    }\n",
       "\n",
       "    .dataframe tbody tr th {\n",
       "        vertical-align: top;\n",
       "    }\n",
       "\n",
       "    .dataframe thead th {\n",
       "        text-align: right;\n",
       "    }\n",
       "</style>\n",
       "<table border=\"1\" class=\"dataframe\">\n",
       "  <thead>\n",
       "    <tr style=\"text-align: right;\">\n",
       "      <th></th>\n",
       "      <th>Season</th>\n",
       "      <th>Home</th>\n",
       "      <th>Away</th>\n",
       "      <th>elo_Home</th>\n",
       "      <th>elo_Away</th>\n",
       "      <th>Pred</th>\n",
       "    </tr>\n",
       "  </thead>\n",
       "  <tbody>\n",
       "    <tr>\n",
       "      <th>11385</th>\n",
       "      <td>2019</td>\n",
       "      <td>1449</td>\n",
       "      <td>1459</td>\n",
       "      <td>1788</td>\n",
       "      <td>1884</td>\n",
       "      <td>0.365257</td>\n",
       "    </tr>\n",
       "    <tr>\n",
       "      <th>11386</th>\n",
       "      <td>2019</td>\n",
       "      <td>1449</td>\n",
       "      <td>1463</td>\n",
       "      <td>1788</td>\n",
       "      <td>1685</td>\n",
       "      <td>0.644034</td>\n",
       "    </tr>\n",
       "    <tr>\n",
       "      <th>11387</th>\n",
       "      <td>2019</td>\n",
       "      <td>1458</td>\n",
       "      <td>1459</td>\n",
       "      <td>1838</td>\n",
       "      <td>1884</td>\n",
       "      <td>0.434185</td>\n",
       "    </tr>\n",
       "    <tr>\n",
       "      <th>11388</th>\n",
       "      <td>2019</td>\n",
       "      <td>1458</td>\n",
       "      <td>1463</td>\n",
       "      <td>1838</td>\n",
       "      <td>1685</td>\n",
       "      <td>0.706975</td>\n",
       "    </tr>\n",
       "    <tr>\n",
       "      <th>11389</th>\n",
       "      <td>2019</td>\n",
       "      <td>1459</td>\n",
       "      <td>1463</td>\n",
       "      <td>1884</td>\n",
       "      <td>1685</td>\n",
       "      <td>0.758695</td>\n",
       "    </tr>\n",
       "  </tbody>\n",
       "</table>\n",
       "</div>"
      ],
      "text/plain": [
       "       Season  Home  Away  elo_Home  elo_Away      Pred\n",
       "11385    2019  1449  1459      1788      1884  0.365257\n",
       "11386    2019  1449  1463      1788      1685  0.644034\n",
       "11387    2019  1458  1459      1838      1884  0.434185\n",
       "11388    2019  1458  1463      1838      1685  0.706975\n",
       "11389    2019  1459  1463      1884      1685  0.758695"
      ]
     },
     "execution_count": 32,
     "metadata": {},
     "output_type": "execute_result"
    }
   ],
   "source": [
    "sub_2.tail()"
   ]
  },
  {
   "cell_type": "code",
   "execution_count": 33,
   "metadata": {},
   "outputs": [
    {
     "data": {
      "text/html": [
       "<div>\n",
       "<style scoped>\n",
       "    .dataframe tbody tr th:only-of-type {\n",
       "        vertical-align: middle;\n",
       "    }\n",
       "\n",
       "    .dataframe tbody tr th {\n",
       "        vertical-align: top;\n",
       "    }\n",
       "\n",
       "    .dataframe thead th {\n",
       "        text-align: right;\n",
       "    }\n",
       "</style>\n",
       "<table border=\"1\" class=\"dataframe\">\n",
       "  <thead>\n",
       "    <tr style=\"text-align: right;\">\n",
       "      <th></th>\n",
       "      <th>ID</th>\n",
       "      <th>Pred</th>\n",
       "    </tr>\n",
       "  </thead>\n",
       "  <tbody>\n",
       "    <tr>\n",
       "      <th>0</th>\n",
       "      <td>2015_1107_1112</td>\n",
       "      <td>0.120683</td>\n",
       "    </tr>\n",
       "    <tr>\n",
       "      <th>1</th>\n",
       "      <td>2015_1107_1116</td>\n",
       "      <td>0.272028</td>\n",
       "    </tr>\n",
       "    <tr>\n",
       "      <th>2</th>\n",
       "      <td>2015_1107_1124</td>\n",
       "      <td>0.299023</td>\n",
       "    </tr>\n",
       "    <tr>\n",
       "      <th>3</th>\n",
       "      <td>2015_1107_1125</td>\n",
       "      <td>0.558731</td>\n",
       "    </tr>\n",
       "    <tr>\n",
       "      <th>4</th>\n",
       "      <td>2015_1107_1129</td>\n",
       "      <td>0.400603</td>\n",
       "    </tr>\n",
       "  </tbody>\n",
       "</table>\n",
       "</div>"
      ],
      "text/plain": [
       "               ID      Pred\n",
       "0  2015_1107_1112  0.120683\n",
       "1  2015_1107_1116  0.272028\n",
       "2  2015_1107_1124  0.299023\n",
       "3  2015_1107_1125  0.558731\n",
       "4  2015_1107_1129  0.400603"
      ]
     },
     "execution_count": 33,
     "metadata": {},
     "output_type": "execute_result"
    }
   ],
   "source": [
    "submission_model['Pred'] = Pred\n",
    "submission_model.head()"
   ]
  },
  {
   "cell_type": "code",
   "execution_count": 34,
   "metadata": {},
   "outputs": [],
   "source": [
    "submission_model.to_csv(\"/Users/axel/Desktop/hackaton/google-cloud-ncaa-march-madness-2020-division-1-mens-tournament/to_submit.csv\", index = False)"
   ]
  },
  {
   "cell_type": "markdown",
   "metadata": {},
   "source": [
    "## Test with Claire's data and logistic  regression"
   ]
  },
  {
   "cell_type": "code",
   "execution_count": 35,
   "metadata": {},
   "outputs": [],
   "source": [
    "from sklearn.linear_model import LogisticRegression"
   ]
  },
  {
   "cell_type": "code",
   "execution_count": 65,
   "metadata": {},
   "outputs": [
    {
     "data": {
      "text/html": [
       "<div>\n",
       "<style scoped>\n",
       "    .dataframe tbody tr th:only-of-type {\n",
       "        vertical-align: middle;\n",
       "    }\n",
       "\n",
       "    .dataframe tbody tr th {\n",
       "        vertical-align: top;\n",
       "    }\n",
       "\n",
       "    .dataframe thead th {\n",
       "        text-align: right;\n",
       "    }\n",
       "</style>\n",
       "<table border=\"1\" class=\"dataframe\">\n",
       "  <thead>\n",
       "    <tr style=\"text-align: right;\">\n",
       "      <th></th>\n",
       "      <th>Unnamed: 0</th>\n",
       "      <th>victoire</th>\n",
       "      <th>Season</th>\n",
       "      <th>TeamID_1</th>\n",
       "      <th>TeamID_2</th>\n",
       "      <th>elo_1</th>\n",
       "      <th>elo_2</th>\n",
       "      <th>p_win_elo</th>\n",
       "      <th>Nombre_victoires_1</th>\n",
       "      <th>Nombre_défaites_1</th>\n",
       "      <th>...</th>\n",
       "      <th>Pourcentage_Victoire_2</th>\n",
       "      <th>Buts_moyens_encaissés_2</th>\n",
       "      <th>Buts_moyens_marqués_2</th>\n",
       "      <th>Moyenne_diff_score_2</th>\n",
       "      <th>Pourcentage_V_terrain_adverse_2</th>\n",
       "      <th>Evolution_2_Last_years_2</th>\n",
       "      <th>Qualité_défense_2</th>\n",
       "      <th>Fools_2</th>\n",
       "      <th>Blocks_2</th>\n",
       "      <th>Steals_2</th>\n",
       "    </tr>\n",
       "  </thead>\n",
       "  <tbody>\n",
       "    <tr>\n",
       "      <th>0</th>\n",
       "      <td>0</td>\n",
       "      <td>1.0</td>\n",
       "      <td>1985.0</td>\n",
       "      <td>1112.0</td>\n",
       "      <td>1223.0</td>\n",
       "      <td>1500.0</td>\n",
       "      <td>1500.0</td>\n",
       "      <td>0.500000</td>\n",
       "      <td>18.0</td>\n",
       "      <td>9.0</td>\n",
       "      <td>...</td>\n",
       "      <td>0.472222</td>\n",
       "      <td>59.611111</td>\n",
       "      <td>57.444444</td>\n",
       "      <td>-2.166667</td>\n",
       "      <td>0.444444</td>\n",
       "      <td>-0.211988</td>\n",
       "      <td>0.168240</td>\n",
       "      <td>12.916667</td>\n",
       "      <td>1.888889</td>\n",
       "      <td>4.527778</td>\n",
       "    </tr>\n",
       "    <tr>\n",
       "      <th>1</th>\n",
       "      <td>1</td>\n",
       "      <td>1.0</td>\n",
       "      <td>1985.0</td>\n",
       "      <td>1228.0</td>\n",
       "      <td>1226.0</td>\n",
       "      <td>1532.0</td>\n",
       "      <td>1500.0</td>\n",
       "      <td>0.545922</td>\n",
       "      <td>23.0</td>\n",
       "      <td>24.0</td>\n",
       "      <td>...</td>\n",
       "      <td>0.370370</td>\n",
       "      <td>60.259259</td>\n",
       "      <td>55.703704</td>\n",
       "      <td>-4.555556</td>\n",
       "      <td>0.333333</td>\n",
       "      <td>-0.155945</td>\n",
       "      <td>0.163141</td>\n",
       "      <td>7.518519</td>\n",
       "      <td>1.592593</td>\n",
       "      <td>2.703704</td>\n",
       "    </tr>\n",
       "    <tr>\n",
       "      <th>2</th>\n",
       "      <td>2</td>\n",
       "      <td>0.0</td>\n",
       "      <td>1985.0</td>\n",
       "      <td>1268.0</td>\n",
       "      <td>1242.0</td>\n",
       "      <td>1500.0</td>\n",
       "      <td>1500.0</td>\n",
       "      <td>0.500000</td>\n",
       "      <td>22.0</td>\n",
       "      <td>22.0</td>\n",
       "      <td>...</td>\n",
       "      <td>0.638889</td>\n",
       "      <td>68.583333</td>\n",
       "      <td>64.250000</td>\n",
       "      <td>-4.333333</td>\n",
       "      <td>0.466667</td>\n",
       "      <td>0.247585</td>\n",
       "      <td>0.188171</td>\n",
       "      <td>10.111111</td>\n",
       "      <td>1.722222</td>\n",
       "      <td>4.666667</td>\n",
       "    </tr>\n",
       "    <tr>\n",
       "      <th>3</th>\n",
       "      <td>3</td>\n",
       "      <td>1.0</td>\n",
       "      <td>1985.0</td>\n",
       "      <td>1260.0</td>\n",
       "      <td>1133.0</td>\n",
       "      <td>1500.0</td>\n",
       "      <td>1500.0</td>\n",
       "      <td>0.500000</td>\n",
       "      <td>25.0</td>\n",
       "      <td>19.0</td>\n",
       "      <td>...</td>\n",
       "      <td>0.571429</td>\n",
       "      <td>68.785714</td>\n",
       "      <td>71.464286</td>\n",
       "      <td>2.678571</td>\n",
       "      <td>0.333333</td>\n",
       "      <td>0.104762</td>\n",
       "      <td>0.209300</td>\n",
       "      <td>23.392857</td>\n",
       "      <td>5.428571</td>\n",
       "      <td>7.214286</td>\n",
       "    </tr>\n",
       "    <tr>\n",
       "      <th>4</th>\n",
       "      <td>4</td>\n",
       "      <td>1.0</td>\n",
       "      <td>1985.0</td>\n",
       "      <td>1153.0</td>\n",
       "      <td>1184.0</td>\n",
       "      <td>1500.0</td>\n",
       "      <td>1500.0</td>\n",
       "      <td>0.500000</td>\n",
       "      <td>14.0</td>\n",
       "      <td>29.0</td>\n",
       "      <td>...</td>\n",
       "      <td>0.387097</td>\n",
       "      <td>69.354839</td>\n",
       "      <td>68.935484</td>\n",
       "      <td>-0.419355</td>\n",
       "      <td>0.333333</td>\n",
       "      <td>0.016726</td>\n",
       "      <td>0.201894</td>\n",
       "      <td>18.161290</td>\n",
       "      <td>3.580645</td>\n",
       "      <td>5.225806</td>\n",
       "    </tr>\n",
       "  </tbody>\n",
       "</table>\n",
       "<p>5 rows × 34 columns</p>\n",
       "</div>"
      ],
      "text/plain": [
       "   Unnamed: 0  victoire  Season  TeamID_1  TeamID_2   elo_1   elo_2  \\\n",
       "0           0       1.0  1985.0    1112.0    1223.0  1500.0  1500.0   \n",
       "1           1       1.0  1985.0    1228.0    1226.0  1532.0  1500.0   \n",
       "2           2       0.0  1985.0    1268.0    1242.0  1500.0  1500.0   \n",
       "3           3       1.0  1985.0    1260.0    1133.0  1500.0  1500.0   \n",
       "4           4       1.0  1985.0    1153.0    1184.0  1500.0  1500.0   \n",
       "\n",
       "   p_win_elo  Nombre_victoires_1  Nombre_défaites_1  ...  \\\n",
       "0   0.500000                18.0                9.0  ...   \n",
       "1   0.545922                23.0               24.0  ...   \n",
       "2   0.500000                22.0               22.0  ...   \n",
       "3   0.500000                25.0               19.0  ...   \n",
       "4   0.500000                14.0               29.0  ...   \n",
       "\n",
       "   Pourcentage_Victoire_2  Buts_moyens_encaissés_2  Buts_moyens_marqués_2  \\\n",
       "0                0.472222                59.611111              57.444444   \n",
       "1                0.370370                60.259259              55.703704   \n",
       "2                0.638889                68.583333              64.250000   \n",
       "3                0.571429                68.785714              71.464286   \n",
       "4                0.387097                69.354839              68.935484   \n",
       "\n",
       "   Moyenne_diff_score_2  Pourcentage_V_terrain_adverse_2  \\\n",
       "0             -2.166667                         0.444444   \n",
       "1             -4.555556                         0.333333   \n",
       "2             -4.333333                         0.466667   \n",
       "3              2.678571                         0.333333   \n",
       "4             -0.419355                         0.333333   \n",
       "\n",
       "   Evolution_2_Last_years_2  Qualité_défense_2    Fools_2  Blocks_2  Steals_2  \n",
       "0                 -0.211988           0.168240  12.916667  1.888889  4.527778  \n",
       "1                 -0.155945           0.163141   7.518519  1.592593  2.703704  \n",
       "2                  0.247585           0.188171  10.111111  1.722222  4.666667  \n",
       "3                  0.104762           0.209300  23.392857  5.428571  7.214286  \n",
       "4                  0.016726           0.201894  18.161290  3.580645  5.225806  \n",
       "\n",
       "[5 rows x 34 columns]"
      ]
     },
     "execution_count": 65,
     "metadata": {},
     "output_type": "execute_result"
    }
   ],
   "source": [
    "df_Claire = pd.read_csv('/Users/axel/Desktop/hackaton/google-cloud-ncaa-march-madness-2020-division-1-mens-tournament/features_season_claire.csv')\n",
    "df_train = pd.read_csv('avec_claire_et_elo.csv')\n",
    "df_train.head()"
   ]
  },
  {
   "cell_type": "code",
   "execution_count": 66,
   "metadata": {},
   "outputs": [],
   "source": [
    "df_train = df_train.drop(['Unnamed: 0', 'p_win_elo', 'elo_1', 'elo_2'], axis = 1)\n",
    "\n",
    "df_tr = df_train[df_train['Season'] < 2015]\n",
    "df_test = df_train[df_train['Season'] >= 2015]\n",
    "\n",
    "y_train = df_tr.victoire\n",
    "y_test = df_test.victoire\n",
    "X_train = df_tr.drop(['victoire', 'Season', 'TeamID_1', 'TeamID_2'], axis = 1)\n",
    "X_test = df_test.drop(['victoire', 'Season', 'TeamID_1', 'TeamID_2'], axis = 1)"
   ]
  },
  {
   "cell_type": "code",
   "execution_count": 67,
   "metadata": {},
   "outputs": [
    {
     "name": "stdout",
     "output_type": "stream",
     "text": [
      "RMSE: 0.421195\n",
      "Log Loss: 0.529139\n",
      "Score: 0.732725\n"
     ]
    }
   ],
   "source": [
    "clf = LogisticRegression(random_state=0, solver='lbfgs', max_iter = 1000).fit(X_train, y_train)\n",
    "\n",
    "y_pred = clf.predict_proba(X_test)[:,1]\n",
    "\n",
    "rmse = np.sqrt(mean_squared_error(y_test, y_pred))\n",
    "logloss = log_loss(y_test, y_pred)\n",
    "\n",
    "print(\"RMSE: %f\" % (rmse))\n",
    "print(\"Log Loss: %f\" % (logloss))\n",
    "print(\"Score: %f\" % (clf.score(X_test, y_test)))"
   ]
  },
  {
   "cell_type": "code",
   "execution_count": 68,
   "metadata": {},
   "outputs": [],
   "source": [
    "Pred = []\n",
    "count = 0\n",
    "\n",
    "for row in sub_2.iterrows():\n",
    "    season = row[1].Season\n",
    "    Team_1 = row[1]['Home']\n",
    "    Team_2 = row[1]['Away']\n",
    "    elo_1 = int(Elos_2[row[1]['Season']][row[1]['Home']])\n",
    "    elo_2 = int(Elos_2[row[1]['Season']][row[1]['Away']])\n",
    "    p_win_elo = expected_result(elo_1, elo_2)\n",
    "    data_team_1 = df_Claire[(df_Claire['Season'] == season) & (df_Claire['TeamID'] == Team_1)].drop(['TeamID', 'Season'], axis = 1).values\n",
    "    data_team_2 = df_Claire[(df_Claire['Season'] == season) & (df_Claire['TeamID'] == Team_2)].drop(['TeamID', 'Season'], axis = 1).values\n",
    "    #Some data is missing from Claire's dataset\n",
    "    if( len(data_team_1) > 0 and len(data_team_2) > 0):\n",
    "        x = [ list(data_team_1[0]) + list(data_team_2[0])] #[elo_1, elo_2, p_win_elo] +\n",
    "        y = clf.predict_proba(x)[:,1][0]\n",
    "    else:\n",
    "        count += 1\n",
    "        y = p_win_elo\n",
    "    Pred.append(y)\n",
    "    \n",
    "sub_2['Pred'] = Pred"
   ]
  },
  {
   "cell_type": "code",
   "execution_count": 69,
   "metadata": {},
   "outputs": [],
   "source": [
    "submission_model['Pred'] = Pred"
   ]
  },
  {
   "cell_type": "code",
   "execution_count": 70,
   "metadata": {},
   "outputs": [],
   "source": [
    "submission_model.to_csv('test_2_elo_claire', index = False)"
   ]
  },
  {
   "cell_type": "markdown",
   "metadata": {},
   "source": [
    "## Test with Paul's data"
   ]
  },
  {
   "cell_type": "code",
   "execution_count": 73,
   "metadata": {},
   "outputs": [
    {
     "data": {
      "text/html": [
       "<div>\n",
       "<style scoped>\n",
       "    .dataframe tbody tr th:only-of-type {\n",
       "        vertical-align: middle;\n",
       "    }\n",
       "\n",
       "    .dataframe tbody tr th {\n",
       "        vertical-align: top;\n",
       "    }\n",
       "\n",
       "    .dataframe thead th {\n",
       "        text-align: right;\n",
       "    }\n",
       "</style>\n",
       "<table border=\"1\" class=\"dataframe\">\n",
       "  <thead>\n",
       "    <tr style=\"text-align: right;\">\n",
       "      <th></th>\n",
       "      <th>Season</th>\n",
       "      <th>TeamID</th>\n",
       "      <th>Played</th>\n",
       "      <th>W</th>\n",
       "      <th>L</th>\n",
       "      <th>Win rate</th>\n",
       "      <th>Seed</th>\n",
       "      <th>Mean score</th>\n",
       "    </tr>\n",
       "  </thead>\n",
       "  <tbody>\n",
       "    <tr>\n",
       "      <th>0</th>\n",
       "      <td>1985</td>\n",
       "      <td>1101</td>\n",
       "      <td>0</td>\n",
       "      <td>0</td>\n",
       "      <td>0</td>\n",
       "      <td>0.000000</td>\n",
       "      <td>0</td>\n",
       "      <td>NaN</td>\n",
       "    </tr>\n",
       "    <tr>\n",
       "      <th>1</th>\n",
       "      <td>1985</td>\n",
       "      <td>1102</td>\n",
       "      <td>24</td>\n",
       "      <td>5</td>\n",
       "      <td>19</td>\n",
       "      <td>0.208333</td>\n",
       "      <td>0</td>\n",
       "      <td>66.000000</td>\n",
       "    </tr>\n",
       "    <tr>\n",
       "      <th>2</th>\n",
       "      <td>1985</td>\n",
       "      <td>1103</td>\n",
       "      <td>23</td>\n",
       "      <td>9</td>\n",
       "      <td>14</td>\n",
       "      <td>0.391304</td>\n",
       "      <td>0</td>\n",
       "      <td>62.682540</td>\n",
       "    </tr>\n",
       "    <tr>\n",
       "      <th>3</th>\n",
       "      <td>1985</td>\n",
       "      <td>1104</td>\n",
       "      <td>30</td>\n",
       "      <td>21</td>\n",
       "      <td>9</td>\n",
       "      <td>0.700000</td>\n",
       "      <td>7</td>\n",
       "      <td>66.103175</td>\n",
       "    </tr>\n",
       "    <tr>\n",
       "      <th>4</th>\n",
       "      <td>1985</td>\n",
       "      <td>1105</td>\n",
       "      <td>0</td>\n",
       "      <td>0</td>\n",
       "      <td>0</td>\n",
       "      <td>0.000000</td>\n",
       "      <td>0</td>\n",
       "      <td>NaN</td>\n",
       "    </tr>\n",
       "  </tbody>\n",
       "</table>\n",
       "</div>"
      ],
      "text/plain": [
       "   Season  TeamID  Played   W   L  Win rate  Seed  Mean score\n",
       "0    1985    1101       0   0   0  0.000000     0         NaN\n",
       "1    1985    1102      24   5  19  0.208333     0   66.000000\n",
       "2    1985    1103      23   9  14  0.391304     0   62.682540\n",
       "3    1985    1104      30  21   9  0.700000     7   66.103175\n",
       "4    1985    1105       0   0   0  0.000000     0         NaN"
      ]
     },
     "execution_count": 73,
     "metadata": {},
     "output_type": "execute_result"
    }
   ],
   "source": [
    "df_Paul = pd.read_csv('stats_v1.csv')\n",
    "df_Paul = df_Paul.drop(['Unnamed: 0'], axis = 1)\n",
    "df_Paul.head()"
   ]
  },
  {
   "cell_type": "code",
   "execution_count": null,
   "metadata": {},
   "outputs": [],
   "source": [
    "df_train = pd.DataFrame(columns = ['victoire', 'Season', 'TeamID_1', 'TeamID_2', 'elo_1', 'elo_2', 'p_win_elo',  'Played_1', 'W_1','L_1', 'Win Rate_1', 'Seed_1', 'Mean score_1','Played_2', 'W_2','L_2', 'Win Rate_2', 'Seed_2', 'Mean score_2'])\n",
    "\n",
    "for row in df_concat.iterrows():\n",
    "    \n",
    "    season = row[1]['Season']\n",
    "    \n",
    "    if(rd.random() > 0.5):\n",
    "        Team_1 = row[1]['WTeamID_original']\n",
    "        Team_2 = row[1]['LTeamID_original']\n",
    "        elo_1 = row[1].w_elo_before_game\n",
    "        elo_2 = row[1].l_elo_before_game\n",
    "        victoire = 1\n",
    "\n",
    "    else:\n",
    "        Team_1 = row[1]['LTeamID_original']\n",
    "        Team_2 = row[1]['WTeamID_original']\n",
    "        elo_1 = row[1].l_elo_before_game\n",
    "        elo_2 = row[1].w_elo_before_game\n",
    "        victoire = 0\n",
    "    \n",
    "    p_win_elo = expected_result(elo_1, elo_2)\n",
    "        \n",
    "    data_team_1 = df_Paul[(df_Paul['Season'] == season) & (df_Paul['TeamID'] == Team_1)].drop(['TeamID', 'Season'], axis = 1).values\n",
    "    data_team_2 = df_Paul[(df_Paul['Season'] == season) & (df_Paul['TeamID'] == Team_2)].drop(['TeamID', 'Season'], axis = 1).values\n",
    "\n",
    "    if( len(data_team_1) > 0 and len(data_team_2) > 0):\n",
    "        features = [victoire, season, Team_1, Team_2, elo_1, elo_2, p_win_elo] + list(data_team_1[0]) + list(data_team_2[0])\n",
    "        df_train.loc[len(df_train)] = features \n"
   ]
  },
  {
   "cell_type": "code",
   "execution_count": null,
   "metadata": {},
   "outputs": [],
   "source": [
    "df_train.to_csv('Data_Paul_elo.csv', index = False)\n",
    "df_train = pd.read_csv('Data_Paul_elo.csv')\n",
    "df_train.head()"
   ]
  },
  {
   "cell_type": "code",
   "execution_count": null,
   "metadata": {},
   "outputs": [],
   "source": [
    "df_train = df_train.drop(['Unnamed: 0', 'p_win_elo', 'elo_1', 'elo_2'], axis = 1)"
   ]
  },
  {
   "cell_type": "code",
   "execution_count": null,
   "metadata": {},
   "outputs": [],
   "source": [
    "df_tr = df_train[df_train['Season'] < 2015]\n",
    "df_test = df_train[df_train['Season'] >= 2015]\n",
    "\n",
    "y_train = df_tr.victoire\n",
    "y_test = df_test.victoire\n",
    "X_train = df_tr.drop(['victoire', 'Season', 'TeamID_1', 'TeamID_2'], axis = 1)\n",
    "X_test = df_test.drop(['victoire', 'Season', 'TeamID_1', 'TeamID_2'], axis = 1)"
   ]
  },
  {
   "cell_type": "code",
   "execution_count": null,
   "metadata": {},
   "outputs": [],
   "source": [
    "clf = LogisticRegression(random_state=0).fit(X_train, y_train)"
   ]
  },
  {
   "cell_type": "code",
   "execution_count": null,
   "metadata": {},
   "outputs": [],
   "source": [
    "y_pred = clf.predict_proba(X_test)[:,1]"
   ]
  },
  {
   "cell_type": "code",
   "execution_count": null,
   "metadata": {},
   "outputs": [],
   "source": [
    "rmse = np.sqrt(mean_squared_error(y_test, y_pred))\n",
    "logloss = log_loss(y_test, y_pred)\n",
    "\n",
    "print(\"RMSE: %f\" % (rmse))\n",
    "print(\"Log Loss: %f\" % (logloss))\n",
    "print(\"Score: %f\" % (clf.score(X_test, y_test)))"
   ]
  },
  {
   "cell_type": "markdown",
   "metadata": {},
   "source": [
    "# Let's try combining the results from the pipeline with Elo's"
   ]
  },
  {
   "cell_type": "code",
   "execution_count": 76,
   "metadata": {},
   "outputs": [
    {
     "data": {
      "text/html": [
       "<div>\n",
       "<style scoped>\n",
       "    .dataframe tbody tr th:only-of-type {\n",
       "        vertical-align: middle;\n",
       "    }\n",
       "\n",
       "    .dataframe tbody tr th {\n",
       "        vertical-align: top;\n",
       "    }\n",
       "\n",
       "    .dataframe thead th {\n",
       "        text-align: right;\n",
       "    }\n",
       "</style>\n",
       "<table border=\"1\" class=\"dataframe\">\n",
       "  <thead>\n",
       "    <tr style=\"text-align: right;\">\n",
       "      <th></th>\n",
       "      <th>ID</th>\n",
       "      <th>Pred</th>\n",
       "    </tr>\n",
       "  </thead>\n",
       "  <tbody>\n",
       "    <tr>\n",
       "      <th>0</th>\n",
       "      <td>2015_1107_1112</td>\n",
       "      <td>0.170</td>\n",
       "    </tr>\n",
       "    <tr>\n",
       "      <th>1</th>\n",
       "      <td>2015_1107_1116</td>\n",
       "      <td>0.272</td>\n",
       "    </tr>\n",
       "    <tr>\n",
       "      <th>2</th>\n",
       "      <td>2015_1107_1124</td>\n",
       "      <td>0.382</td>\n",
       "    </tr>\n",
       "    <tr>\n",
       "      <th>3</th>\n",
       "      <td>2015_1107_1125</td>\n",
       "      <td>0.500</td>\n",
       "    </tr>\n",
       "    <tr>\n",
       "      <th>4</th>\n",
       "      <td>2015_1107_1129</td>\n",
       "      <td>0.448</td>\n",
       "    </tr>\n",
       "  </tbody>\n",
       "</table>\n",
       "</div>"
      ],
      "text/plain": [
       "               ID   Pred\n",
       "0  2015_1107_1112  0.170\n",
       "1  2015_1107_1116  0.272\n",
       "2  2015_1107_1124  0.382\n",
       "3  2015_1107_1125  0.500\n",
       "4  2015_1107_1129  0.448"
      ]
     },
     "execution_count": 76,
     "metadata": {},
     "output_type": "execute_result"
    }
   ],
   "source": [
    "df_Paul = pd.read_csv('sub_250_statsv1_seasons.csv')\n",
    "df_Paul.head()"
   ]
  },
  {
   "cell_type": "code",
   "execution_count": 77,
   "metadata": {},
   "outputs": [
    {
     "data": {
      "text/html": [
       "<div>\n",
       "<style scoped>\n",
       "    .dataframe tbody tr th:only-of-type {\n",
       "        vertical-align: middle;\n",
       "    }\n",
       "\n",
       "    .dataframe tbody tr th {\n",
       "        vertical-align: top;\n",
       "    }\n",
       "\n",
       "    .dataframe thead th {\n",
       "        text-align: right;\n",
       "    }\n",
       "</style>\n",
       "<table border=\"1\" class=\"dataframe\">\n",
       "  <thead>\n",
       "    <tr style=\"text-align: right;\">\n",
       "      <th></th>\n",
       "      <th>ID</th>\n",
       "      <th>Pred</th>\n",
       "    </tr>\n",
       "  </thead>\n",
       "  <tbody>\n",
       "    <tr>\n",
       "      <th>0</th>\n",
       "      <td>2015_1107_1112</td>\n",
       "      <td>0.225917</td>\n",
       "    </tr>\n",
       "    <tr>\n",
       "      <th>1</th>\n",
       "      <td>2015_1107_1116</td>\n",
       "      <td>0.442802</td>\n",
       "    </tr>\n",
       "    <tr>\n",
       "      <th>2</th>\n",
       "      <td>2015_1107_1124</td>\n",
       "      <td>0.589420</td>\n",
       "    </tr>\n",
       "    <tr>\n",
       "      <th>3</th>\n",
       "      <td>2015_1107_1125</td>\n",
       "      <td>0.634590</td>\n",
       "    </tr>\n",
       "    <tr>\n",
       "      <th>4</th>\n",
       "      <td>2015_1107_1129</td>\n",
       "      <td>0.568520</td>\n",
       "    </tr>\n",
       "  </tbody>\n",
       "</table>\n",
       "</div>"
      ],
      "text/plain": [
       "               ID      Pred\n",
       "0  2015_1107_1112  0.225917\n",
       "1  2015_1107_1116  0.442802\n",
       "2  2015_1107_1124  0.589420\n",
       "3  2015_1107_1125  0.634590\n",
       "4  2015_1107_1129  0.568520"
      ]
     },
     "execution_count": 77,
     "metadata": {},
     "output_type": "execute_result"
    }
   ],
   "source": [
    "submission_model.head()"
   ]
  },
  {
   "cell_type": "code",
   "execution_count": 78,
   "metadata": {},
   "outputs": [],
   "source": [
    "def mix_both(df_1, df_2, p):\n",
    "    df_3 = pd.DataFrame(columns = ['ID', 'Pred'])\n",
    "    for id_ in df_1.ID.unique():\n",
    "        pred = p * float(df_1[df_1['ID'] == id_].Pred) + (1 - p) * float(df_2[df_2['ID'] == id_].Pred)\n",
    "        row = [id_, pred]\n",
    "        df_3.loc[len(df_3)] = row\n",
    "    return(df_3)"
   ]
  },
  {
   "cell_type": "code",
   "execution_count": 79,
   "metadata": {},
   "outputs": [],
   "source": [
    "df_combined = mix_both(submission_model, df_Paul, 0.8)\n",
    "df_combined.to_csv('combined_elo_Paul.csv', index = False)"
   ]
  },
  {
   "cell_type": "markdown",
   "metadata": {},
   "source": [
    "### Gridsearch for the best combination"
   ]
  },
  {
   "cell_type": "code",
   "execution_count": null,
   "metadata": {},
   "outputs": [],
   "source": [
    "for j in range(742, 760):\n",
    "    k = j/1000\n",
    "    \n",
    "    if(k != 0.75 and j%2 == 0):\n",
    "        print('\\n test avec  ', k)\n",
    "        df_combined = mix_both(submission_model, df_Paul, k)\n",
    "        df_combined.to_csv('combined_elo_Paul_' + str(k) +'.csv', index = False)"
   ]
  },
  {
   "cell_type": "markdown",
   "metadata": {},
   "source": [
    "## Data for the Pipeline"
   ]
  },
  {
   "cell_type": "code",
   "execution_count": 275,
   "metadata": {},
   "outputs": [],
   "source": [
    "Elos_pp = pd.DataFrame(columns = ['Season', 'TeamID', 'elo_score'])\n",
    "\n",
    "for season in df_concat.Season.unique():\n",
    "    for id_ in list_ids_2:\n",
    "        if(len(list( Elos_2[season][id_])) > 0):\n",
    "            elo = int(Elos_2[season][id_])\n",
    "        else:\n",
    "            elo = 1500\n",
    "        row = [season, id_, elo]\n",
    "        Elos_pp.loc[len(Elos_pp)] = row"
   ]
  },
  {
   "cell_type": "code",
   "execution_count": 276,
   "metadata": {},
   "outputs": [
    {
     "data": {
      "text/html": [
       "<div>\n",
       "<style scoped>\n",
       "    .dataframe tbody tr th:only-of-type {\n",
       "        vertical-align: middle;\n",
       "    }\n",
       "\n",
       "    .dataframe tbody tr th {\n",
       "        vertical-align: top;\n",
       "    }\n",
       "\n",
       "    .dataframe thead th {\n",
       "        text-align: right;\n",
       "    }\n",
       "</style>\n",
       "<table border=\"1\" class=\"dataframe\">\n",
       "  <thead>\n",
       "    <tr style=\"text-align: right;\">\n",
       "      <th></th>\n",
       "      <th>Season</th>\n",
       "      <th>TeamID</th>\n",
       "      <th>elo_score</th>\n",
       "    </tr>\n",
       "  </thead>\n",
       "  <tbody>\n",
       "    <tr>\n",
       "      <th>0</th>\n",
       "      <td>1985</td>\n",
       "      <td>1228</td>\n",
       "      <td>1768</td>\n",
       "    </tr>\n",
       "    <tr>\n",
       "      <th>1</th>\n",
       "      <td>1985</td>\n",
       "      <td>1106</td>\n",
       "      <td>1430</td>\n",
       "    </tr>\n",
       "    <tr>\n",
       "      <th>2</th>\n",
       "      <td>1985</td>\n",
       "      <td>1112</td>\n",
       "      <td>1645</td>\n",
       "    </tr>\n",
       "    <tr>\n",
       "      <th>3</th>\n",
       "      <td>1985</td>\n",
       "      <td>1165</td>\n",
       "      <td>1446</td>\n",
       "    </tr>\n",
       "    <tr>\n",
       "      <th>4</th>\n",
       "      <td>1985</td>\n",
       "      <td>1192</td>\n",
       "      <td>1594</td>\n",
       "    </tr>\n",
       "  </tbody>\n",
       "</table>\n",
       "</div>"
      ],
      "text/plain": [
       "  Season TeamID elo_score\n",
       "0   1985   1228      1768\n",
       "1   1985   1106      1430\n",
       "2   1985   1112      1645\n",
       "3   1985   1165      1446\n",
       "4   1985   1192      1594"
      ]
     },
     "execution_count": 276,
     "metadata": {},
     "output_type": "execute_result"
    }
   ],
   "source": [
    "Elos_pp.head()"
   ]
  },
  {
   "cell_type": "code",
   "execution_count": 277,
   "metadata": {},
   "outputs": [],
   "source": [
    "Elos_pp.to_csv('Elos_pipeline.csv', index = False)"
   ]
  }
 ],
 "metadata": {
  "kernelspec": {
   "display_name": "Python 3",
   "language": "python",
   "name": "python3"
  },
  "language_info": {
   "codemirror_mode": {
    "name": "ipython",
    "version": 3
   },
   "file_extension": ".py",
   "mimetype": "text/x-python",
   "name": "python",
   "nbconvert_exporter": "python",
   "pygments_lexer": "ipython3",
   "version": "3.7.3"
  }
 },
 "nbformat": 4,
 "nbformat_minor": 2
}
