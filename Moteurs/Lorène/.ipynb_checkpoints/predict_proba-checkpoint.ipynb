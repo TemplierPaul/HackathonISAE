{
 "cells": [
  {
   "cell_type": "code",
   "execution_count": null,
   "metadata": {},
   "outputs": [],
   "source": [
    "def predict_proba(M,y,p):\n",
    "    #M = [model1,model2,model3,modelG]\n",
    "    \n",
    "    #casse/pas casse dans les 100 prochains cycles\n",
    "    y = [model.predict(y) for model in M]\n",
    "    \n",
    "    #proba de casse dans les 100 prochains cycles\n",
    "    yp = [model.predict_proba(y)[1] for model in M]\n",
    "    \n",
    "    y_pred_p = []\n",
    "    \n",
    "    seuil = 0.5;\n",
    "    \n",
    "    for i in range(len(y)):\n",
    "        if max(yp[i,:])>=seuil:\n",
    "            y_pred_p.append(max(yp[i,:]))\n",
    "        else:\n",
    "            y_pred_p.append(sum([p[k] * yp[i,k] for k in range(4)]))\n",
    "            \n",
    "        y_pred = [int(y_pred_p[i] >= 0.5) for i in range(len(y))]\n",
    "        \n",
    "    return(y_pred)\n",
    "    \n",
    "    "
   ]
  }
 ],
 "metadata": {
  "kernelspec": {
   "display_name": "Python 3",
   "language": "python",
   "name": "python3"
  },
  "language_info": {
   "codemirror_mode": {
    "name": "ipython",
    "version": 3
   },
   "file_extension": ".py",
   "mimetype": "text/x-python",
   "name": "python",
   "nbconvert_exporter": "python",
   "pygments_lexer": "ipython3",
   "version": "3.7.4"
  }
 },
 "nbformat": 4,
 "nbformat_minor": 2
}
